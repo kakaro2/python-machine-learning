{
  "nbformat": 4,
  "nbformat_minor": 5,
  "metadata": {
    "colab": {
      "name": "구내식당_식수인원2.ipynb",
      "provenance": [],
      "collapsed_sections": []
    },
    "kernelspec": {
      "display_name": "Python 3",
      "language": "python",
      "name": "python3"
    },
    "language_info": {
      "codemirror_mode": {
        "name": "ipython",
        "version": 3
      },
      "file_extension": ".py",
      "mimetype": "text/x-python",
      "name": "python",
      "nbconvert_exporter": "python",
      "pygments_lexer": "ipython3",
      "version": "3.7.3"
    }
  },
  "cells": [
    {
      "cell_type": "markdown",
      "metadata": {
        "id": "e183bac5"
      },
      "source": [
        "# 구내식당 식수 인원 예측 AI\n",
        "- 데이콘 혼자해보기2\n",
        "- 시각화도구(matplotlib, seaborn, plotly)\n",
        "- 데이터분석도구(pandas, numpy)\n",
        "- 머신러닝 도구(sklearn, LightGBM, Grid Search, k-fold 교차검증)\n",
        "- LightGBM으로 했을때 71점 나왔습니다 ㅎㅎ"
      ],
      "id": "e183bac5"
    },
    {
      "cell_type": "code",
      "metadata": {
        "id": "4c06cf1a"
      },
      "source": [
        "import numpy as np\n",
        "import pandas as pd\n",
        "import matplotlib.pyplot as plt\n",
        "from matplotlib import font_manager, rc\n",
        "import seaborn as sns\n",
        "import lightgbm as lgb\n",
        "\n",
        "font_path = \"C:/Windows/Fonts/HANDotum.TTF\"\n",
        "font = font_manager.FontProperties(fname=font_path).get_name()\n",
        "rc('font', family=font)\n",
        "\n",
        "sns.set(style=\"whitegrid\", font_scale=1)\n",
        "\n",
        "import missingno as msno\n",
        "\n",
        "#ignore warnings\n",
        "import warnings\n",
        "warnings.filterwarnings('ignore')\n",
        "\n",
        "%matplotlib inline\n",
        "\n"
      ],
      "id": "4c06cf1a",
      "execution_count": null,
      "outputs": []
    },
    {
      "cell_type": "markdown",
      "metadata": {
        "id": "c8ab1619"
      },
      "source": [
        "- 초기설정하기"
      ],
      "id": "c8ab1619"
    },
    {
      "cell_type": "markdown",
      "metadata": {
        "id": "ssH0oqMRg6vm"
      },
      "source": [
        "## 프로세스\n",
        "- 1.데이터셋 확인\n",
        "- 2.탐색적 데이터 분석\n",
        "- 3.feature engineering\n",
        "- 4.model 만들기\n",
        "- 5.모델 학습 및 예측 \n",
        "- 6.모델 평가"
      ],
      "id": "ssH0oqMRg6vm"
    },
    {
      "cell_type": "markdown",
      "metadata": {
        "id": "AjD0fvv1hEZG"
      },
      "source": [
        "## 1.데이터셋 확인"
      ],
      "id": "AjD0fvv1hEZG"
    },
    {
      "cell_type": "code",
      "metadata": {
        "id": "5666c7be"
      },
      "source": [
        "train = pd.read_csv('train.csv')\n",
        "test = pd.read_csv('test.csv')\n",
        "submission = pd.read_csv('sample_submission.csv')\n",
        "\n",
        "train['일자'] = pd.to_datetime(train['일자'])\n",
        "test['일자'] = pd.to_datetime(test['일자'])\n",
        "\n",
        "train['년'] = train['일자'].dt.year\n",
        "train['월'] = train['일자'].dt.month\n",
        "train['일'] = train['일자'].dt.day\n",
        "train['주'] = train['일자'].dt.week\n",
        "train['요일'] = train['요일'].map({'월':1, '화':2, '수':3, '목':4, '금':5})\n",
        "train[['현본사소속재택근무자수', '중식계', '석식계']] = train[['현본사소속재택근무자수', '중식계', '석식계']].astype('int')\n",
        "train['출근'] = train['본사정원수']-(train['본사휴가자수']+train['본사출장자수']+train['현본사소속재택근무자수'])\n",
        "\n",
        "test['년'] = test['일자'].dt.year\n",
        "test['월'] = test['일자'].dt.month\n",
        "test['일'] = test['일자'].dt.day\n",
        "test['주'] = test['일자'].dt.week\n",
        "test['요일'] = test['요일'].map({'월':1, '화':2, '수':3, '목':4, '금':5})\n",
        "test['현본사소속재택근무자수'] = test['현본사소속재택근무자수'].astype('int')\n",
        "test['출근'] = test['본사정원수']-(test['본사휴가자수']+test['본사출장자수']+test['현본사소속재택근무자수'])\n",
        "\n",
        "\n"
      ],
      "id": "5666c7be",
      "execution_count": null,
      "outputs": []
    },
    {
      "cell_type": "markdown",
      "metadata": {
        "id": "1tbwfsE1zIA6"
      },
      "source": [
        "- smartnavy님, 베이스라인 코드공유인용"
      ],
      "id": "1tbwfsE1zIA6"
    },
    {
      "cell_type": "markdown",
      "metadata": {
        "id": "22e4332f"
      },
      "source": [
        "- 데이터불러오기"
      ],
      "id": "22e4332f"
    },
    {
      "cell_type": "code",
      "metadata": {
        "colab": {
          "base_uri": "https://localhost:8080/",
          "height": 408
        },
        "id": "ff34c383",
        "outputId": "a8ec6c5f-7cd4-404d-b4be-02ee2c650d56"
      },
      "source": [
        "train.head()"
      ],
      "id": "ff34c383",
      "execution_count": null,
      "outputs": [
        {
          "output_type": "execute_result",
          "data": {
            "text/html": [
              "<div>\n",
              "<style scoped>\n",
              "    .dataframe tbody tr th:only-of-type {\n",
              "        vertical-align: middle;\n",
              "    }\n",
              "\n",
              "    .dataframe tbody tr th {\n",
              "        vertical-align: top;\n",
              "    }\n",
              "\n",
              "    .dataframe thead th {\n",
              "        text-align: right;\n",
              "    }\n",
              "</style>\n",
              "<table border=\"1\" class=\"dataframe\">\n",
              "  <thead>\n",
              "    <tr style=\"text-align: right;\">\n",
              "      <th></th>\n",
              "      <th>일자</th>\n",
              "      <th>요일</th>\n",
              "      <th>본사정원수</th>\n",
              "      <th>본사휴가자수</th>\n",
              "      <th>본사출장자수</th>\n",
              "      <th>본사시간외근무명령서승인건수</th>\n",
              "      <th>현본사소속재택근무자수</th>\n",
              "      <th>조식메뉴</th>\n",
              "      <th>중식메뉴</th>\n",
              "      <th>석식메뉴</th>\n",
              "      <th>중식계</th>\n",
              "      <th>석식계</th>\n",
              "      <th>년</th>\n",
              "      <th>월</th>\n",
              "      <th>일</th>\n",
              "      <th>주</th>\n",
              "      <th>출근</th>\n",
              "    </tr>\n",
              "  </thead>\n",
              "  <tbody>\n",
              "    <tr>\n",
              "      <th>0</th>\n",
              "      <td>2016-02-01</td>\n",
              "      <td>1</td>\n",
              "      <td>2601</td>\n",
              "      <td>50</td>\n",
              "      <td>150</td>\n",
              "      <td>238</td>\n",
              "      <td>0</td>\n",
              "      <td>모닝롤/찐빵  우유/두유/주스 계란후라이  호두죽/쌀밥 (쌀:국내산) 된장찌개  쥐...</td>\n",
              "      <td>쌀밥/잡곡밥 (쌀,현미흑미:국내산) 오징어찌개  쇠불고기 (쇠고기:호주산) 계란찜 ...</td>\n",
              "      <td>쌀밥/잡곡밥 (쌀,현미흑미:국내산) 육개장  자반고등어구이  두부조림  건파래무침 ...</td>\n",
              "      <td>1039</td>\n",
              "      <td>331</td>\n",
              "      <td>2016</td>\n",
              "      <td>2</td>\n",
              "      <td>1</td>\n",
              "      <td>5</td>\n",
              "      <td>2401</td>\n",
              "    </tr>\n",
              "    <tr>\n",
              "      <th>1</th>\n",
              "      <td>2016-02-02</td>\n",
              "      <td>2</td>\n",
              "      <td>2601</td>\n",
              "      <td>50</td>\n",
              "      <td>173</td>\n",
              "      <td>319</td>\n",
              "      <td>0</td>\n",
              "      <td>모닝롤/단호박샌드  우유/두유/주스 계란후라이  팥죽/쌀밥 (쌀:국내산) 호박젓국찌...</td>\n",
              "      <td>쌀밥/잡곡밥 (쌀,현미흑미:국내산) 김치찌개  가자미튀김  모둠소세지구이  마늘쫑무...</td>\n",
              "      <td>콩나물밥*양념장 (쌀,현미흑미:국내산) 어묵국  유산슬 (쇠고기:호주산) 아삭고추무...</td>\n",
              "      <td>867</td>\n",
              "      <td>560</td>\n",
              "      <td>2016</td>\n",
              "      <td>2</td>\n",
              "      <td>2</td>\n",
              "      <td>5</td>\n",
              "      <td>2378</td>\n",
              "    </tr>\n",
              "    <tr>\n",
              "      <th>2</th>\n",
              "      <td>2016-02-03</td>\n",
              "      <td>3</td>\n",
              "      <td>2601</td>\n",
              "      <td>56</td>\n",
              "      <td>180</td>\n",
              "      <td>111</td>\n",
              "      <td>0</td>\n",
              "      <td>모닝롤/베이글  우유/두유/주스 계란후라이  표고버섯죽/쌀밥 (쌀:국내산) 콩나물국...</td>\n",
              "      <td>카레덮밥 (쌀,현미흑미:국내산) 팽이장국  치킨핑거 (닭고기:국내산) 쫄면야채무침 ...</td>\n",
              "      <td>쌀밥/잡곡밥 (쌀,현미흑미:국내산) 청국장찌개  황태양념구이 (황태:러시아산) 고기...</td>\n",
              "      <td>1017</td>\n",
              "      <td>573</td>\n",
              "      <td>2016</td>\n",
              "      <td>2</td>\n",
              "      <td>3</td>\n",
              "      <td>5</td>\n",
              "      <td>2365</td>\n",
              "    </tr>\n",
              "    <tr>\n",
              "      <th>3</th>\n",
              "      <td>2016-02-04</td>\n",
              "      <td>4</td>\n",
              "      <td>2601</td>\n",
              "      <td>104</td>\n",
              "      <td>220</td>\n",
              "      <td>355</td>\n",
              "      <td>0</td>\n",
              "      <td>모닝롤/토마토샌드  우유/두유/주스 계란후라이  닭죽/쌀밥 (쌀,닭:국내산) 근대국...</td>\n",
              "      <td>쌀밥/잡곡밥 (쌀,현미흑미:국내산) 쇠고기무국  주꾸미볶음  부추전  시금치나물  ...</td>\n",
              "      <td>미니김밥*겨자장 (쌀,현미흑미:국내산) 우동  멕시칸샐러드  군고구마  무피클  포...</td>\n",
              "      <td>978</td>\n",
              "      <td>525</td>\n",
              "      <td>2016</td>\n",
              "      <td>2</td>\n",
              "      <td>4</td>\n",
              "      <td>5</td>\n",
              "      <td>2277</td>\n",
              "    </tr>\n",
              "    <tr>\n",
              "      <th>4</th>\n",
              "      <td>2016-02-05</td>\n",
              "      <td>5</td>\n",
              "      <td>2601</td>\n",
              "      <td>278</td>\n",
              "      <td>181</td>\n",
              "      <td>34</td>\n",
              "      <td>0</td>\n",
              "      <td>모닝롤/와플  우유/두유/주스 계란후라이  쇠고기죽/쌀밥 (쌀:국내산) 재첩국  방...</td>\n",
              "      <td>쌀밥/잡곡밥 (쌀,현미흑미:국내산) 떡국  돈육씨앗강정 (돼지고기:국내산) 우엉잡채...</td>\n",
              "      <td>쌀밥/잡곡밥 (쌀,현미흑미:국내산) 차돌박이찌개 (쇠고기:호주산) 닭갈비 (닭고기:...</td>\n",
              "      <td>925</td>\n",
              "      <td>330</td>\n",
              "      <td>2016</td>\n",
              "      <td>2</td>\n",
              "      <td>5</td>\n",
              "      <td>5</td>\n",
              "      <td>2142</td>\n",
              "    </tr>\n",
              "  </tbody>\n",
              "</table>\n",
              "</div>"
            ],
            "text/plain": [
              "          일자  요일  본사정원수  본사휴가자수  본사출장자수  본사시간외근무명령서승인건수  현본사소속재택근무자수  \\\n",
              "0 2016-02-01   1   2601      50     150             238            0   \n",
              "1 2016-02-02   2   2601      50     173             319            0   \n",
              "2 2016-02-03   3   2601      56     180             111            0   \n",
              "3 2016-02-04   4   2601     104     220             355            0   \n",
              "4 2016-02-05   5   2601     278     181              34            0   \n",
              "\n",
              "                                                조식메뉴  \\\n",
              "0  모닝롤/찐빵  우유/두유/주스 계란후라이  호두죽/쌀밥 (쌀:국내산) 된장찌개  쥐...   \n",
              "1  모닝롤/단호박샌드  우유/두유/주스 계란후라이  팥죽/쌀밥 (쌀:국내산) 호박젓국찌...   \n",
              "2  모닝롤/베이글  우유/두유/주스 계란후라이  표고버섯죽/쌀밥 (쌀:국내산) 콩나물국...   \n",
              "3  모닝롤/토마토샌드  우유/두유/주스 계란후라이  닭죽/쌀밥 (쌀,닭:국내산) 근대국...   \n",
              "4  모닝롤/와플  우유/두유/주스 계란후라이  쇠고기죽/쌀밥 (쌀:국내산) 재첩국  방...   \n",
              "\n",
              "                                                중식메뉴  \\\n",
              "0  쌀밥/잡곡밥 (쌀,현미흑미:국내산) 오징어찌개  쇠불고기 (쇠고기:호주산) 계란찜 ...   \n",
              "1  쌀밥/잡곡밥 (쌀,현미흑미:국내산) 김치찌개  가자미튀김  모둠소세지구이  마늘쫑무...   \n",
              "2  카레덮밥 (쌀,현미흑미:국내산) 팽이장국  치킨핑거 (닭고기:국내산) 쫄면야채무침 ...   \n",
              "3  쌀밥/잡곡밥 (쌀,현미흑미:국내산) 쇠고기무국  주꾸미볶음  부추전  시금치나물  ...   \n",
              "4  쌀밥/잡곡밥 (쌀,현미흑미:국내산) 떡국  돈육씨앗강정 (돼지고기:국내산) 우엉잡채...   \n",
              "\n",
              "                                                석식메뉴   중식계  석식계     년  월  일  \\\n",
              "0  쌀밥/잡곡밥 (쌀,현미흑미:국내산) 육개장  자반고등어구이  두부조림  건파래무침 ...  1039  331  2016  2  1   \n",
              "1  콩나물밥*양념장 (쌀,현미흑미:국내산) 어묵국  유산슬 (쇠고기:호주산) 아삭고추무...   867  560  2016  2  2   \n",
              "2  쌀밥/잡곡밥 (쌀,현미흑미:국내산) 청국장찌개  황태양념구이 (황태:러시아산) 고기...  1017  573  2016  2  3   \n",
              "3  미니김밥*겨자장 (쌀,현미흑미:국내산) 우동  멕시칸샐러드  군고구마  무피클  포...   978  525  2016  2  4   \n",
              "4  쌀밥/잡곡밥 (쌀,현미흑미:국내산) 차돌박이찌개 (쇠고기:호주산) 닭갈비 (닭고기:...   925  330  2016  2  5   \n",
              "\n",
              "   주    출근  \n",
              "0  5  2401  \n",
              "1  5  2378  \n",
              "2  5  2365  \n",
              "3  5  2277  \n",
              "4  5  2142  "
            ]
          },
          "metadata": {
            "tags": []
          },
          "execution_count": 7
        }
      ]
    },
    {
      "cell_type": "markdown",
      "metadata": {
        "id": "7b0cdaa7"
      },
      "source": [
        "- 데이터 확인"
      ],
      "id": "7b0cdaa7"
    },
    {
      "cell_type": "code",
      "metadata": {
        "colab": {
          "base_uri": "https://localhost:8080/",
          "height": 306
        },
        "id": "ff16ba7d",
        "outputId": "11eafc6e-2a75-4601-ef26-1bfa68ec99c5"
      },
      "source": [
        "test.head()"
      ],
      "id": "ff16ba7d",
      "execution_count": null,
      "outputs": [
        {
          "output_type": "execute_result",
          "data": {
            "text/html": [
              "<div>\n",
              "<style scoped>\n",
              "    .dataframe tbody tr th:only-of-type {\n",
              "        vertical-align: middle;\n",
              "    }\n",
              "\n",
              "    .dataframe tbody tr th {\n",
              "        vertical-align: top;\n",
              "    }\n",
              "\n",
              "    .dataframe thead th {\n",
              "        text-align: right;\n",
              "    }\n",
              "</style>\n",
              "<table border=\"1\" class=\"dataframe\">\n",
              "  <thead>\n",
              "    <tr style=\"text-align: right;\">\n",
              "      <th></th>\n",
              "      <th>일자</th>\n",
              "      <th>요일</th>\n",
              "      <th>본사정원수</th>\n",
              "      <th>본사휴가자수</th>\n",
              "      <th>본사출장자수</th>\n",
              "      <th>본사시간외근무명령서승인건수</th>\n",
              "      <th>현본사소속재택근무자수</th>\n",
              "      <th>조식메뉴</th>\n",
              "      <th>중식메뉴</th>\n",
              "      <th>석식메뉴</th>\n",
              "      <th>년</th>\n",
              "      <th>월</th>\n",
              "      <th>일</th>\n",
              "      <th>주</th>\n",
              "      <th>출근</th>\n",
              "    </tr>\n",
              "  </thead>\n",
              "  <tbody>\n",
              "    <tr>\n",
              "      <th>0</th>\n",
              "      <td>2021-01-27</td>\n",
              "      <td>3</td>\n",
              "      <td>2983</td>\n",
              "      <td>88</td>\n",
              "      <td>182</td>\n",
              "      <td>5</td>\n",
              "      <td>358</td>\n",
              "      <td>모닝롤/연유버터베이글 우유/주스 계란후라이/찐계란 단호박죽/흑미밥 우거지국 고기완자...</td>\n",
              "      <td>쌀밥/흑미밥/찰현미밥 대구지리 매운돈갈비찜 오꼬노미계란말이 상추무침 포기김치 양상추...</td>\n",
              "      <td>흑미밥 얼큰순두부찌개 쇠고기우엉볶음 버섯햄볶음 (New)아삭이고추무절임 포기김치</td>\n",
              "      <td>2021</td>\n",
              "      <td>1</td>\n",
              "      <td>27</td>\n",
              "      <td>4</td>\n",
              "      <td>2355</td>\n",
              "    </tr>\n",
              "    <tr>\n",
              "      <th>1</th>\n",
              "      <td>2021-01-28</td>\n",
              "      <td>4</td>\n",
              "      <td>2983</td>\n",
              "      <td>104</td>\n",
              "      <td>212</td>\n",
              "      <td>409</td>\n",
              "      <td>348</td>\n",
              "      <td>모닝롤/대만샌드위치 우유/주스 계란후라이/찐계란 누룽지탕/흑미밥 황태국 시래기지짐 ...</td>\n",
              "      <td>쌀밥/보리밥/찰현미밥 우렁된장찌개 오리주물럭 청양부추전 수제삼색무쌈 겉절이김치 양상...</td>\n",
              "      <td>충무김밥 우동국물 오징어무침 꽃맛살샐러드 얼갈이쌈장무침 석박지</td>\n",
              "      <td>2021</td>\n",
              "      <td>1</td>\n",
              "      <td>28</td>\n",
              "      <td>4</td>\n",
              "      <td>2319</td>\n",
              "    </tr>\n",
              "    <tr>\n",
              "      <th>2</th>\n",
              "      <td>2021-01-29</td>\n",
              "      <td>5</td>\n",
              "      <td>2983</td>\n",
              "      <td>270</td>\n",
              "      <td>249</td>\n",
              "      <td>0</td>\n",
              "      <td>294</td>\n",
              "      <td>모닝롤/핫케익 우유/주스 계란후라이/찐계란 오곡죽/흑미밥 매생이굴국 고구마순볶음 양...</td>\n",
              "      <td>쌀밥/흑미밥/찰현미밥 팽이장국 수제돈까스*소스 가자미조림 동초나물무침 포기김치 양상...</td>\n",
              "      <td>흑미밥 물만둣국 카레찜닭 숯불양념꼬지어묵 꼬시래기무침 포기김치</td>\n",
              "      <td>2021</td>\n",
              "      <td>1</td>\n",
              "      <td>29</td>\n",
              "      <td>4</td>\n",
              "      <td>2170</td>\n",
              "    </tr>\n",
              "    <tr>\n",
              "      <th>3</th>\n",
              "      <td>2021-02-01</td>\n",
              "      <td>1</td>\n",
              "      <td>2924</td>\n",
              "      <td>108</td>\n",
              "      <td>154</td>\n",
              "      <td>538</td>\n",
              "      <td>322</td>\n",
              "      <td>모닝롤/촉촉한치즈케익 우유/주스 계란후라이/찐계란 누룽지탕/흑미밥 두부김칫국 새우완...</td>\n",
              "      <td>쌀밥/흑미밥/찰현미밥 배추들깨국 오리대패불고기 시금치프리타타 부추고추장무침 포기김치...</td>\n",
              "      <td>흑미밥 동태탕 돈육꽈리고추장조림 당면채소무침 모자반무침 포기김치</td>\n",
              "      <td>2021</td>\n",
              "      <td>2</td>\n",
              "      <td>1</td>\n",
              "      <td>5</td>\n",
              "      <td>2340</td>\n",
              "    </tr>\n",
              "    <tr>\n",
              "      <th>4</th>\n",
              "      <td>2021-02-02</td>\n",
              "      <td>2</td>\n",
              "      <td>2924</td>\n",
              "      <td>62</td>\n",
              "      <td>186</td>\n",
              "      <td>455</td>\n",
              "      <td>314</td>\n",
              "      <td>모닝롤/토마토샌드 우유/주스 계란후라이/찐계란 채소죽/흑미밥 호박맑은국 오이생채 양...</td>\n",
              "      <td>쌀밥/팥밥/찰현미밥 부대찌개 닭살데리야끼조림 버섯탕수 세발나물무침 알타리김치/사과푸...</td>\n",
              "      <td>흑미밥 바지락살국 쇠고기청경채볶음 두부구이*볶은김치 머위된장무침 백김치</td>\n",
              "      <td>2021</td>\n",
              "      <td>2</td>\n",
              "      <td>2</td>\n",
              "      <td>5</td>\n",
              "      <td>2362</td>\n",
              "    </tr>\n",
              "  </tbody>\n",
              "</table>\n",
              "</div>"
            ],
            "text/plain": [
              "          일자  요일  본사정원수  본사휴가자수  본사출장자수  본사시간외근무명령서승인건수  현본사소속재택근무자수  \\\n",
              "0 2021-01-27   3   2983      88     182               5          358   \n",
              "1 2021-01-28   4   2983     104     212             409          348   \n",
              "2 2021-01-29   5   2983     270     249               0          294   \n",
              "3 2021-02-01   1   2924     108     154             538          322   \n",
              "4 2021-02-02   2   2924      62     186             455          314   \n",
              "\n",
              "                                                조식메뉴  \\\n",
              "0  모닝롤/연유버터베이글 우유/주스 계란후라이/찐계란 단호박죽/흑미밥 우거지국 고기완자...   \n",
              "1  모닝롤/대만샌드위치 우유/주스 계란후라이/찐계란 누룽지탕/흑미밥 황태국 시래기지짐 ...   \n",
              "2  모닝롤/핫케익 우유/주스 계란후라이/찐계란 오곡죽/흑미밥 매생이굴국 고구마순볶음 양...   \n",
              "3  모닝롤/촉촉한치즈케익 우유/주스 계란후라이/찐계란 누룽지탕/흑미밥 두부김칫국 새우완...   \n",
              "4  모닝롤/토마토샌드 우유/주스 계란후라이/찐계란 채소죽/흑미밥 호박맑은국 오이생채 양...   \n",
              "\n",
              "                                                중식메뉴  \\\n",
              "0  쌀밥/흑미밥/찰현미밥 대구지리 매운돈갈비찜 오꼬노미계란말이 상추무침 포기김치 양상추...   \n",
              "1  쌀밥/보리밥/찰현미밥 우렁된장찌개 오리주물럭 청양부추전 수제삼색무쌈 겉절이김치 양상...   \n",
              "2  쌀밥/흑미밥/찰현미밥 팽이장국 수제돈까스*소스 가자미조림 동초나물무침 포기김치 양상...   \n",
              "3  쌀밥/흑미밥/찰현미밥 배추들깨국 오리대패불고기 시금치프리타타 부추고추장무침 포기김치...   \n",
              "4  쌀밥/팥밥/찰현미밥 부대찌개 닭살데리야끼조림 버섯탕수 세발나물무침 알타리김치/사과푸...   \n",
              "\n",
              "                                            석식메뉴     년  월   일  주    출근  \n",
              "0  흑미밥 얼큰순두부찌개 쇠고기우엉볶음 버섯햄볶음 (New)아삭이고추무절임 포기김치   2021  1  27  4  2355  \n",
              "1            충무김밥 우동국물 오징어무침 꽃맛살샐러드 얼갈이쌈장무침 석박지   2021  1  28  4  2319  \n",
              "2            흑미밥 물만둣국 카레찜닭 숯불양념꼬지어묵 꼬시래기무침 포기김치   2021  1  29  4  2170  \n",
              "3           흑미밥 동태탕 돈육꽈리고추장조림 당면채소무침 모자반무침 포기김치   2021  2   1  5  2340  \n",
              "4       흑미밥 바지락살국 쇠고기청경채볶음 두부구이*볶은김치 머위된장무침 백김치   2021  2   2  5  2362  "
            ]
          },
          "metadata": {
            "tags": []
          },
          "execution_count": 8
        }
      ]
    },
    {
      "cell_type": "markdown",
      "metadata": {
        "id": "547048bd"
      },
      "source": [
        "- 데이터 확인"
      ],
      "id": "547048bd"
    },
    {
      "cell_type": "code",
      "metadata": {
        "colab": {
          "base_uri": "https://localhost:8080/",
          "height": 204
        },
        "id": "1449c928",
        "outputId": "d8a06630-964e-41fd-9057-f8825e1f9782"
      },
      "source": [
        "submission.head()"
      ],
      "id": "1449c928",
      "execution_count": null,
      "outputs": [
        {
          "output_type": "execute_result",
          "data": {
            "text/html": [
              "<div>\n",
              "<style scoped>\n",
              "    .dataframe tbody tr th:only-of-type {\n",
              "        vertical-align: middle;\n",
              "    }\n",
              "\n",
              "    .dataframe tbody tr th {\n",
              "        vertical-align: top;\n",
              "    }\n",
              "\n",
              "    .dataframe thead th {\n",
              "        text-align: right;\n",
              "    }\n",
              "</style>\n",
              "<table border=\"1\" class=\"dataframe\">\n",
              "  <thead>\n",
              "    <tr style=\"text-align: right;\">\n",
              "      <th></th>\n",
              "      <th>일자</th>\n",
              "      <th>중식계</th>\n",
              "      <th>석식계</th>\n",
              "    </tr>\n",
              "  </thead>\n",
              "  <tbody>\n",
              "    <tr>\n",
              "      <th>0</th>\n",
              "      <td>2021-01-27</td>\n",
              "      <td>0</td>\n",
              "      <td>0</td>\n",
              "    </tr>\n",
              "    <tr>\n",
              "      <th>1</th>\n",
              "      <td>2021-01-28</td>\n",
              "      <td>0</td>\n",
              "      <td>0</td>\n",
              "    </tr>\n",
              "    <tr>\n",
              "      <th>2</th>\n",
              "      <td>2021-01-29</td>\n",
              "      <td>0</td>\n",
              "      <td>0</td>\n",
              "    </tr>\n",
              "    <tr>\n",
              "      <th>3</th>\n",
              "      <td>2021-02-01</td>\n",
              "      <td>0</td>\n",
              "      <td>0</td>\n",
              "    </tr>\n",
              "    <tr>\n",
              "      <th>4</th>\n",
              "      <td>2021-02-02</td>\n",
              "      <td>0</td>\n",
              "      <td>0</td>\n",
              "    </tr>\n",
              "  </tbody>\n",
              "</table>\n",
              "</div>"
            ],
            "text/plain": [
              "           일자  중식계  석식계\n",
              "0  2021-01-27    0    0\n",
              "1  2021-01-28    0    0\n",
              "2  2021-01-29    0    0\n",
              "3  2021-02-01    0    0\n",
              "4  2021-02-02    0    0"
            ]
          },
          "metadata": {
            "tags": []
          },
          "execution_count": 9
        }
      ]
    },
    {
      "cell_type": "markdown",
      "metadata": {
        "id": "8b4dd780"
      },
      "source": [
        "- 데이터 확인"
      ],
      "id": "8b4dd780"
    },
    {
      "cell_type": "code",
      "metadata": {
        "colab": {
          "base_uri": "https://localhost:8080/"
        },
        "id": "en-03wPVpV6p",
        "outputId": "48535df1-c483-48fc-b680-9705ce7e72f4"
      },
      "source": [
        "train.info()"
      ],
      "id": "en-03wPVpV6p",
      "execution_count": null,
      "outputs": [
        {
          "output_type": "stream",
          "text": [
            "<class 'pandas.core.frame.DataFrame'>\n",
            "RangeIndex: 1205 entries, 0 to 1204\n",
            "Data columns (total 17 columns):\n",
            "일자                1205 non-null datetime64[ns]\n",
            "요일                1205 non-null int64\n",
            "본사정원수             1205 non-null int64\n",
            "본사휴가자수            1205 non-null int64\n",
            "본사출장자수            1205 non-null int64\n",
            "본사시간외근무명령서승인건수    1205 non-null int64\n",
            "현본사소속재택근무자수       1205 non-null int32\n",
            "조식메뉴              1205 non-null object\n",
            "중식메뉴              1205 non-null object\n",
            "석식메뉴              1205 non-null object\n",
            "중식계               1205 non-null int32\n",
            "석식계               1205 non-null int32\n",
            "년                 1205 non-null int64\n",
            "월                 1205 non-null int64\n",
            "일                 1205 non-null int64\n",
            "주                 1205 non-null int64\n",
            "출근                1205 non-null int64\n",
            "dtypes: datetime64[ns](1), int32(3), int64(10), object(3)\n",
            "memory usage: 146.0+ KB\n"
          ],
          "name": "stdout"
        }
      ]
    },
    {
      "cell_type": "code",
      "metadata": {
        "colab": {
          "base_uri": "https://localhost:8080/",
          "height": 297
        },
        "id": "Uv0gS5DOhYdU",
        "outputId": "e359546c-c817-4f68-d0bc-92acaeccafac"
      },
      "source": [
        "train.describe()"
      ],
      "id": "Uv0gS5DOhYdU",
      "execution_count": null,
      "outputs": [
        {
          "output_type": "execute_result",
          "data": {
            "text/html": [
              "<div>\n",
              "<style scoped>\n",
              "    .dataframe tbody tr th:only-of-type {\n",
              "        vertical-align: middle;\n",
              "    }\n",
              "\n",
              "    .dataframe tbody tr th {\n",
              "        vertical-align: top;\n",
              "    }\n",
              "\n",
              "    .dataframe thead th {\n",
              "        text-align: right;\n",
              "    }\n",
              "</style>\n",
              "<table border=\"1\" class=\"dataframe\">\n",
              "  <thead>\n",
              "    <tr style=\"text-align: right;\">\n",
              "      <th></th>\n",
              "      <th>요일</th>\n",
              "      <th>본사정원수</th>\n",
              "      <th>본사휴가자수</th>\n",
              "      <th>본사출장자수</th>\n",
              "      <th>본사시간외근무명령서승인건수</th>\n",
              "      <th>현본사소속재택근무자수</th>\n",
              "      <th>중식계</th>\n",
              "      <th>석식계</th>\n",
              "      <th>년</th>\n",
              "      <th>월</th>\n",
              "      <th>일</th>\n",
              "      <th>주</th>\n",
              "      <th>출근</th>\n",
              "    </tr>\n",
              "  </thead>\n",
              "  <tbody>\n",
              "    <tr>\n",
              "      <th>count</th>\n",
              "      <td>1205.000000</td>\n",
              "      <td>1205.000000</td>\n",
              "      <td>1205.000000</td>\n",
              "      <td>1205.000000</td>\n",
              "      <td>1205.000000</td>\n",
              "      <td>1205.000000</td>\n",
              "      <td>1205.000000</td>\n",
              "      <td>1205.000000</td>\n",
              "      <td>1205.000000</td>\n",
              "      <td>1205.000000</td>\n",
              "      <td>1205.000000</td>\n",
              "      <td>1205.000000</td>\n",
              "      <td>1205.000000</td>\n",
              "    </tr>\n",
              "    <tr>\n",
              "      <th>mean</th>\n",
              "      <td>3.003320</td>\n",
              "      <td>2807.815768</td>\n",
              "      <td>157.913693</td>\n",
              "      <td>241.142739</td>\n",
              "      <td>274.117012</td>\n",
              "      <td>43.506224</td>\n",
              "      <td>890.334440</td>\n",
              "      <td>461.772614</td>\n",
              "      <td>2018.052282</td>\n",
              "      <td>6.512033</td>\n",
              "      <td>15.947718</td>\n",
              "      <td>26.570954</td>\n",
              "      <td>2365.253112</td>\n",
              "    </tr>\n",
              "    <tr>\n",
              "      <th>std</th>\n",
              "      <td>1.415384</td>\n",
              "      <td>171.264404</td>\n",
              "      <td>144.190572</td>\n",
              "      <td>43.532298</td>\n",
              "      <td>246.239651</td>\n",
              "      <td>109.937400</td>\n",
              "      <td>209.505057</td>\n",
              "      <td>139.179202</td>\n",
              "      <td>1.433958</td>\n",
              "      <td>3.453906</td>\n",
              "      <td>8.650452</td>\n",
              "      <td>15.074323</td>\n",
              "      <td>176.563062</td>\n",
              "    </tr>\n",
              "    <tr>\n",
              "      <th>min</th>\n",
              "      <td>1.000000</td>\n",
              "      <td>2601.000000</td>\n",
              "      <td>23.000000</td>\n",
              "      <td>41.000000</td>\n",
              "      <td>0.000000</td>\n",
              "      <td>0.000000</td>\n",
              "      <td>296.000000</td>\n",
              "      <td>0.000000</td>\n",
              "      <td>2016.000000</td>\n",
              "      <td>1.000000</td>\n",
              "      <td>1.000000</td>\n",
              "      <td>1.000000</td>\n",
              "      <td>1372.000000</td>\n",
              "    </tr>\n",
              "    <tr>\n",
              "      <th>25%</th>\n",
              "      <td>2.000000</td>\n",
              "      <td>2645.000000</td>\n",
              "      <td>71.000000</td>\n",
              "      <td>217.000000</td>\n",
              "      <td>4.000000</td>\n",
              "      <td>0.000000</td>\n",
              "      <td>758.000000</td>\n",
              "      <td>406.000000</td>\n",
              "      <td>2017.000000</td>\n",
              "      <td>4.000000</td>\n",
              "      <td>9.000000</td>\n",
              "      <td>13.000000</td>\n",
              "      <td>2281.000000</td>\n",
              "    </tr>\n",
              "    <tr>\n",
              "      <th>50%</th>\n",
              "      <td>3.000000</td>\n",
              "      <td>2760.000000</td>\n",
              "      <td>105.000000</td>\n",
              "      <td>245.000000</td>\n",
              "      <td>299.000000</td>\n",
              "      <td>0.000000</td>\n",
              "      <td>879.000000</td>\n",
              "      <td>483.000000</td>\n",
              "      <td>2018.000000</td>\n",
              "      <td>7.000000</td>\n",
              "      <td>16.000000</td>\n",
              "      <td>27.000000</td>\n",
              "      <td>2357.000000</td>\n",
              "    </tr>\n",
              "    <tr>\n",
              "      <th>75%</th>\n",
              "      <td>4.000000</td>\n",
              "      <td>2962.000000</td>\n",
              "      <td>185.000000</td>\n",
              "      <td>272.000000</td>\n",
              "      <td>452.000000</td>\n",
              "      <td>0.000000</td>\n",
              "      <td>1032.000000</td>\n",
              "      <td>545.000000</td>\n",
              "      <td>2019.000000</td>\n",
              "      <td>9.000000</td>\n",
              "      <td>23.000000</td>\n",
              "      <td>39.000000</td>\n",
              "      <td>2461.000000</td>\n",
              "    </tr>\n",
              "    <tr>\n",
              "      <th>max</th>\n",
              "      <td>5.000000</td>\n",
              "      <td>3305.000000</td>\n",
              "      <td>1224.000000</td>\n",
              "      <td>378.000000</td>\n",
              "      <td>1044.000000</td>\n",
              "      <td>533.000000</td>\n",
              "      <td>1459.000000</td>\n",
              "      <td>905.000000</td>\n",
              "      <td>2021.000000</td>\n",
              "      <td>12.000000</td>\n",
              "      <td>31.000000</td>\n",
              "      <td>52.000000</td>\n",
              "      <td>2921.000000</td>\n",
              "    </tr>\n",
              "  </tbody>\n",
              "</table>\n",
              "</div>"
            ],
            "text/plain": [
              "                요일        본사정원수       본사휴가자수       본사출장자수  본사시간외근무명령서승인건수  \\\n",
              "count  1205.000000  1205.000000  1205.000000  1205.000000     1205.000000   \n",
              "mean      3.003320  2807.815768   157.913693   241.142739      274.117012   \n",
              "std       1.415384   171.264404   144.190572    43.532298      246.239651   \n",
              "min       1.000000  2601.000000    23.000000    41.000000        0.000000   \n",
              "25%       2.000000  2645.000000    71.000000   217.000000        4.000000   \n",
              "50%       3.000000  2760.000000   105.000000   245.000000      299.000000   \n",
              "75%       4.000000  2962.000000   185.000000   272.000000      452.000000   \n",
              "max       5.000000  3305.000000  1224.000000   378.000000     1044.000000   \n",
              "\n",
              "       현본사소속재택근무자수          중식계          석식계            년            월  \\\n",
              "count  1205.000000  1205.000000  1205.000000  1205.000000  1205.000000   \n",
              "mean     43.506224   890.334440   461.772614  2018.052282     6.512033   \n",
              "std     109.937400   209.505057   139.179202     1.433958     3.453906   \n",
              "min       0.000000   296.000000     0.000000  2016.000000     1.000000   \n",
              "25%       0.000000   758.000000   406.000000  2017.000000     4.000000   \n",
              "50%       0.000000   879.000000   483.000000  2018.000000     7.000000   \n",
              "75%       0.000000  1032.000000   545.000000  2019.000000     9.000000   \n",
              "max     533.000000  1459.000000   905.000000  2021.000000    12.000000   \n",
              "\n",
              "                 일            주           출근  \n",
              "count  1205.000000  1205.000000  1205.000000  \n",
              "mean     15.947718    26.570954  2365.253112  \n",
              "std       8.650452    15.074323   176.563062  \n",
              "min       1.000000     1.000000  1372.000000  \n",
              "25%       9.000000    13.000000  2281.000000  \n",
              "50%      16.000000    27.000000  2357.000000  \n",
              "75%      23.000000    39.000000  2461.000000  \n",
              "max      31.000000    52.000000  2921.000000  "
            ]
          },
          "metadata": {
            "tags": []
          },
          "execution_count": 11
        }
      ]
    },
    {
      "cell_type": "markdown",
      "metadata": {
        "id": "GamQrdbHiFfw"
      },
      "source": [
        "- 이번 구내식당 식수 인원 조사 대회에서 feature는 본사정원수, 본사휴가자수, 본사출장자수, 본사시간외근무명령서승인건수, 현본사소속재택근무자수, 중식메뉴, 석식메뉴 입니다\n",
        "- 예측할려는 target는 중식계, 석식계 입니다."
      ],
      "id": "GamQrdbHiFfw"
    },
    {
      "cell_type": "markdown",
      "metadata": {
        "id": "rZCk7gfejN_v"
      },
      "source": [
        "### 1.1 Nulldata Check"
      ],
      "id": "rZCk7gfejN_v"
    },
    {
      "cell_type": "code",
      "metadata": {
        "colab": {
          "base_uri": "https://localhost:8080/"
        },
        "id": "lDXm-cnwiw52",
        "outputId": "a7786739-2901-4817-ed9a-9fd9a95a86ea"
      },
      "source": [
        "train.isnull().sum()"
      ],
      "id": "lDXm-cnwiw52",
      "execution_count": null,
      "outputs": [
        {
          "output_type": "execute_result",
          "data": {
            "text/plain": [
              "일자                0\n",
              "요일                0\n",
              "본사정원수             0\n",
              "본사휴가자수            0\n",
              "본사출장자수            0\n",
              "본사시간외근무명령서승인건수    0\n",
              "현본사소속재택근무자수       0\n",
              "조식메뉴              0\n",
              "중식메뉴              0\n",
              "석식메뉴              0\n",
              "중식계               0\n",
              "석식계               0\n",
              "년                 0\n",
              "월                 0\n",
              "일                 0\n",
              "주                 0\n",
              "출근                0\n",
              "dtype: int64"
            ]
          },
          "metadata": {
            "tags": []
          },
          "execution_count": 12
        }
      ]
    },
    {
      "cell_type": "markdown",
      "metadata": {
        "id": "HskNhI28jkE9"
      },
      "source": [
        "- 결측치 없음"
      ],
      "id": "HskNhI28jkE9"
    },
    {
      "cell_type": "code",
      "metadata": {
        "colab": {
          "base_uri": "https://localhost:8080/"
        },
        "id": "mCH3QkZAi14f",
        "outputId": "8680504f-dcba-4be9-ee09-7f3ccd64c0a4"
      },
      "source": [
        "test.isnull().sum()"
      ],
      "id": "mCH3QkZAi14f",
      "execution_count": null,
      "outputs": [
        {
          "output_type": "execute_result",
          "data": {
            "text/plain": [
              "일자                0\n",
              "요일                0\n",
              "본사정원수             0\n",
              "본사휴가자수            0\n",
              "본사출장자수            0\n",
              "본사시간외근무명령서승인건수    0\n",
              "현본사소속재택근무자수       0\n",
              "조식메뉴              0\n",
              "중식메뉴              0\n",
              "석식메뉴              0\n",
              "년                 0\n",
              "월                 0\n",
              "일                 0\n",
              "주                 0\n",
              "출근                0\n",
              "dtype: int64"
            ]
          },
          "metadata": {
            "tags": []
          },
          "execution_count": 13
        }
      ]
    },
    {
      "cell_type": "markdown",
      "metadata": {
        "id": "p8IsBOqMjeXO"
      },
      "source": [
        "- 두 데이터 다 결측치가 없습니다."
      ],
      "id": "p8IsBOqMjeXO"
    },
    {
      "cell_type": "markdown",
      "metadata": {
        "id": "42zPvfGPt1Tn"
      },
      "source": [
        "### 2.1 EDA"
      ],
      "id": "42zPvfGPt1Tn"
    },
    {
      "cell_type": "code",
      "metadata": {
        "id": "0-aWcnZvFyxE",
        "outputId": "be1f7dc3-69c0-40ba-aed5-04233ee82646"
      },
      "source": [
        "train.corr()[['중식계', '석식계']]"
      ],
      "id": "0-aWcnZvFyxE",
      "execution_count": null,
      "outputs": [
        {
          "output_type": "execute_result",
          "data": {
            "text/html": [
              "<div>\n",
              "<style scoped>\n",
              "    .dataframe tbody tr th:only-of-type {\n",
              "        vertical-align: middle;\n",
              "    }\n",
              "\n",
              "    .dataframe tbody tr th {\n",
              "        vertical-align: top;\n",
              "    }\n",
              "\n",
              "    .dataframe thead th {\n",
              "        text-align: right;\n",
              "    }\n",
              "</style>\n",
              "<table border=\"1\" class=\"dataframe\">\n",
              "  <thead>\n",
              "    <tr style=\"text-align: right;\">\n",
              "      <th></th>\n",
              "      <th>중식계</th>\n",
              "      <th>석식계</th>\n",
              "    </tr>\n",
              "  </thead>\n",
              "  <tbody>\n",
              "    <tr>\n",
              "      <th>요일</th>\n",
              "      <td>-0.731563</td>\n",
              "      <td>-0.312112</td>\n",
              "    </tr>\n",
              "    <tr>\n",
              "      <th>본사정원수</th>\n",
              "      <td>-0.115529</td>\n",
              "      <td>-0.173852</td>\n",
              "    </tr>\n",
              "    <tr>\n",
              "      <th>본사휴가자수</th>\n",
              "      <td>-0.391975</td>\n",
              "      <td>-0.316894</td>\n",
              "    </tr>\n",
              "    <tr>\n",
              "      <th>본사출장자수</th>\n",
              "      <td>-0.512680</td>\n",
              "      <td>-0.188164</td>\n",
              "    </tr>\n",
              "    <tr>\n",
              "      <th>본사시간외근무명령서승인건수</th>\n",
              "      <td>0.535611</td>\n",
              "      <td>0.571168</td>\n",
              "    </tr>\n",
              "    <tr>\n",
              "      <th>현본사소속재택근무자수</th>\n",
              "      <td>0.076509</td>\n",
              "      <td>-0.057534</td>\n",
              "    </tr>\n",
              "    <tr>\n",
              "      <th>중식계</th>\n",
              "      <td>1.000000</td>\n",
              "      <td>0.508287</td>\n",
              "    </tr>\n",
              "    <tr>\n",
              "      <th>석식계</th>\n",
              "      <td>0.508287</td>\n",
              "      <td>1.000000</td>\n",
              "    </tr>\n",
              "    <tr>\n",
              "      <th>년</th>\n",
              "      <td>-0.078804</td>\n",
              "      <td>-0.194792</td>\n",
              "    </tr>\n",
              "    <tr>\n",
              "      <th>월</th>\n",
              "      <td>-0.154664</td>\n",
              "      <td>-0.127142</td>\n",
              "    </tr>\n",
              "    <tr>\n",
              "      <th>일</th>\n",
              "      <td>-0.097392</td>\n",
              "      <td>-0.185565</td>\n",
              "    </tr>\n",
              "    <tr>\n",
              "      <th>주</th>\n",
              "      <td>-0.135008</td>\n",
              "      <td>-0.117561</td>\n",
              "    </tr>\n",
              "    <tr>\n",
              "      <th>출근</th>\n",
              "      <td>0.286810</td>\n",
              "      <td>0.172373</td>\n",
              "    </tr>\n",
              "  </tbody>\n",
              "</table>\n",
              "</div>"
            ],
            "text/plain": [
              "                     중식계       석식계\n",
              "요일             -0.731563 -0.312112\n",
              "본사정원수          -0.115529 -0.173852\n",
              "본사휴가자수         -0.391975 -0.316894\n",
              "본사출장자수         -0.512680 -0.188164\n",
              "본사시간외근무명령서승인건수  0.535611  0.571168\n",
              "현본사소속재택근무자수     0.076509 -0.057534\n",
              "중식계             1.000000  0.508287\n",
              "석식계             0.508287  1.000000\n",
              "년              -0.078804 -0.194792\n",
              "월              -0.154664 -0.127142\n",
              "일              -0.097392 -0.185565\n",
              "주              -0.135008 -0.117561\n",
              "출근              0.286810  0.172373"
            ]
          },
          "metadata": {
            "tags": []
          },
          "execution_count": 14
        }
      ]
    },
    {
      "cell_type": "markdown",
      "metadata": {
        "id": "GRlt-qhEFyxE"
      },
      "source": [
        "## 4.1 변수선택 및 모델 구축"
      ],
      "id": "GRlt-qhEFyxE"
    },
    {
      "cell_type": "code",
      "metadata": {
        "id": "ZiEaziFtFyxF"
      },
      "source": [
        "features = ['월', '일', '요일', '출근', '본사시간외근무명령서승인건수', '본사출장자수', '본사휴가자수']\n",
        "target = ['중식계']\n",
        "target2 = ['석식계']"
      ],
      "id": "ZiEaziFtFyxF",
      "execution_count": null,
      "outputs": []
    },
    {
      "cell_type": "code",
      "metadata": {
        "id": "Anc2NrTvFyxF"
      },
      "source": [
        "from sklearn.ensemble import RandomForestRegressor\n",
        "\n",
        "\n",
        "lunch_model = RandomForestRegressor(criterion='mae')\n",
        "dinner_model = RandomForestRegressor(criterion='mae')"
      ],
      "id": "Anc2NrTvFyxF",
      "execution_count": null,
      "outputs": []
    },
    {
      "cell_type": "code",
      "metadata": {
        "id": "-IuzwsRDFyxF"
      },
      "source": [
        "X_train, X_test, y_train, y_train2 = train[features], test[features], train[target], train[target2]"
      ],
      "id": "-IuzwsRDFyxF",
      "execution_count": null,
      "outputs": []
    },
    {
      "cell_type": "markdown",
      "metadata": {
        "id": "vf-UVoVKFyxG"
      },
      "source": [
        "### LightGBM"
      ],
      "id": "vf-UVoVKFyxG"
    },
    {
      "cell_type": "code",
      "metadata": {
        "id": "eZVTr4jOFyxG",
        "outputId": "bc46cc5a-8bdd-4f34-b4c6-267f2181f4dc"
      },
      "source": [
        "model = lgb.LGBMRegressor(random_state=777, n_estimators=1000)\n",
        "model2 = lgb.LGBMRegressor(random_state=777, n_estimators=1000)\n",
        "model.fit(X_train, y_train)\n",
        "model2.fit(X_train, y_train2)"
      ],
      "id": "eZVTr4jOFyxG",
      "execution_count": null,
      "outputs": [
        {
          "output_type": "execute_result",
          "data": {
            "text/plain": [
              "LGBMRegressor(boosting_type='gbdt', class_weight=None, colsample_bytree=1.0,\n",
              "              importance_type='split', learning_rate=0.1, max_depth=-1,\n",
              "              min_child_samples=20, min_child_weight=0.001, min_split_gain=0.0,\n",
              "              n_estimators=1000, n_jobs=-1, num_leaves=31, objective=None,\n",
              "              random_state=777, reg_alpha=0.0, reg_lambda=0.0, silent=True,\n",
              "              subsample=1.0, subsample_for_bin=200000, subsample_freq=0)"
            ]
          },
          "metadata": {
            "tags": []
          },
          "execution_count": 31
        }
      ]
    },
    {
      "cell_type": "code",
      "metadata": {
        "id": "nL6c4iq8FyxH"
      },
      "source": [
        "singleLGBM = submission.copy()"
      ],
      "id": "nL6c4iq8FyxH",
      "execution_count": null,
      "outputs": []
    },
    {
      "cell_type": "code",
      "metadata": {
        "id": "1XWfKkRYFyxH",
        "outputId": "1d59c5c2-8e83-4f01-fc5c-e56547e7e114"
      },
      "source": [
        "singleLGBM.head()"
      ],
      "id": "1XWfKkRYFyxH",
      "execution_count": null,
      "outputs": [
        {
          "output_type": "execute_result",
          "data": {
            "text/html": [
              "<div>\n",
              "<style scoped>\n",
              "    .dataframe tbody tr th:only-of-type {\n",
              "        vertical-align: middle;\n",
              "    }\n",
              "\n",
              "    .dataframe tbody tr th {\n",
              "        vertical-align: top;\n",
              "    }\n",
              "\n",
              "    .dataframe thead th {\n",
              "        text-align: right;\n",
              "    }\n",
              "</style>\n",
              "<table border=\"1\" class=\"dataframe\">\n",
              "  <thead>\n",
              "    <tr style=\"text-align: right;\">\n",
              "      <th></th>\n",
              "      <th>일자</th>\n",
              "      <th>중식계</th>\n",
              "      <th>석식계</th>\n",
              "    </tr>\n",
              "  </thead>\n",
              "  <tbody>\n",
              "    <tr>\n",
              "      <th>0</th>\n",
              "      <td>2021-01-27</td>\n",
              "      <td>0</td>\n",
              "      <td>0</td>\n",
              "    </tr>\n",
              "    <tr>\n",
              "      <th>1</th>\n",
              "      <td>2021-01-28</td>\n",
              "      <td>0</td>\n",
              "      <td>0</td>\n",
              "    </tr>\n",
              "    <tr>\n",
              "      <th>2</th>\n",
              "      <td>2021-01-29</td>\n",
              "      <td>0</td>\n",
              "      <td>0</td>\n",
              "    </tr>\n",
              "    <tr>\n",
              "      <th>3</th>\n",
              "      <td>2021-02-01</td>\n",
              "      <td>0</td>\n",
              "      <td>0</td>\n",
              "    </tr>\n",
              "    <tr>\n",
              "      <th>4</th>\n",
              "      <td>2021-02-02</td>\n",
              "      <td>0</td>\n",
              "      <td>0</td>\n",
              "    </tr>\n",
              "  </tbody>\n",
              "</table>\n",
              "</div>"
            ],
            "text/plain": [
              "           일자  중식계  석식계\n",
              "0  2021-01-27    0    0\n",
              "1  2021-01-28    0    0\n",
              "2  2021-01-29    0    0\n",
              "3  2021-02-01    0    0\n",
              "4  2021-02-02    0    0"
            ]
          },
          "metadata": {
            "tags": []
          },
          "execution_count": 33
        }
      ]
    },
    {
      "cell_type": "code",
      "metadata": {
        "id": "NI4vK_UuFyxI"
      },
      "source": [
        "singleLGBM['중식계'] = model.predict(X_test)\n",
        "singleLGBM['석식계'] = model2.predict(X_test)"
      ],
      "id": "NI4vK_UuFyxI",
      "execution_count": null,
      "outputs": []
    },
    {
      "cell_type": "code",
      "metadata": {
        "id": "4zb5NJG1FyxI"
      },
      "source": [
        "singleLGBM.to_csv('testLGBM.csv', index = False)"
      ],
      "id": "4zb5NJG1FyxI",
      "execution_count": null,
      "outputs": []
    },
    {
      "cell_type": "markdown",
      "metadata": {
        "id": "z9iCfNzcFyxI"
      },
      "source": [
        "### k-fold 교차검증 (k-fold cross validation)"
      ],
      "id": "z9iCfNzcFyxI"
    },
    {
      "cell_type": "code",
      "metadata": {
        "id": "dNLlbAApFyxJ"
      },
      "source": [
        "from sklearn.model_selection import KFold"
      ],
      "id": "dNLlbAApFyxJ",
      "execution_count": null,
      "outputs": []
    },
    {
      "cell_type": "code",
      "metadata": {
        "id": "RxqKC-ssFyxJ",
        "outputId": "7b00b00e-8378-434e-b076-fdbf3ab4467f"
      },
      "source": [
        "k_fold = KFold(n_splits=5, shuffle=True, random_state=777)\n",
        "for train_idx, val_idx in k_fold.split(X_train):\n",
        "    print(len(train_idx), len(val_idx))\n",
        "    break"
      ],
      "id": "RxqKC-ssFyxJ",
      "execution_count": null,
      "outputs": [
        {
          "output_type": "stream",
          "text": [
            "964 241\n"
          ],
          "name": "stdout"
        }
      ]
    },
    {
      "cell_type": "code",
      "metadata": {
        "id": "NDkmUCMeFyxK",
        "outputId": "96e5c8ed-2f6e-4ad8-ef17-6d245ede387e"
      },
      "source": [
        "model = lgb.LGBMRegressor(random_state=777, n_estimators=1000)\n",
        "model2 = lgb.LGBMRegressor(random_state=777, n_estimators=1000)\n",
        "\n",
        "models = []\n",
        "models2 = []\n",
        "\n",
        "for train_idx, val_idx in k_fold.split(X_train):\n",
        "    x_t = X_train.iloc[train_idx]\n",
        "    y_t = y_train.iloc[train_idx]\n",
        "    y_t2 = y_train2.iloc[train_idx]\n",
        "    \n",
        "    x_val = X_train.iloc[val_idx]\n",
        "    y_val = y_train.iloc[val_idx]\n",
        "    y_val2 = y_train2.iloc[val_idx]\n",
        "    \n",
        "    models.append(model.fit(x_t, y_t, eval_set=(x_val, y_val), early_stopping_rounds=100, verbose = 100))\n",
        "    models2.append(model2.fit(x_t, y_t2, eval_set=(x_val, y_val2), early_stopping_rounds=100, verbose = 100))"
      ],
      "id": "NDkmUCMeFyxK",
      "execution_count": null,
      "outputs": [
        {
          "output_type": "stream",
          "text": [
            "Training until validation scores don't improve for 100 rounds\n",
            "[100]\tvalid_0's l2: 10333.4\n",
            "Early stopping, best iteration is:\n",
            "[47]\tvalid_0's l2: 10119.3\n",
            "Training until validation scores don't improve for 100 rounds\n",
            "[100]\tvalid_0's l2: 7141.7\n",
            "Early stopping, best iteration is:\n",
            "[37]\tvalid_0's l2: 6514.12\n",
            "Training until validation scores don't improve for 100 rounds\n",
            "[100]\tvalid_0's l2: 9328.71\n",
            "Early stopping, best iteration is:\n",
            "[72]\tvalid_0's l2: 9182.98\n",
            "Training until validation scores don't improve for 100 rounds\n",
            "[100]\tvalid_0's l2: 10394.4\n",
            "Early stopping, best iteration is:\n",
            "[38]\tvalid_0's l2: 10279.2\n",
            "Training until validation scores don't improve for 100 rounds\n",
            "[100]\tvalid_0's l2: 10114.5\n",
            "Early stopping, best iteration is:\n",
            "[26]\tvalid_0's l2: 9605.4\n",
            "Training until validation scores don't improve for 100 rounds\n",
            "[100]\tvalid_0's l2: 7472.57\n",
            "Early stopping, best iteration is:\n",
            "[37]\tvalid_0's l2: 7201.74\n",
            "Training until validation scores don't improve for 100 rounds\n",
            "[100]\tvalid_0's l2: 10787.2\n",
            "Early stopping, best iteration is:\n",
            "[50]\tvalid_0's l2: 10108.8\n",
            "Training until validation scores don't improve for 100 rounds\n",
            "[100]\tvalid_0's l2: 9361.04\n",
            "Early stopping, best iteration is:\n",
            "[40]\tvalid_0's l2: 9047.31\n",
            "Training until validation scores don't improve for 100 rounds\n",
            "[100]\tvalid_0's l2: 9597.19\n",
            "Early stopping, best iteration is:\n",
            "[85]\tvalid_0's l2: 9410.52\n",
            "Training until validation scores don't improve for 100 rounds\n",
            "[100]\tvalid_0's l2: 5860.64\n",
            "Early stopping, best iteration is:\n",
            "[47]\tvalid_0's l2: 5659.61\n"
          ],
          "name": "stdout"
        }
      ]
    },
    {
      "cell_type": "code",
      "metadata": {
        "id": "hYsWnGcHFyxK",
        "outputId": "2b230ca9-98ae-41d6-f0ca-619fad5441ef"
      },
      "source": [
        "models"
      ],
      "id": "hYsWnGcHFyxK",
      "execution_count": null,
      "outputs": [
        {
          "output_type": "execute_result",
          "data": {
            "text/plain": [
              "[LGBMRegressor(boosting_type='gbdt', class_weight=None, colsample_bytree=1.0,\n",
              "               importance_type='split', learning_rate=0.1, max_depth=-1,\n",
              "               min_child_samples=20, min_child_weight=0.001, min_split_gain=0.0,\n",
              "               n_estimators=1000, n_jobs=-1, num_leaves=31, objective=None,\n",
              "               random_state=777, reg_alpha=0.0, reg_lambda=0.0, silent=True,\n",
              "               subsample=1.0, subsample_for_bin=200000, subsample_freq=0),\n",
              " LGBMRegressor(boosting_type='gbdt', class_weight=None, colsample_bytree=1.0,\n",
              "               importance_type='split', learning_rate=0.1, max_depth=-1,\n",
              "               min_child_samples=20, min_child_weight=0.001, min_split_gain=0.0,\n",
              "               n_estimators=1000, n_jobs=-1, num_leaves=31, objective=None,\n",
              "               random_state=777, reg_alpha=0.0, reg_lambda=0.0, silent=True,\n",
              "               subsample=1.0, subsample_for_bin=200000, subsample_freq=0),\n",
              " LGBMRegressor(boosting_type='gbdt', class_weight=None, colsample_bytree=1.0,\n",
              "               importance_type='split', learning_rate=0.1, max_depth=-1,\n",
              "               min_child_samples=20, min_child_weight=0.001, min_split_gain=0.0,\n",
              "               n_estimators=1000, n_jobs=-1, num_leaves=31, objective=None,\n",
              "               random_state=777, reg_alpha=0.0, reg_lambda=0.0, silent=True,\n",
              "               subsample=1.0, subsample_for_bin=200000, subsample_freq=0),\n",
              " LGBMRegressor(boosting_type='gbdt', class_weight=None, colsample_bytree=1.0,\n",
              "               importance_type='split', learning_rate=0.1, max_depth=-1,\n",
              "               min_child_samples=20, min_child_weight=0.001, min_split_gain=0.0,\n",
              "               n_estimators=1000, n_jobs=-1, num_leaves=31, objective=None,\n",
              "               random_state=777, reg_alpha=0.0, reg_lambda=0.0, silent=True,\n",
              "               subsample=1.0, subsample_for_bin=200000, subsample_freq=0),\n",
              " LGBMRegressor(boosting_type='gbdt', class_weight=None, colsample_bytree=1.0,\n",
              "               importance_type='split', learning_rate=0.1, max_depth=-1,\n",
              "               min_child_samples=20, min_child_weight=0.001, min_split_gain=0.0,\n",
              "               n_estimators=1000, n_jobs=-1, num_leaves=31, objective=None,\n",
              "               random_state=777, reg_alpha=0.0, reg_lambda=0.0, silent=True,\n",
              "               subsample=1.0, subsample_for_bin=200000, subsample_freq=0)]"
            ]
          },
          "metadata": {
            "tags": []
          },
          "execution_count": 41
        }
      ]
    },
    {
      "cell_type": "code",
      "metadata": {
        "id": "vnO4NBPYFyxL",
        "outputId": "591950b3-c806-42f4-bbe0-c5e1afdee825"
      },
      "source": [
        "models2"
      ],
      "id": "vnO4NBPYFyxL",
      "execution_count": null,
      "outputs": [
        {
          "output_type": "execute_result",
          "data": {
            "text/plain": [
              "[LGBMRegressor(boosting_type='gbdt', class_weight=None, colsample_bytree=1.0,\n",
              "               importance_type='split', learning_rate=0.1, max_depth=-1,\n",
              "               min_child_samples=20, min_child_weight=0.001, min_split_gain=0.0,\n",
              "               n_estimators=1000, n_jobs=-1, num_leaves=31, objective=None,\n",
              "               random_state=777, reg_alpha=0.0, reg_lambda=0.0, silent=True,\n",
              "               subsample=1.0, subsample_for_bin=200000, subsample_freq=0),\n",
              " LGBMRegressor(boosting_type='gbdt', class_weight=None, colsample_bytree=1.0,\n",
              "               importance_type='split', learning_rate=0.1, max_depth=-1,\n",
              "               min_child_samples=20, min_child_weight=0.001, min_split_gain=0.0,\n",
              "               n_estimators=1000, n_jobs=-1, num_leaves=31, objective=None,\n",
              "               random_state=777, reg_alpha=0.0, reg_lambda=0.0, silent=True,\n",
              "               subsample=1.0, subsample_for_bin=200000, subsample_freq=0),\n",
              " LGBMRegressor(boosting_type='gbdt', class_weight=None, colsample_bytree=1.0,\n",
              "               importance_type='split', learning_rate=0.1, max_depth=-1,\n",
              "               min_child_samples=20, min_child_weight=0.001, min_split_gain=0.0,\n",
              "               n_estimators=1000, n_jobs=-1, num_leaves=31, objective=None,\n",
              "               random_state=777, reg_alpha=0.0, reg_lambda=0.0, silent=True,\n",
              "               subsample=1.0, subsample_for_bin=200000, subsample_freq=0),\n",
              " LGBMRegressor(boosting_type='gbdt', class_weight=None, colsample_bytree=1.0,\n",
              "               importance_type='split', learning_rate=0.1, max_depth=-1,\n",
              "               min_child_samples=20, min_child_weight=0.001, min_split_gain=0.0,\n",
              "               n_estimators=1000, n_jobs=-1, num_leaves=31, objective=None,\n",
              "               random_state=777, reg_alpha=0.0, reg_lambda=0.0, silent=True,\n",
              "               subsample=1.0, subsample_for_bin=200000, subsample_freq=0),\n",
              " LGBMRegressor(boosting_type='gbdt', class_weight=None, colsample_bytree=1.0,\n",
              "               importance_type='split', learning_rate=0.1, max_depth=-1,\n",
              "               min_child_samples=20, min_child_weight=0.001, min_split_gain=0.0,\n",
              "               n_estimators=1000, n_jobs=-1, num_leaves=31, objective=None,\n",
              "               random_state=777, reg_alpha=0.0, reg_lambda=0.0, silent=True,\n",
              "               subsample=1.0, subsample_for_bin=200000, subsample_freq=0)]"
            ]
          },
          "metadata": {
            "tags": []
          },
          "execution_count": 42
        }
      ]
    },
    {
      "cell_type": "code",
      "metadata": {
        "id": "U9kYDFIPFyxL",
        "outputId": "622cfc7e-4b4f-4e6e-bd49-1939f3d69633"
      },
      "source": [
        "preds = []\n",
        "for model in models:\n",
        "    preds.append(model.predict(X_test))\n",
        "len(preds)"
      ],
      "id": "U9kYDFIPFyxL",
      "execution_count": null,
      "outputs": [
        {
          "output_type": "execute_result",
          "data": {
            "text/plain": [
              "5"
            ]
          },
          "metadata": {
            "tags": []
          },
          "execution_count": 43
        }
      ]
    },
    {
      "cell_type": "code",
      "metadata": {
        "id": "HtOBjZ0KFyxL",
        "outputId": "9e5bc31b-457c-46e9-efcc-8d55ad722f1a"
      },
      "source": [
        "preds2 = []\n",
        "for model2 in models2:\n",
        "    preds2.append(model2.predict(X_test))\n",
        "len(preds2)"
      ],
      "id": "HtOBjZ0KFyxL",
      "execution_count": null,
      "outputs": [
        {
          "output_type": "execute_result",
          "data": {
            "text/plain": [
              "5"
            ]
          },
          "metadata": {
            "tags": []
          },
          "execution_count": 44
        }
      ]
    },
    {
      "cell_type": "code",
      "metadata": {
        "id": "arUWgx_zFyxM"
      },
      "source": [
        "kfoldLightGBM = submission.copy()"
      ],
      "id": "arUWgx_zFyxM",
      "execution_count": null,
      "outputs": []
    },
    {
      "cell_type": "code",
      "metadata": {
        "id": "YVVSs7TbFyxM",
        "outputId": "4ff6b1f0-fa89-475d-d317-ce48876515e0"
      },
      "source": [
        "kfoldLightGBM['중식계'] = np.mean(preds, axis = 0)\n",
        "kfoldLightGBM['석식계'] = np.mean(preds2, axis = 0)\n",
        "kfoldLightGBM.head()"
      ],
      "id": "YVVSs7TbFyxM",
      "execution_count": null,
      "outputs": [
        {
          "output_type": "execute_result",
          "data": {
            "text/html": [
              "<div>\n",
              "<style scoped>\n",
              "    .dataframe tbody tr th:only-of-type {\n",
              "        vertical-align: middle;\n",
              "    }\n",
              "\n",
              "    .dataframe tbody tr th {\n",
              "        vertical-align: top;\n",
              "    }\n",
              "\n",
              "    .dataframe thead th {\n",
              "        text-align: right;\n",
              "    }\n",
              "</style>\n",
              "<table border=\"1\" class=\"dataframe\">\n",
              "  <thead>\n",
              "    <tr style=\"text-align: right;\">\n",
              "      <th></th>\n",
              "      <th>일자</th>\n",
              "      <th>중식계</th>\n",
              "      <th>석식계</th>\n",
              "    </tr>\n",
              "  </thead>\n",
              "  <tbody>\n",
              "    <tr>\n",
              "      <th>0</th>\n",
              "      <td>2021-01-27</td>\n",
              "      <td>1009.863704</td>\n",
              "      <td>239.444086</td>\n",
              "    </tr>\n",
              "    <tr>\n",
              "      <th>1</th>\n",
              "      <td>2021-01-28</td>\n",
              "      <td>1004.614666</td>\n",
              "      <td>479.250276</td>\n",
              "    </tr>\n",
              "    <tr>\n",
              "      <th>2</th>\n",
              "      <td>2021-01-29</td>\n",
              "      <td>535.964711</td>\n",
              "      <td>242.109394</td>\n",
              "    </tr>\n",
              "    <tr>\n",
              "      <th>3</th>\n",
              "      <td>2021-02-01</td>\n",
              "      <td>1276.913346</td>\n",
              "      <td>621.375488</td>\n",
              "    </tr>\n",
              "    <tr>\n",
              "      <th>4</th>\n",
              "      <td>2021-02-02</td>\n",
              "      <td>1059.660346</td>\n",
              "      <td>593.391636</td>\n",
              "    </tr>\n",
              "  </tbody>\n",
              "</table>\n",
              "</div>"
            ],
            "text/plain": [
              "           일자          중식계         석식계\n",
              "0  2021-01-27  1009.863704  239.444086\n",
              "1  2021-01-28  1004.614666  479.250276\n",
              "2  2021-01-29   535.964711  242.109394\n",
              "3  2021-02-01  1276.913346  621.375488\n",
              "4  2021-02-02  1059.660346  593.391636"
            ]
          },
          "metadata": {
            "tags": []
          },
          "execution_count": 46
        }
      ]
    },
    {
      "cell_type": "code",
      "metadata": {
        "id": "OXQXXo47FyxM"
      },
      "source": [
        "kfoldLightGBM.to_csv('kfoldLightGBM.csv', index = False)"
      ],
      "id": "OXQXXo47FyxM",
      "execution_count": null,
      "outputs": []
    },
    {
      "cell_type": "markdown",
      "metadata": {
        "id": "9_w9JDjsFyxN"
      },
      "source": [
        "### Grid Search"
      ],
      "id": "9_w9JDjsFyxN"
    },
    {
      "cell_type": "code",
      "metadata": {
        "id": "IvW-SkjdFyxN"
      },
      "source": [
        "from sklearn.model_selection import GridSearchCV"
      ],
      "id": "IvW-SkjdFyxN",
      "execution_count": null,
      "outputs": []
    },
    {
      "cell_type": "code",
      "metadata": {
        "id": "PF6qyFcnFyxN"
      },
      "source": [
        "model = lgb.LGBMRegressor(random_state=777, n_estimators=1000)\n",
        "model2 = lgb.LGBMRegressor(random_state=777, n_estimators=1000)\n",
        "\n",
        "params = {\n",
        "    'learning_rate': [0.1, 0.01, 0.003],\n",
        "    'min_child_samples': [20, 30]}\n",
        "\n",
        "gs = GridSearchCV(estimator=model,\n",
        "            param_grid=params,\n",
        "            scoring='neg_mean_squared_error',\n",
        "            cv = k_fold)\n",
        "gs2 = GridSearchCV(estimator=model2,\n",
        "            param_grid=params,\n",
        "            scoring='neg_mean_squared_error',\n",
        "            cv = k_fold)"
      ],
      "id": "PF6qyFcnFyxN",
      "execution_count": null,
      "outputs": []
    },
    {
      "cell_type": "code",
      "metadata": {
        "id": "cOTNuljKFyxO",
        "outputId": "bc3f9f94-90bb-4101-e653-8a497104c6af"
      },
      "source": [
        "gs.fit(X_train, y_train)\n",
        "gs2.fit(X_train, y_train2)"
      ],
      "id": "cOTNuljKFyxO",
      "execution_count": null,
      "outputs": [
        {
          "output_type": "execute_result",
          "data": {
            "text/plain": [
              "GridSearchCV(cv=KFold(n_splits=5, random_state=777, shuffle=True),\n",
              "             error_score='raise-deprecating',\n",
              "             estimator=LGBMRegressor(boosting_type='gbdt', class_weight=None,\n",
              "                                     colsample_bytree=1.0,\n",
              "                                     importance_type='split', learning_rate=0.1,\n",
              "                                     max_depth=-1, min_child_samples=20,\n",
              "                                     min_child_weight=0.001, min_split_gain=0.0,\n",
              "                                     n_estimators=1000, n_jobs=-1,\n",
              "                                     num_leaves=31, objective=None,\n",
              "                                     random_state=777, reg_alpha=0.0,\n",
              "                                     reg_lambda=0.0, silent=True, subsample=1.0,\n",
              "                                     subsample_for_bin=200000,\n",
              "                                     subsample_freq=0),\n",
              "             iid='warn', n_jobs=None,\n",
              "             param_grid={'learning_rate': [0.1, 0.01, 0.003],\n",
              "                         'min_child_samples': [20, 30]},\n",
              "             pre_dispatch='2*n_jobs', refit=True, return_train_score=False,\n",
              "             scoring='neg_mean_squared_error', verbose=0)"
            ]
          },
          "metadata": {
            "tags": []
          },
          "execution_count": 50
        }
      ]
    },
    {
      "cell_type": "code",
      "metadata": {
        "id": "WsgQpZuqFyxP",
        "outputId": "e7a52042-2968-4a79-b329-8931f92355ac"
      },
      "source": [
        "gs.best_params_\n",
        "gs2.best_params_"
      ],
      "id": "WsgQpZuqFyxP",
      "execution_count": null,
      "outputs": [
        {
          "output_type": "execute_result",
          "data": {
            "text/plain": [
              "{'learning_rate': 0.003, 'min_child_samples': 20}"
            ]
          },
          "metadata": {
            "tags": []
          },
          "execution_count": 51
        }
      ]
    },
    {
      "cell_type": "code",
      "metadata": {
        "id": "X0w6S-8-FyxP",
        "outputId": "8a2d9ec5-9220-4dab-ec3c-4afe1ee1634a"
      },
      "source": [
        "model = lgb.LGBMRegressor(random_state=777, n_estimators=1000, learning_rate= 0.003, min_child_samples=30)\n",
        "model2 = lgb.LGBMRegressor(random_state=777, n_estimators=1000, learning_rate= 0.003, min_child_samples=30)\n",
        "\n",
        "models = []\n",
        "models = []\n",
        "\n",
        "for train_idx, val_idx in k_fold.split(X_train):\n",
        "    x_t = X_train.iloc[train_idx]\n",
        "    y_t = y_train.iloc[train_idx]\n",
        "    y_t2 = y_train2.iloc[train_idx]\n",
        "    \n",
        "    x_val = X_train.iloc[val_idx]\n",
        "    y_val = y_train.iloc[val_idx]\n",
        "    y_val2 = y_train2.iloc[val_idx]\n",
        "    \n",
        "    models.append(model.fit(x_t, y_t, eval_set=(x_val, y_val), early_stopping_rounds=100, verbose = 100))\n",
        "    models2.append(model.fit(x_t, y_t2, eval_set=(x_val, y_val2), early_stopping_rounds=100, verbose = 100))"
      ],
      "id": "X0w6S-8-FyxP",
      "execution_count": null,
      "outputs": [
        {
          "output_type": "stream",
          "text": [
            "Training until validation scores don't improve for 100 rounds\n",
            "[100]\tvalid_0's l2: 30188.6\n",
            "[200]\tvalid_0's l2: 22644.8\n",
            "[300]\tvalid_0's l2: 18066.4\n",
            "[400]\tvalid_0's l2: 15323.1\n",
            "[500]\tvalid_0's l2: 13581.3\n",
            "[600]\tvalid_0's l2: 12496\n",
            "[700]\tvalid_0's l2: 11806.3\n",
            "[800]\tvalid_0's l2: 11238\n",
            "[900]\tvalid_0's l2: 10946.4\n",
            "[1000]\tvalid_0's l2: 10768.3\n",
            "Did not meet early stopping. Best iteration is:\n",
            "[1000]\tvalid_0's l2: 10768.3\n",
            "Training until validation scores don't improve for 100 rounds\n",
            "[100]\tvalid_0's l2: 13719.3\n",
            "[200]\tvalid_0's l2: 10946.5\n",
            "[300]\tvalid_0's l2: 9209.88\n",
            "[400]\tvalid_0's l2: 8153.23\n",
            "[500]\tvalid_0's l2: 7560.39\n",
            "[600]\tvalid_0's l2: 7150.8\n",
            "[700]\tvalid_0's l2: 6913.41\n",
            "[800]\tvalid_0's l2: 6716.41\n",
            "[900]\tvalid_0's l2: 6615.66\n",
            "[1000]\tvalid_0's l2: 6574.36\n",
            "Did not meet early stopping. Best iteration is:\n",
            "[1000]\tvalid_0's l2: 6574.36\n",
            "Training until validation scores don't improve for 100 rounds\n",
            "[100]\tvalid_0's l2: 31360.2\n",
            "[200]\tvalid_0's l2: 22756\n",
            "[300]\tvalid_0's l2: 17800.7\n",
            "[400]\tvalid_0's l2: 14552.1\n",
            "[500]\tvalid_0's l2: 12533.4\n",
            "[600]\tvalid_0's l2: 11367.7\n",
            "[700]\tvalid_0's l2: 10705.2\n",
            "[800]\tvalid_0's l2: 10246.4\n",
            "[900]\tvalid_0's l2: 9843.85\n",
            "[1000]\tvalid_0's l2: 9622.84\n",
            "Did not meet early stopping. Best iteration is:\n",
            "[1000]\tvalid_0's l2: 9622.84\n",
            "Training until validation scores don't improve for 100 rounds\n",
            "[100]\tvalid_0's l2: 16863.2\n",
            "[200]\tvalid_0's l2: 13940.8\n",
            "[300]\tvalid_0's l2: 12279.4\n",
            "[400]\tvalid_0's l2: 11207.9\n",
            "[500]\tvalid_0's l2: 10688.8\n",
            "[600]\tvalid_0's l2: 10491.7\n",
            "[700]\tvalid_0's l2: 10313.9\n",
            "[800]\tvalid_0's l2: 10140.7\n",
            "[900]\tvalid_0's l2: 10039.8\n",
            "[1000]\tvalid_0's l2: 9990.55\n",
            "Did not meet early stopping. Best iteration is:\n",
            "[987]\tvalid_0's l2: 9985.35\n",
            "Training until validation scores don't improve for 100 rounds\n",
            "[100]\tvalid_0's l2: 28056.9\n",
            "[200]\tvalid_0's l2: 20250.9\n",
            "[300]\tvalid_0's l2: 15755.1\n",
            "[400]\tvalid_0's l2: 12891.7\n",
            "[500]\tvalid_0's l2: 11280.4\n",
            "[600]\tvalid_0's l2: 10515.2\n",
            "[700]\tvalid_0's l2: 10016.9\n",
            "[800]\tvalid_0's l2: 9698.89\n",
            "[900]\tvalid_0's l2: 9559.84\n",
            "[1000]\tvalid_0's l2: 9425.54\n",
            "Did not meet early stopping. Best iteration is:\n",
            "[1000]\tvalid_0's l2: 9425.54\n",
            "Training until validation scores don't improve for 100 rounds\n",
            "[100]\tvalid_0's l2: 13299.8\n",
            "[200]\tvalid_0's l2: 10819.4\n",
            "[300]\tvalid_0's l2: 9396.63\n",
            "[400]\tvalid_0's l2: 8664.24\n",
            "[500]\tvalid_0's l2: 8179.14\n",
            "[600]\tvalid_0's l2: 7860.84\n",
            "[700]\tvalid_0's l2: 7681.1\n",
            "[800]\tvalid_0's l2: 7461.68\n",
            "[900]\tvalid_0's l2: 7304.41\n",
            "[1000]\tvalid_0's l2: 7207.61\n",
            "Did not meet early stopping. Best iteration is:\n",
            "[1000]\tvalid_0's l2: 7207.61\n",
            "Training until validation scores don't improve for 100 rounds\n",
            "[100]\tvalid_0's l2: 31289\n",
            "[200]\tvalid_0's l2: 23560.7\n",
            "[300]\tvalid_0's l2: 19136.8\n",
            "[400]\tvalid_0's l2: 16525.5\n",
            "[500]\tvalid_0's l2: 14161.5\n",
            "[600]\tvalid_0's l2: 12759.6\n",
            "[700]\tvalid_0's l2: 11989.8\n",
            "[800]\tvalid_0's l2: 11510.4\n",
            "[900]\tvalid_0's l2: 11226.9\n",
            "[1000]\tvalid_0's l2: 11111.2\n",
            "Did not meet early stopping. Best iteration is:\n",
            "[1000]\tvalid_0's l2: 11111.2\n",
            "Training until validation scores don't improve for 100 rounds\n",
            "[100]\tvalid_0's l2: 17283.1\n",
            "[200]\tvalid_0's l2: 14203\n",
            "[300]\tvalid_0's l2: 12280.4\n",
            "[400]\tvalid_0's l2: 11103.8\n",
            "[500]\tvalid_0's l2: 10413.3\n",
            "[600]\tvalid_0's l2: 9935.81\n",
            "[700]\tvalid_0's l2: 9623.19\n",
            "[800]\tvalid_0's l2: 9420.58\n",
            "[900]\tvalid_0's l2: 9259.99\n",
            "[1000]\tvalid_0's l2: 9144.43\n",
            "Did not meet early stopping. Best iteration is:\n",
            "[1000]\tvalid_0's l2: 9144.43\n",
            "Training until validation scores don't improve for 100 rounds\n",
            "[100]\tvalid_0's l2: 30822.3\n",
            "[200]\tvalid_0's l2: 23812.2\n",
            "[300]\tvalid_0's l2: 19761.4\n",
            "[400]\tvalid_0's l2: 17474.9\n",
            "[500]\tvalid_0's l2: 15433.4\n",
            "[600]\tvalid_0's l2: 13838.6\n",
            "[700]\tvalid_0's l2: 12817.5\n",
            "[800]\tvalid_0's l2: 12097.7\n",
            "[900]\tvalid_0's l2: 11605.1\n",
            "[1000]\tvalid_0's l2: 11193.3\n",
            "Did not meet early stopping. Best iteration is:\n",
            "[1000]\tvalid_0's l2: 11193.3\n",
            "Training until validation scores don't improve for 100 rounds\n",
            "[100]\tvalid_0's l2: 11953.1\n",
            "[200]\tvalid_0's l2: 9572.71\n",
            "[300]\tvalid_0's l2: 8244.4\n",
            "[400]\tvalid_0's l2: 7536.65\n",
            "[500]\tvalid_0's l2: 7063.05\n",
            "[600]\tvalid_0's l2: 6644.35\n",
            "[700]\tvalid_0's l2: 6423.1\n",
            "[800]\tvalid_0's l2: 6317.89\n",
            "[900]\tvalid_0's l2: 6180.99\n",
            "[1000]\tvalid_0's l2: 6088.29\n",
            "Did not meet early stopping. Best iteration is:\n",
            "[1000]\tvalid_0's l2: 6088.29\n"
          ],
          "name": "stdout"
        }
      ]
    },
    {
      "cell_type": "code",
      "metadata": {
        "id": "veVnic_CFyxQ"
      },
      "source": [
        "preds = []\n",
        "for model in models:\n",
        "    preds.append(model.predict(X_test))\n",
        "    \n",
        "preds2 = []\n",
        "for model2 in models2:\n",
        "    preds.append(model2.predict(X_test))"
      ],
      "id": "veVnic_CFyxQ",
      "execution_count": null,
      "outputs": []
    },
    {
      "cell_type": "code",
      "metadata": {
        "id": "y9ZZN49UFyxQ",
        "outputId": "9e76443e-b9a6-43ec-d367-6f226a33b431"
      },
      "source": [
        "gs.best_score_\n",
        "gs2.best_score_"
      ],
      "id": "y9ZZN49UFyxQ",
      "execution_count": null,
      "outputs": [
        {
          "output_type": "execute_result",
          "data": {
            "text/plain": [
              "-7792.379806161187"
            ]
          },
          "metadata": {
            "tags": []
          },
          "execution_count": 54
        }
      ]
    },
    {
      "cell_type": "code",
      "metadata": {
        "id": "auWgm469FyxR"
      },
      "source": [
        "gslgbm = submission.copy()"
      ],
      "id": "auWgm469FyxR",
      "execution_count": null,
      "outputs": []
    },
    {
      "cell_type": "code",
      "metadata": {
        "id": "bR5bL9D6FyxR"
      },
      "source": [
        "gslgbm['중식계'] =  np.mean(preds, axis = 0)\n",
        "gslgbm['석식계'] =  np.mean(preds2, axis = 0)"
      ],
      "id": "bR5bL9D6FyxR",
      "execution_count": null,
      "outputs": []
    },
    {
      "cell_type": "code",
      "metadata": {
        "id": "1f1EwSyHFyxR"
      },
      "source": [
        "gslgbm.to_csv('gslgbm.csv', index = False)"
      ],
      "id": "1f1EwSyHFyxR",
      "execution_count": null,
      "outputs": []
    },
    {
      "cell_type": "code",
      "metadata": {
        "id": "cC2XCWrmFyxR"
      },
      "source": [
        ""
      ],
      "id": "cC2XCWrmFyxR",
      "execution_count": null,
      "outputs": []
    }
  ]
}