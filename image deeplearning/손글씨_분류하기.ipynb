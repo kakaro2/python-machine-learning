{
  "nbformat": 4,
  "nbformat_minor": 0,
  "metadata": {
    "colab": {
      "name": "손글씨 분류하기.ipynb",
      "provenance": [],
      "collapsed_sections": []
    },
    "kernelspec": {
      "name": "python3",
      "display_name": "Python 3"
    },
    "language_info": {
      "name": "python"
    },
    "accelerator": "GPU"
  },
  "cells": [
    {
      "cell_type": "markdown",
      "metadata": {
        "id": "1_kQB1VqdouJ"
      },
      "source": [
        "# Mnist 데이터셋을 이용한 손글씨 분류하기 : DNN, CNN\n",
        "- 딥러닝 손글씨 분류 공부\n",
        "- 참고 : https://codingcrews.github.io/2019/01/17/mnist/"
      ]
    },
    {
      "cell_type": "markdown",
      "metadata": {
        "id": "MheDMI6IdwIJ"
      },
      "source": [
        "## 데이터셋 확인\n",
        "사용할 MNIST 데이터 세트는 텐서플로 패키지에서 다운로드까지 진행해주는 코드를 포함 시켜두었습니다.<br/>\n",
        "우리가 사용할 데이터셋은 텐서플로 패키지에서 제공하는 데이터셋을 이용한건데요. <br/>다른곳에서 MNIST 데이터셋을 이용하여 진행해봐도 무방합니다.<br/><br/>\n",
        "우리가 사용할 MNIST 데이터는 손글씨 데이터로써 흑백 Gray Scale로 된 데이터셋을 말합니다.<br/>\n",
        "28x28  사이즈의 단일 색상채널을 가지고 있으며, 트레이닝셋과 테스트셋이 각각 60,000개와 10,00개로 구성되어 있습니다."
      ]
    },
    {
      "cell_type": "markdown",
      "metadata": {
        "id": "40lkCvz7eSrx"
      },
      "source": [
        "### 데이터 다운로드\n"
      ]
    },
    {
      "cell_type": "code",
      "metadata": {
        "colab": {
          "base_uri": "https://localhost:8080/"
        },
        "id": "zhis18AeLY2Z",
        "outputId": "5b1bf286-a144-4f39-c948-8bb89636e0c3"
      },
      "source": [
        "import tensorflow as tf\n",
        "import numpy as np\n",
        "mnist = tf.keras.datasets.mnist\n",
        "(x_train, y_train),(x_test, y_test) = mnist.load_data()"
      ],
      "execution_count": null,
      "outputs": [
        {
          "output_type": "stream",
          "text": [
            "Downloading data from https://storage.googleapis.com/tensorflow/tf-keras-datasets/mnist.npz\n",
            "11493376/11490434 [==============================] - 0s 0us/step\n"
          ],
          "name": "stdout"
        }
      ]
    },
    {
      "cell_type": "markdown",
      "metadata": {
        "id": "wlOImyTLeavQ"
      },
      "source": [
        "### 데이터 확인"
      ]
    },
    {
      "cell_type": "code",
      "metadata": {
        "id": "YKgrwd52Mb1H",
        "colab": {
          "base_uri": "https://localhost:8080/",
          "height": 107
        },
        "outputId": "7b746620-2f52-42e6-ad91-9a3989cbed1d"
      },
      "source": [
        "display(x_train.shape)\n",
        "display(y_train.shape)\n",
        "display(x_test.shape)\n",
        "display(y_test.shape)\n",
        "\n",
        "display(y_test)"
      ],
      "execution_count": null,
      "outputs": [
        {
          "output_type": "display_data",
          "data": {
            "text/plain": [
              "(60000, 28, 28)"
            ]
          },
          "metadata": {
            "tags": []
          }
        },
        {
          "output_type": "display_data",
          "data": {
            "text/plain": [
              "(60000,)"
            ]
          },
          "metadata": {
            "tags": []
          }
        },
        {
          "output_type": "display_data",
          "data": {
            "text/plain": [
              "(10000, 28, 28)"
            ]
          },
          "metadata": {
            "tags": []
          }
        },
        {
          "output_type": "display_data",
          "data": {
            "text/plain": [
              "(10000,)"
            ]
          },
          "metadata": {
            "tags": []
          }
        },
        {
          "output_type": "display_data",
          "data": {
            "text/plain": [
              "array([7, 2, 1, ..., 4, 5, 6], dtype=uint8)"
            ]
          },
          "metadata": {
            "tags": []
          }
        }
      ]
    },
    {
      "cell_type": "markdown",
      "metadata": {
        "id": "XIFpaDXZfem6"
      },
      "source": [
        "데이터는 60,000개의 트레이닝셋가 10,000개의 테스트셋을 확인할 수 있고, <br/>테스트 데이터는 28x28 사이즈의 이미지 데이터임을 확인할 수 있습니다.(색상 채널은 단일 채널이라 표기 x)<br/>\n",
        "레이블 데이터는 0~9까지의 10개의 클래스로 구성되어 있습니다."
      ]
    },
    {
      "cell_type": "markdown",
      "metadata": {
        "id": "DprLCLuCf5Ux"
      },
      "source": [
        "### 데이터 시각화\n",
        "우리가 다룰 MNIST 데이터는 이미지 데이터 기반입니다.<br/>\n",
        "해당 이미지를 시각화하여 확인해보겠습니다."
      ]
    },
    {
      "cell_type": "code",
      "metadata": {
        "id": "UcFooQFjL5KZ"
      },
      "source": [
        "import matplotlib.pyplot as plt\n",
        "\n",
        "def show_data(arr):\n",
        "    plt.imshow(arr, cmap=plt.cm.binary)\n",
        "    \n",
        "    reshape_data = arr.reshape(-1, )\n",
        "    for index, data in enumerate(reshape_data):\n",
        "        print('{:3d}'.format(data), end='')\n",
        "        if index % 28 == 27:\n",
        "            print()"
      ],
      "execution_count": null,
      "outputs": []
    },
    {
      "cell_type": "code",
      "metadata": {
        "colab": {
          "base_uri": "https://localhost:8080/",
          "height": 769
        },
        "id": "7lhPXKYFggxY",
        "outputId": "f7112423-43fd-47f9-c625-0b4b0f164fb3"
      },
      "source": [
        "show_data(x_train[1])"
      ],
      "execution_count": null,
      "outputs": [
        {
          "output_type": "stream",
          "text": [
            "  0  0  0  0  0  0  0  0  0  0  0  0  0  0  0  0  0  0  0  0  0  0  0  0  0  0  0  0\n",
            "  0  0  0  0  0  0  0  0  0  0  0  0  0  0  0  0  0  0  0  0  0  0  0  0  0  0  0  0\n",
            "  0  0  0  0  0  0  0  0  0  0  0  0  0  0  0  0  0  0  0  0  0  0  0  0  0  0  0  0\n",
            "  0  0  0  0  0  0  0  0  0  0  0  0  0  0  0  0  0  0  0  0  0  0  0  0  0  0  0  0\n",
            "  0  0  0  0  0  0  0  0  0  0  0  0  0  0  0 51159253159 50  0  0  0  0  0  0  0  0\n",
            "  0  0  0  0  0  0  0  0  0  0  0  0  0  0 48238252252252237  0  0  0  0  0  0  0  0\n",
            "  0  0  0  0  0  0  0  0  0  0  0  0  0 54227253252239233252 57  6  0  0  0  0  0  0\n",
            "  0  0  0  0  0  0  0  0  0  0  0 10 60224252253252202 84252253122  0  0  0  0  0  0\n",
            "  0  0  0  0  0  0  0  0  0  0  0163252252252253252252 96189253167  0  0  0  0  0  0\n",
            "  0  0  0  0  0  0  0  0  0  0 51238253253190114253228 47 79255168  0  0  0  0  0  0\n",
            "  0  0  0  0  0  0  0  0  0 48238252252179 12 75121 21  0  0253243 50  0  0  0  0  0\n",
            "  0  0  0  0  0  0  0  0 38165253233208 84  0  0  0  0  0  0253252165  0  0  0  0  0\n",
            "  0  0  0  0  0  0  0  7178252240 71 19 28  0  0  0  0  0  0253252195  0  0  0  0  0\n",
            "  0  0  0  0  0  0  0 57252252 63  0  0  0  0  0  0  0  0  0253252195  0  0  0  0  0\n",
            "  0  0  0  0  0  0  0198253190  0  0  0  0  0  0  0  0  0  0255253196  0  0  0  0  0\n",
            "  0  0  0  0  0  0 76246252112  0  0  0  0  0  0  0  0  0  0253252148  0  0  0  0  0\n",
            "  0  0  0  0  0  0 85252230 25  0  0  0  0  0  0  0  0  7135253186 12  0  0  0  0  0\n",
            "  0  0  0  0  0  0 85252223  0  0  0  0  0  0  0  0  7131252225 71  0  0  0  0  0  0\n",
            "  0  0  0  0  0  0 85252145  0  0  0  0  0  0  0 48165252173  0  0  0  0  0  0  0  0\n",
            "  0  0  0  0  0  0 86253225  0  0  0  0  0  0114238253162  0  0  0  0  0  0  0  0  0\n",
            "  0  0  0  0  0  0 85252249146 48 29 85178225253223167 56  0  0  0  0  0  0  0  0  0\n",
            "  0  0  0  0  0  0 85252252252229215252252252196130  0  0  0  0  0  0  0  0  0  0  0\n",
            "  0  0  0  0  0  0 28199252252253252252233145  0  0  0  0  0  0  0  0  0  0  0  0  0\n",
            "  0  0  0  0  0  0  0 25128252253252141 37  0  0  0  0  0  0  0  0  0  0  0  0  0  0\n",
            "  0  0  0  0  0  0  0  0  0  0  0  0  0  0  0  0  0  0  0  0  0  0  0  0  0  0  0  0\n",
            "  0  0  0  0  0  0  0  0  0  0  0  0  0  0  0  0  0  0  0  0  0  0  0  0  0  0  0  0\n",
            "  0  0  0  0  0  0  0  0  0  0  0  0  0  0  0  0  0  0  0  0  0  0  0  0  0  0  0  0\n",
            "  0  0  0  0  0  0  0  0  0  0  0  0  0  0  0  0  0  0  0  0  0  0  0  0  0  0  0  0\n"
          ],
          "name": "stdout"
        },
        {
          "output_type": "display_data",
          "data": {
            "image/png": "[encoded data removed]",
            "text/plain": [
              "<Figure size 432x288 with 1 Axes>"
            ]
          },
          "metadata": {
            "tags": [],
            "needs_background": "light"
          }
        }
      ]
    },
    {
      "cell_type": "markdown",
      "metadata": {
        "id": "CkZV_MUsg-Qv"
      },
      "source": [
        "- 해당 데이터를 시각화 한 결과\n",
        "- 28x28의 데이터는 각 픽셀별로 해당 픽셀이 표시해야할 생삭값을 표시하는데,<br/> 이걸 28x28사이즈에 맞춰 해당데이터를 출력한 결과입니다.\n",
        "- 이미지는 matplotlib를 이용하여 데이터를 시각화 한 결과입니다."
      ]
    },
    {
      "cell_type": "markdown",
      "metadata": {
        "id": "aSmiPBdshUcS"
      },
      "source": [
        "### 데이터 변환\n",
        "- 이미지 데이터를 확인했을 때 0~255까지의 값을 가지고 있는걸 확인할 수 있습니다.<br/>\n",
        "- 이걸 모델에 효율적으로 학습시키기 위해선 0~1 사이의 값으로 일반화(Nomalization)시키는 과정을 거쳐야 합니다.<br/>\n",
        "- 그 이외에도 2D컨볼루셔널 레이어를 사용하기 위해선 채널에 대한 값도 명시되어 있어야 하기 때문에\n",
        "(넓이, 높이)의 형태를 가진 데이터를 (넓이,높이,채널)의 형태로 변환시켜보겠습니다.\n",
        "- 구조는 어떤식으로든 상광없으며 (채널,넓이,높이) 순으로 정렬을 시켜도 됩니다."
      ]
    },
    {
      "cell_type": "code",
      "metadata": {
        "id": "iS6wTNiVgi3Q"
      },
      "source": [
        "reshape_x_train = x_train.reshape(x_train.shape[0], 28, 28, 1)\n",
        "reshape_x_test = x_test.reshape(x_test.shape[0], 28, 28, 1)\n"
      ],
      "execution_count": null,
      "outputs": []
    },
    {
      "cell_type": "markdown",
      "metadata": {
        "id": "uUEr69UHjZuY"
      },
      "source": [
        "## 모델 구성\n",
        "- Dense 레이어를 이용해 기본적인 신경망으로 학습을 진행해봅시다."
      ]
    },
    {
      "cell_type": "code",
      "metadata": {
        "colab": {
          "base_uri": "https://localhost:8080/"
        },
        "id": "k4dQw5pdjY5h",
        "outputId": "44c04e34-d387-401c-fc2d-3549767807e4"
      },
      "source": [
        "from tensorflow.keras.models import Sequential\n",
        "from tensorflow.keras import layers\n",
        "\n",
        "model = Sequential()\n",
        "model.add(layers.InputLayer(input_shape=(28, 28, 1)))\n",
        "model.add(layers.Flatten())\n",
        "model.add(layers.Dense(64, activation='relu'))\n",
        "model.add(layers.Dense(16, activation='relu'))\n",
        "model.add(layers.Dense(10, activation='softmax'))\n",
        "\n",
        "model.summary()"
      ],
      "execution_count": null,
      "outputs": [
        {
          "output_type": "stream",
          "text": [
            "Model: \"sequential_1\"\n",
            "_________________________________________________________________\n",
            "Layer (type)                 Output Shape              Param #   \n",
            "=================================================================\n",
            "flatten_1 (Flatten)          (None, 784)               0         \n",
            "_________________________________________________________________\n",
            "dense_3 (Dense)              (None, 64)                50240     \n",
            "_________________________________________________________________\n",
            "dense_4 (Dense)              (None, 16)                1040      \n",
            "_________________________________________________________________\n",
            "dense_5 (Dense)              (None, 10)                170       \n",
            "=================================================================\n",
            "Total params: 51,450\n",
            "Trainable params: 51,450\n",
            "Non-trainable params: 0\n",
            "_________________________________________________________________\n"
          ],
          "name": "stdout"
        }
      ]
    },
    {
      "cell_type": "markdown",
      "metadata": {
        "id": "DKW0wsRDkvZ4"
      },
      "source": [
        "총 3개의 레이어로 구성되어 있으며, MNIST 데이터셋에 맞춰 (28, 28, 1)의 형태에 맞춰 인풋 데이터를 받도록 구성했습니다.\n",
        "<br/>\n",
        "마지막층은 손글씨 데이터의 10개 클래스(0~9까지의 레이블)를 예측하기 위해 출력을 10으로, 활성함수는 softmax를 사용합니다."
      ]
    },
    {
      "cell_type": "markdown",
      "metadata": {
        "id": "AkTgMYbJkcV4"
      },
      "source": [
        "### 모델 컴파일"
      ]
    },
    {
      "cell_type": "code",
      "metadata": {
        "id": "w_TzxDZLjy2C"
      },
      "source": [
        "model.compile(\n",
        "    optimizer='adam',\n",
        "    loss='sparse_categorical_crossentropy',\n",
        "    metrics=['acc']\n",
        ")"
      ],
      "execution_count": null,
      "outputs": []
    },
    {
      "cell_type": "markdown",
      "metadata": {
        "id": "jc6tSkCnlI_o"
      },
      "source": [
        "### 모델 학습"
      ]
    },
    {
      "cell_type": "code",
      "metadata": {
        "colab": {
          "base_uri": "https://localhost:8080/"
        },
        "id": "0mXzQB6gkp4R",
        "outputId": "2e2f991a-c43a-4b79-bd25-0728fc9dd4dd"
      },
      "source": [
        "history = model.fit(\n",
        "    reshape_x_train,\n",
        "    y_train,\n",
        "    batch_size=128,\n",
        "    epochs=50,\n",
        "    validation_split=.1,\n",
        ")"
      ],
      "execution_count": null,
      "outputs": [
        {
          "output_type": "stream",
          "text": [
            "Epoch 1/50\n",
            "422/422 [==============================] - 4s 3ms/step - loss: 2.9646 - acc: 0.1574 - val_loss: 1.9209 - val_acc: 0.2935\n",
            "Epoch 2/50\n",
            "422/422 [==============================] - 1s 3ms/step - loss: 1.7838 - acc: 0.3263 - val_loss: 1.5727 - val_acc: 0.3923\n",
            "Epoch 3/50\n",
            "422/422 [==============================] - 1s 2ms/step - loss: 1.5153 - acc: 0.4194 - val_loss: 1.4405 - val_acc: 0.4403\n",
            "Epoch 4/50\n",
            "422/422 [==============================] - 1s 3ms/step - loss: 1.3242 - acc: 0.4844 - val_loss: 1.3254 - val_acc: 0.4523\n",
            "Epoch 5/50\n",
            "422/422 [==============================] - 1s 3ms/step - loss: 1.1006 - acc: 0.5863 - val_loss: 0.9971 - val_acc: 0.6333\n",
            "Epoch 6/50\n",
            "422/422 [==============================] - 1s 2ms/step - loss: 0.9405 - acc: 0.6399 - val_loss: 0.9092 - val_acc: 0.6440\n",
            "Epoch 7/50\n",
            "422/422 [==============================] - 1s 2ms/step - loss: 0.8387 - acc: 0.6744 - val_loss: 0.7850 - val_acc: 0.7235\n",
            "Epoch 8/50\n",
            "422/422 [==============================] - 1s 2ms/step - loss: 0.6671 - acc: 0.7876 - val_loss: 0.5641 - val_acc: 0.8723\n",
            "Epoch 9/50\n",
            "422/422 [==============================] - 1s 2ms/step - loss: 0.4481 - acc: 0.8830 - val_loss: 0.4120 - val_acc: 0.9095\n",
            "Epoch 10/50\n",
            "422/422 [==============================] - 1s 3ms/step - loss: 0.3409 - acc: 0.9117 - val_loss: 0.2962 - val_acc: 0.9337\n",
            "Epoch 11/50\n",
            "422/422 [==============================] - 1s 2ms/step - loss: 0.2657 - acc: 0.9314 - val_loss: 0.2929 - val_acc: 0.9392\n",
            "Epoch 12/50\n",
            "422/422 [==============================] - 1s 2ms/step - loss: 0.2201 - acc: 0.9429 - val_loss: 0.2547 - val_acc: 0.9447\n",
            "Epoch 13/50\n",
            "422/422 [==============================] - 1s 2ms/step - loss: 0.1938 - acc: 0.9483 - val_loss: 0.2374 - val_acc: 0.9475\n",
            "Epoch 14/50\n",
            "422/422 [==============================] - 1s 2ms/step - loss: 0.1748 - acc: 0.9528 - val_loss: 0.2027 - val_acc: 0.9562\n",
            "Epoch 15/50\n",
            "422/422 [==============================] - 1s 3ms/step - loss: 0.1521 - acc: 0.9575 - val_loss: 0.1911 - val_acc: 0.9537\n",
            "Epoch 16/50\n",
            "422/422 [==============================] - 1s 3ms/step - loss: 0.1374 - acc: 0.9613 - val_loss: 0.1846 - val_acc: 0.9562\n",
            "Epoch 17/50\n",
            "422/422 [==============================] - 1s 2ms/step - loss: 0.1246 - acc: 0.9643 - val_loss: 0.1777 - val_acc: 0.9587\n",
            "Epoch 18/50\n",
            "422/422 [==============================] - 1s 2ms/step - loss: 0.1125 - acc: 0.9670 - val_loss: 0.1690 - val_acc: 0.9612\n",
            "Epoch 19/50\n",
            "422/422 [==============================] - 1s 2ms/step - loss: 0.1037 - acc: 0.9691 - val_loss: 0.1794 - val_acc: 0.9617\n",
            "Epoch 20/50\n",
            "422/422 [==============================] - 1s 2ms/step - loss: 0.0976 - acc: 0.9711 - val_loss: 0.1597 - val_acc: 0.9648\n",
            "Epoch 21/50\n",
            "422/422 [==============================] - 1s 2ms/step - loss: 0.0902 - acc: 0.9738 - val_loss: 0.1696 - val_acc: 0.9623\n",
            "Epoch 22/50\n",
            "422/422 [==============================] - 1s 2ms/step - loss: 0.0858 - acc: 0.9744 - val_loss: 0.1735 - val_acc: 0.9613\n",
            "Epoch 23/50\n",
            "422/422 [==============================] - 1s 2ms/step - loss: 0.0801 - acc: 0.9762 - val_loss: 0.1709 - val_acc: 0.9630\n",
            "Epoch 24/50\n",
            "422/422 [==============================] - 1s 2ms/step - loss: 0.0732 - acc: 0.9783 - val_loss: 0.1557 - val_acc: 0.9647\n",
            "Epoch 25/50\n",
            "422/422 [==============================] - 1s 2ms/step - loss: 0.0676 - acc: 0.9801 - val_loss: 0.1701 - val_acc: 0.9633\n",
            "Epoch 26/50\n",
            "422/422 [==============================] - 2s 4ms/step - loss: 0.0665 - acc: 0.9803 - val_loss: 0.1770 - val_acc: 0.9665\n",
            "Epoch 27/50\n",
            "422/422 [==============================] - 2s 4ms/step - loss: 0.0596 - acc: 0.9817 - val_loss: 0.1902 - val_acc: 0.9622\n",
            "Epoch 28/50\n",
            "422/422 [==============================] - 1s 3ms/step - loss: 0.0577 - acc: 0.9831 - val_loss: 0.1594 - val_acc: 0.9692\n",
            "Epoch 29/50\n",
            "422/422 [==============================] - 1s 3ms/step - loss: 0.0549 - acc: 0.9832 - val_loss: 0.1873 - val_acc: 0.9648\n",
            "Epoch 30/50\n",
            "422/422 [==============================] - 1s 2ms/step - loss: 0.0521 - acc: 0.9845 - val_loss: 0.1555 - val_acc: 0.9672\n",
            "Epoch 31/50\n",
            "422/422 [==============================] - 1s 2ms/step - loss: 0.0465 - acc: 0.9859 - val_loss: 0.1789 - val_acc: 0.9665\n",
            "Epoch 32/50\n",
            "422/422 [==============================] - 1s 2ms/step - loss: 0.0467 - acc: 0.9861 - val_loss: 0.1771 - val_acc: 0.9680\n",
            "Epoch 33/50\n",
            "422/422 [==============================] - 1s 2ms/step - loss: 0.0456 - acc: 0.9859 - val_loss: 0.1678 - val_acc: 0.9668\n",
            "Epoch 34/50\n",
            "422/422 [==============================] - 1s 2ms/step - loss: 0.0446 - acc: 0.9864 - val_loss: 0.1947 - val_acc: 0.9667\n",
            "Epoch 35/50\n",
            "422/422 [==============================] - 1s 2ms/step - loss: 0.0431 - acc: 0.9870 - val_loss: 0.1622 - val_acc: 0.9705\n",
            "Epoch 36/50\n",
            "422/422 [==============================] - 1s 2ms/step - loss: 0.0426 - acc: 0.9871 - val_loss: 0.2199 - val_acc: 0.9637\n",
            "Epoch 37/50\n",
            "422/422 [==============================] - 1s 2ms/step - loss: 0.0411 - acc: 0.9881 - val_loss: 0.1572 - val_acc: 0.9710\n",
            "Epoch 38/50\n",
            "422/422 [==============================] - 1s 3ms/step - loss: 0.0370 - acc: 0.9891 - val_loss: 0.2193 - val_acc: 0.9602\n",
            "Epoch 39/50\n",
            "422/422 [==============================] - 1s 2ms/step - loss: 0.0380 - acc: 0.9885 - val_loss: 0.1954 - val_acc: 0.9670\n",
            "Epoch 40/50\n",
            "422/422 [==============================] - 1s 2ms/step - loss: 0.0403 - acc: 0.9882 - val_loss: 0.1926 - val_acc: 0.9682\n",
            "Epoch 41/50\n",
            "422/422 [==============================] - 1s 2ms/step - loss: 0.0304 - acc: 0.9905 - val_loss: 0.2269 - val_acc: 0.9665\n",
            "Epoch 42/50\n",
            "422/422 [==============================] - 1s 2ms/step - loss: 0.0328 - acc: 0.9901 - val_loss: 0.1907 - val_acc: 0.9670\n",
            "Epoch 43/50\n",
            "422/422 [==============================] - 1s 3ms/step - loss: 0.0276 - acc: 0.9913 - val_loss: 0.1968 - val_acc: 0.9677\n",
            "Epoch 44/50\n",
            "422/422 [==============================] - 1s 2ms/step - loss: 0.0367 - acc: 0.9889 - val_loss: 0.2020 - val_acc: 0.9682\n",
            "Epoch 45/50\n",
            "422/422 [==============================] - 1s 2ms/step - loss: 0.0343 - acc: 0.9897 - val_loss: 0.2026 - val_acc: 0.9660\n",
            "Epoch 46/50\n",
            "422/422 [==============================] - 1s 2ms/step - loss: 0.0308 - acc: 0.9909 - val_loss: 0.2042 - val_acc: 0.9692\n",
            "Epoch 47/50\n",
            "422/422 [==============================] - 1s 2ms/step - loss: 0.0283 - acc: 0.9912 - val_loss: 0.2087 - val_acc: 0.9660\n",
            "Epoch 48/50\n",
            "422/422 [==============================] - 1s 2ms/step - loss: 0.0241 - acc: 0.9927 - val_loss: 0.2130 - val_acc: 0.9685\n",
            "Epoch 49/50\n",
            "422/422 [==============================] - 1s 2ms/step - loss: 0.0300 - acc: 0.9907 - val_loss: 0.2276 - val_acc: 0.9652\n",
            "Epoch 50/50\n",
            "422/422 [==============================] - 1s 2ms/step - loss: 0.0277 - acc: 0.9918 - val_loss: 0.2097 - val_acc: 0.9697\n"
          ],
          "name": "stdout"
        }
      ]
    },
    {
      "cell_type": "markdown",
      "metadata": {
        "id": "9pokREOnllV_"
      },
      "source": [
        "### 정확도, 손실 시각화"
      ]
    },
    {
      "cell_type": "code",
      "metadata": {
        "id": "Q_xU4leSlZxR"
      },
      "source": [
        "import matplotlib.pyplot as plt\n",
        "\n",
        "def show_graph(history_dict):\n",
        "    accuracy = history_dict['acc']\n",
        "    val_accuracy = history_dict['val_acc']\n",
        "    loss = history_dict['loss']\n",
        "    val_loss = history_dict['val_loss']\n",
        "\n",
        "    epochs = range(1, len(loss) + 1)\n",
        "    \n",
        "    plt.figure(figsize=(16, 1))\n",
        "    \n",
        "    plt.subplot(121)\n",
        "    plt.subplots_adjust(top=2)\n",
        "    plt.plot(epochs, accuracy, 'ro', label='Training accuracy')\n",
        "    plt.plot(epochs, val_accuracy, 'r', label='Validation accuracy')\n",
        "    plt.title('Trainging and validation accuracy and loss')\n",
        "    plt.xlabel('Epochs')\n",
        "    plt.ylabel('Accuracy and Loss')\n",
        "\n",
        "    plt.legend(loc='upper center', bbox_to_anchor=(0.5, -0.1),\n",
        "              fancybox=True, shadow=True, ncol=5)\n",
        "#     plt.legend(bbox_to_anchor=(1, -0.1))\n",
        "\n",
        "    plt.subplot(122)\n",
        "    plt.plot(epochs, loss, 'bo', label='Training loss')\n",
        "    plt.plot(epochs, val_loss, 'b', label='Validation loss')\n",
        "    plt.title('Training and validation loss')\n",
        "    plt.xlabel('Epochs')\n",
        "    plt.ylabel('Loss')\n",
        "    plt.legend(loc='upper center', bbox_to_anchor=(0.5, -0.1),\n",
        "          fancybox=True, shadow=True, ncol=5)\n",
        "#     plt.legend(bbox_to_anchor=(1, 0))\n",
        "\n",
        "    plt.show()"
      ],
      "execution_count": null,
      "outputs": []
    },
    {
      "cell_type": "code",
      "metadata": {
        "colab": {
          "base_uri": "https://localhost:8080/",
          "height": 217
        },
        "id": "MjBjE-Man9P0",
        "outputId": "9b3505e5-4983-4695-cf47-359c257232b5"
      },
      "source": [
        "show_graph(history.history)"
      ],
      "execution_count": null,
      "outputs": [
        {
          "output_type": "display_data",
          "data": {
            "image/png": "[encoded data removed]",
            "text/plain": [
              "<Figure size 1152x72 with 2 Axes>"
            ]
          },
          "metadata": {
            "tags": [],
            "needs_background": "light"
          }
        }
      ]
    },
    {
      "cell_type": "markdown",
      "metadata": {
        "id": "nQUorxu0pcdI"
      },
      "source": [
        "첫번째 에폭의 결과가 너무 편차가 심하여 그래프를 알아보기 힘드니 <br/>10번째 에폭의 결과부터 그래프로 그려보도록 하겠습니다."
      ]
    },
    {
      "cell_type": "code",
      "metadata": {
        "colab": {
          "base_uri": "https://localhost:8080/",
          "height": 215
        },
        "id": "FaQtNqdioErh",
        "outputId": "2990c922-b306-46d0-c36e-c5da0dac96b8"
      },
      "source": [
        "m = map(lambda x: (x[0], x[1][10:]), history.history.items())\n",
        "not_noise_history = dict(list(m))\n",
        "show_graph(not_noise_history)"
      ],
      "execution_count": null,
      "outputs": [
        {
          "output_type": "display_data",
          "data": {
            "image/png": "[encoded data removed]",
            "text/plain": [
              "<Figure size 1152x72 with 2 Axes>"
            ]
          },
          "metadata": {
            "tags": [],
            "needs_background": "light"
          }
        }
      ]
    },
    {
      "cell_type": "markdown",
      "metadata": {
        "id": "5K_n0hu-pTgj"
      },
      "source": [
        "대략 20 에폭부터 과대적합이 시작되는걸 확인할 수 있습니다."
      ]
    },
    {
      "cell_type": "code",
      "metadata": {
        "colab": {
          "base_uri": "https://localhost:8080/"
        },
        "id": "oHyzL6PtoNFZ",
        "outputId": "05901c51-4389-47ea-dabd-18d9f4b79bdc"
      },
      "source": [
        "model.evaluate(reshape_x_test, y_test)"
      ],
      "execution_count": null,
      "outputs": [
        {
          "output_type": "stream",
          "text": [
            "313/313 [==============================] - 1s 2ms/step - loss: 0.2246 - acc: 0.9672\n"
          ],
          "name": "stdout"
        },
        {
          "output_type": "execute_result",
          "data": {
            "text/plain": [
              "[0.22463884949684143, 0.967199981212616]"
            ]
          },
          "metadata": {
            "tags": []
          },
          "execution_count": 15
        }
      ]
    },
    {
      "cell_type": "markdown",
      "metadata": {
        "id": "dGRAvByHoVix"
      },
      "source": [
        "96%의 정확도를 보여주고 있습니다.<br/>\n",
        "레이어를 더 깊고 넓게 구성을 하여 높은 정확도를 만들어보겠습니다."
      ]
    },
    {
      "cell_type": "markdown",
      "metadata": {
        "id": "tRI782EPpllQ"
      },
      "source": [
        "## 모델 구성 - CNN\n",
        "지금까지 포스팅한 간단한 DNN으로도 MNIST 데이터셋의 분류를 높은 정확도로 만들 수 있습니다.<br/>\n",
        "하지만 CNN을 이용하면 적은 파라메터로 좀더 정확한 모델을 구성할 수 있습니다.<br/>\n",
        "간단한 CNN 모델을 구성해보겠습니다."
      ]
    },
    {
      "cell_type": "markdown",
      "metadata": {
        "id": "Vkat3fJQqDxC"
      },
      "source": [
        "### 네트워크 구성\n",
        "Kernel Initializer로는 유명한 Xavier Initializer를 사용합니다."
      ]
    },
    {
      "cell_type": "code",
      "metadata": {
        "colab": {
          "base_uri": "https://localhost:8080/"
        },
        "id": "VcY_fREpoRMA",
        "outputId": "eed7a97f-8692-4630-e641-4bb4330f4d90"
      },
      "source": [
        "model = Sequential()\n",
        "# model.add(layers.InputLayer())\n",
        "model.add(layers.Conv2D(\n",
        "    input_shape=(28, 28, 1),\n",
        "    filters=64, \n",
        "    kernel_size=(2, 2), \n",
        "    strides=(1, 1), \n",
        "    padding='same',\n",
        "    activation='relu',\n",
        "    kernel_initializer='glorot_normal',\n",
        "))\n",
        "model.add(layers.MaxPool2D())\n",
        "model.add(layers.Conv2D(\n",
        "    filters=128, \n",
        "    kernel_size=(2, 2), \n",
        "    strides=(1, 1), \n",
        "    padding='same',\n",
        "    activation='relu',\n",
        "    kernel_initializer='glorot_normal'\n",
        "))\n",
        "model.add(layers.MaxPool2D())\n",
        "model.add(layers.Flatten())\n",
        "model.add(layers.Dense(10, activation='softmax'))\n",
        "\n",
        "model.summary()"
      ],
      "execution_count": null,
      "outputs": [
        {
          "output_type": "stream",
          "text": [
            "Model: \"sequential_2\"\n",
            "_________________________________________________________________\n",
            "Layer (type)                 Output Shape              Param #   \n",
            "=================================================================\n",
            "conv2d (Conv2D)              (None, 28, 28, 64)        320       \n",
            "_________________________________________________________________\n",
            "max_pooling2d (MaxPooling2D) (None, 14, 14, 64)        0         \n",
            "_________________________________________________________________\n",
            "conv2d_1 (Conv2D)            (None, 14, 14, 128)       32896     \n",
            "_________________________________________________________________\n",
            "max_pooling2d_1 (MaxPooling2 (None, 7, 7, 128)         0         \n",
            "_________________________________________________________________\n",
            "flatten_2 (Flatten)          (None, 6272)              0         \n",
            "_________________________________________________________________\n",
            "dense_6 (Dense)              (None, 10)                62730     \n",
            "=================================================================\n",
            "Total params: 95,946\n",
            "Trainable params: 95,946\n",
            "Non-trainable params: 0\n",
            "_________________________________________________________________\n"
          ],
          "name": "stdout"
        }
      ]
    },
    {
      "cell_type": "markdown",
      "metadata": {
        "id": "A7h1UUpJrOTg"
      },
      "source": [
        "### 모델 컴파일\n",
        "레이블 데이터를 원-핫 인코딩을 진행하지 않았기 때문에 Loss 펑션에 sparse_categorical_crossentropy를 지정합니다."
      ]
    },
    {
      "cell_type": "code",
      "metadata": {
        "id": "vGx1a-lAqqzR"
      },
      "source": [
        "model.compile(\n",
        "    optimizer='adam',\n",
        "    loss='sparse_categorical_crossentropy',\n",
        "    metrics=['acc']\n",
        ")"
      ],
      "execution_count": null,
      "outputs": []
    },
    {
      "cell_type": "markdown",
      "metadata": {
        "id": "V2HBMg0trz5h"
      },
      "source": [
        "### 모델 학습"
      ]
    },
    {
      "cell_type": "code",
      "metadata": {
        "colab": {
          "base_uri": "https://localhost:8080/"
        },
        "id": "bwgLhbwHrjc7",
        "outputId": "63f5a228-6a51-482b-acc6-8da5c0bf3abe"
      },
      "source": [
        "history = model.fit(\n",
        "    reshape_x_train,\n",
        "    y_train,\n",
        "    batch_size=128,\n",
        "    epochs=20,\n",
        "    validation_split=.1,\n",
        ")"
      ],
      "execution_count": null,
      "outputs": [
        {
          "output_type": "stream",
          "text": [
            "Epoch 1/20\n",
            "422/422 [==============================] - 32s 8ms/step - loss: 0.8460 - acc: 0.9220 - val_loss: 0.0751 - val_acc: 0.9797\n",
            "Epoch 2/20\n",
            "422/422 [==============================] - 3s 7ms/step - loss: 0.0727 - acc: 0.9780 - val_loss: 0.0596 - val_acc: 0.9840\n",
            "Epoch 3/20\n",
            "422/422 [==============================] - 3s 7ms/step - loss: 0.0535 - acc: 0.9833 - val_loss: 0.0747 - val_acc: 0.9793\n",
            "Epoch 4/20\n",
            "422/422 [==============================] - 3s 7ms/step - loss: 0.0410 - acc: 0.9869 - val_loss: 0.0593 - val_acc: 0.9842\n",
            "Epoch 5/20\n",
            "422/422 [==============================] - 3s 7ms/step - loss: 0.0396 - acc: 0.9870 - val_loss: 0.0567 - val_acc: 0.9878\n",
            "Epoch 6/20\n",
            "422/422 [==============================] - 3s 7ms/step - loss: 0.0324 - acc: 0.9897 - val_loss: 0.0747 - val_acc: 0.9825\n",
            "Epoch 7/20\n",
            "422/422 [==============================] - 3s 7ms/step - loss: 0.0272 - acc: 0.9907 - val_loss: 0.0702 - val_acc: 0.9850\n",
            "Epoch 8/20\n",
            "422/422 [==============================] - 3s 7ms/step - loss: 0.0283 - acc: 0.9910 - val_loss: 0.0747 - val_acc: 0.9843\n",
            "Epoch 9/20\n",
            "422/422 [==============================] - 3s 8ms/step - loss: 0.0269 - acc: 0.9912 - val_loss: 0.1194 - val_acc: 0.9777\n",
            "Epoch 10/20\n",
            "422/422 [==============================] - 3s 7ms/step - loss: 0.0226 - acc: 0.9923 - val_loss: 0.0710 - val_acc: 0.9850\n",
            "Epoch 11/20\n",
            "422/422 [==============================] - 3s 7ms/step - loss: 0.0199 - acc: 0.9943 - val_loss: 0.0905 - val_acc: 0.9852\n",
            "Epoch 12/20\n",
            "422/422 [==============================] - 3s 8ms/step - loss: 0.0197 - acc: 0.9938 - val_loss: 0.0820 - val_acc: 0.9830\n",
            "Epoch 13/20\n",
            "422/422 [==============================] - 3s 7ms/step - loss: 0.0193 - acc: 0.9940 - val_loss: 0.0869 - val_acc: 0.9842\n",
            "Epoch 14/20\n",
            "422/422 [==============================] - 3s 7ms/step - loss: 0.0204 - acc: 0.9936 - val_loss: 0.0873 - val_acc: 0.9873\n",
            "Epoch 15/20\n",
            "422/422 [==============================] - 3s 7ms/step - loss: 0.0189 - acc: 0.9941 - val_loss: 0.0904 - val_acc: 0.9832\n",
            "Epoch 16/20\n",
            "422/422 [==============================] - 3s 7ms/step - loss: 0.0179 - acc: 0.9942 - val_loss: 0.0781 - val_acc: 0.9883\n",
            "Epoch 17/20\n",
            "422/422 [==============================] - 3s 7ms/step - loss: 0.0153 - acc: 0.9953 - val_loss: 0.0934 - val_acc: 0.9863\n",
            "Epoch 18/20\n",
            "422/422 [==============================] - 3s 8ms/step - loss: 0.0136 - acc: 0.9954 - val_loss: 0.0865 - val_acc: 0.9882\n",
            "Epoch 19/20\n",
            "422/422 [==============================] - 3s 7ms/step - loss: 0.0148 - acc: 0.9955 - val_loss: 0.0897 - val_acc: 0.9870\n",
            "Epoch 20/20\n",
            "422/422 [==============================] - 3s 7ms/step - loss: 0.0137 - acc: 0.9958 - val_loss: 0.1017 - val_acc: 0.9853\n"
          ],
          "name": "stdout"
        }
      ]
    },
    {
      "cell_type": "markdown",
      "metadata": {
        "id": "NKDFyuBptEUI"
      },
      "source": [
        "저는 코랩을 사용하여 GPU로 돌렸습니다"
      ]
    },
    {
      "cell_type": "markdown",
      "metadata": {
        "id": "senTojwTtIVn"
      },
      "source": [
        "### 정확도 및 손실 시각화"
      ]
    },
    {
      "cell_type": "code",
      "metadata": {
        "colab": {
          "base_uri": "https://localhost:8080/",
          "height": 215
        },
        "id": "Jg-lZ_Bqr9p5",
        "outputId": "9e6d6be3-1acc-41d2-b70b-ceb3be74677b"
      },
      "source": [
        "show_graph(history.history)"
      ],
      "execution_count": null,
      "outputs": [
        {
          "output_type": "display_data",
          "data": {
            "image/png": "[encoded data removed]",
            "text/plain": [
              "<Figure size 1152x72 with 2 Axes>"
            ]
          },
          "metadata": {
            "tags": [],
            "needs_background": "light"
          }
        }
      ]
    },
    {
      "cell_type": "markdown",
      "metadata": {
        "id": "rDOln4IUtOxP"
      },
      "source": [
        "에폭의 결과 때문에 편차가 심하여 첫 에폭을 제외하고 보도록 하겠습니다."
      ]
    },
    {
      "cell_type": "code",
      "metadata": {
        "colab": {
          "base_uri": "https://localhost:8080/",
          "height": 214
        },
        "id": "hdBUpLL0tLNy",
        "outputId": "496b898d-de24-44ea-cbdd-c99e6947aef9"
      },
      "source": [
        "m = map(lambda x: (x[0], x[1][1:]), history.history.items())\n",
        "not_noise_history = dict(list(m))\n",
        "show_graph(not_noise_history)"
      ],
      "execution_count": null,
      "outputs": [
        {
          "output_type": "display_data",
          "data": {
            "image/png": "[encoded data removed]",
            "text/plain": [
              "<Figure size 1152x72 with 2 Axes>"
            ]
          },
          "metadata": {
            "tags": [],
            "needs_background": "light"
          }
        }
      ]
    },
    {
      "cell_type": "markdown",
      "metadata": {
        "id": "ccHX3OdIuYjv"
      },
      "source": [
        "검증세트의 손실을 보니 8번째 에폭부터 과대적합이 된 것 같네요.<br/>\n",
        "과대적합을 해결할 수 있다면 정확도를 높일 수 있을까요 ?"
      ]
    },
    {
      "cell_type": "markdown",
      "metadata": {
        "id": "adOIBAUMuYUf"
      },
      "source": [
        "## 과대적합 해결\n",
        "위와 같은 과대적합을 피하는 방법으로는 여러가지 방법이 있는데요.<br/>\n",
        "L1, L2 규제와 같은 정규화를 이용하여 가중치를 감쇠(Weight Decay)시키는 방법과 드랍아웃, 모델의 하이퍼파라메터 튜닝 등으로 과대적합을 피하려 할 수 있습니다."
      ]
    },
    {
      "cell_type": "markdown",
      "metadata": {
        "id": "NQoDemSZunMo"
      },
      "source": [
        "### 모델의 재구성\n",
        "기존 모델은 2단의 컨볼루션 레이어와 풀링 레이어 사용했습니다.<br/>\n",
        "모델이 정보를 더 가질 수 있도록 레이어를 더 구성시키고, 드랍아웃과 L2 규제를 걸어 더 복잡한 모델이지만 과대적합은 피할 수 있도록 재구성해보죠."
      ]
    },
    {
      "cell_type": "code",
      "metadata": {
        "colab": {
          "base_uri": "https://localhost:8080/"
        },
        "id": "VtE-Du-atN2h",
        "outputId": "6e4b5df0-e480-497d-9295-24310b0ea06a"
      },
      "source": [
        "from tensorflow.keras.models import Sequential\n",
        "from tensorflow.keras import layers\n",
        "from tensorflow.keras import regularizers\n",
        "\n",
        "model = Sequential()\n",
        "model.add(layers.Conv2D(\n",
        "    input_shape=(28, 28, 1),\n",
        "    filters=32, \n",
        "    kernel_size=(2, 2), \n",
        "    strides=(1, 1), \n",
        "    padding='same',\n",
        "    activation='relu',\n",
        "    kernel_initializer='glorot_normal',\n",
        "    kernel_regularizer=regularizers.l2(0.01),\n",
        "))\n",
        "model.add(layers.MaxPool2D())\n",
        "model.add(layers.Dropout(.5))\n",
        "\n",
        "model.add(layers.Conv2D(\n",
        "    filters=64, \n",
        "    kernel_size=(2, 2), \n",
        "    strides=(1, 1), \n",
        "    padding='same',\n",
        "    activation='relu',\n",
        "    kernel_initializer='glorot_normal',\n",
        "    kernel_regularizer=regularizers.l2(0.01),\n",
        "))\n",
        "model.add(layers.MaxPool2D())\n",
        "model.add(layers.Dropout(.5))\n",
        "\n",
        "model.add(layers.Conv2D(\n",
        "    filters=128, \n",
        "    kernel_size=(2, 2), \n",
        "    strides=(1, 1), \n",
        "    padding='same',\n",
        "    activation='relu',\n",
        "    kernel_initializer='glorot_normal',\n",
        "    kernel_regularizer=regularizers.l2(0.01),\n",
        "))\n",
        "model.add(layers.MaxPool2D())\n",
        "model.add(layers.Dropout(.5))\n",
        "\n",
        "model.add(layers.Conv2D(\n",
        "    filters=256, \n",
        "    kernel_size=(2, 2), \n",
        "    strides=(1, 1), \n",
        "    padding='same',\n",
        "    activation='relu',\n",
        "    kernel_initializer='glorot_normal',\n",
        "    kernel_regularizer=regularizers.l2(0.01),\n",
        "))\n",
        "model.add(layers.MaxPool2D())\n",
        "model.add(layers.Dropout(.5))\n",
        "\n",
        "model.add(layers.Flatten())\n",
        "model.add(layers.Dense(10, activation='softmax', kernel_regularizer=regularizers.l2(0.01),))\n",
        "\n",
        "model.summary()"
      ],
      "execution_count": null,
      "outputs": [
        {
          "output_type": "stream",
          "text": [
            "Model: \"sequential_3\"\n",
            "_________________________________________________________________\n",
            "Layer (type)                 Output Shape              Param #   \n",
            "=================================================================\n",
            "conv2d_2 (Conv2D)            (None, 28, 28, 32)        160       \n",
            "_________________________________________________________________\n",
            "max_pooling2d_2 (MaxPooling2 (None, 14, 14, 32)        0         \n",
            "_________________________________________________________________\n",
            "dropout (Dropout)            (None, 14, 14, 32)        0         \n",
            "_________________________________________________________________\n",
            "conv2d_3 (Conv2D)            (None, 14, 14, 64)        8256      \n",
            "_________________________________________________________________\n",
            "max_pooling2d_3 (MaxPooling2 (None, 7, 7, 64)          0         \n",
            "_________________________________________________________________\n",
            "dropout_1 (Dropout)          (None, 7, 7, 64)          0         \n",
            "_________________________________________________________________\n",
            "conv2d_4 (Conv2D)            (None, 7, 7, 128)         32896     \n",
            "_________________________________________________________________\n",
            "max_pooling2d_4 (MaxPooling2 (None, 3, 3, 128)         0         \n",
            "_________________________________________________________________\n",
            "dropout_2 (Dropout)          (None, 3, 3, 128)         0         \n",
            "_________________________________________________________________\n",
            "conv2d_5 (Conv2D)            (None, 3, 3, 256)         131328    \n",
            "_________________________________________________________________\n",
            "max_pooling2d_5 (MaxPooling2 (None, 1, 1, 256)         0         \n",
            "_________________________________________________________________\n",
            "dropout_3 (Dropout)          (None, 1, 1, 256)         0         \n",
            "_________________________________________________________________\n",
            "flatten_3 (Flatten)          (None, 256)               0         \n",
            "_________________________________________________________________\n",
            "dense_7 (Dense)              (None, 10)                2570      \n",
            "=================================================================\n",
            "Total params: 175,210\n",
            "Trainable params: 175,210\n",
            "Non-trainable params: 0\n",
            "_________________________________________________________________\n"
          ],
          "name": "stdout"
        }
      ]
    },
    {
      "cell_type": "markdown",
      "metadata": {
        "id": "YURqiMvcwWPA"
      },
      "source": [
        "아까보다 두개의 레이어를 더 추가했고, 파라메터 수가 2배 가까이 늘어난게 보입니다.<br/>\n",
        "중간중간 드랍아웃이 적용되었고, 레이어별로 L2 정규화를 추가했습니다.<br/>\n",
        "이러한 정규화 기법을 추가하지 않고 학습을 했다면 이전보다 더 빠르게 과대적합이 일어나겠죠?<br/>\n",
        "그럼 드랍아웃과 L2규제를 추가한 이후로 모델이 과대적합을 어떻게 견뎌내는지 확인해봅시다."
      ]
    },
    {
      "cell_type": "markdown",
      "metadata": {
        "id": "12iBImldwgD4"
      },
      "source": [
        "### 모델 컴파일"
      ]
    },
    {
      "cell_type": "code",
      "metadata": {
        "id": "nKqdf9Shufag"
      },
      "source": [
        "model.compile(\n",
        "    optimizer='adam',\n",
        "    loss='sparse_categorical_crossentropy',\n",
        "    metrics=['acc']\n",
        ")"
      ],
      "execution_count": null,
      "outputs": []
    },
    {
      "cell_type": "markdown",
      "metadata": {
        "id": "bvHwnk7UwtWQ"
      },
      "source": [
        "### 학습시작\n",
        "Dropout과 Weight Decay를 추가함으로써 과대적합을 막았고, 뉴런의 학습에 제약을 두었으니, 학습이 더뎌질 수 밖에 없습니다.<br/>\n",
        "충분히 학습할 수 있도록 에폭수를 조금 더 늘려 학습을 진행하도록 합니다."
      ]
    },
    {
      "cell_type": "code",
      "metadata": {
        "colab": {
          "base_uri": "https://localhost:8080/"
        },
        "id": "Qz0VGPRgwsJa",
        "outputId": "04827e82-aeb7-44e3-aa23-8e99dce2e834"
      },
      "source": [
        "history = model.fit(\n",
        "    reshape_x_train,\n",
        "    y_train,\n",
        "    batch_size=128,\n",
        "    epochs=30,\n",
        "    validation_split=.1,\n",
        ")"
      ],
      "execution_count": null,
      "outputs": [
        {
          "output_type": "stream",
          "text": [
            "Epoch 1/30\n",
            "422/422 [==============================] - 4s 8ms/step - loss: 8.4441 - acc: 0.1614 - val_loss: 4.9367 - val_acc: 0.2060\n",
            "Epoch 2/30\n",
            "422/422 [==============================] - 3s 8ms/step - loss: 4.4719 - acc: 0.2196 - val_loss: 4.1579 - val_acc: 0.2832\n",
            "Epoch 3/30\n",
            "422/422 [==============================] - 3s 8ms/step - loss: 3.6688 - acc: 0.2862 - val_loss: 3.1725 - val_acc: 0.5093\n",
            "Epoch 4/30\n",
            "422/422 [==============================] - 3s 8ms/step - loss: 2.7647 - acc: 0.4583 - val_loss: 1.7493 - val_acc: 0.8810\n",
            "Epoch 5/30\n",
            "422/422 [==============================] - 3s 8ms/step - loss: 1.8008 - acc: 0.7229 - val_loss: 1.1181 - val_acc: 0.9467\n",
            "Epoch 6/30\n",
            "422/422 [==============================] - 3s 8ms/step - loss: 1.2672 - acc: 0.8284 - val_loss: 0.7822 - val_acc: 0.9635\n",
            "Epoch 7/30\n",
            "422/422 [==============================] - 3s 8ms/step - loss: 0.9628 - acc: 0.8734 - val_loss: 0.5951 - val_acc: 0.9732\n",
            "Epoch 8/30\n",
            "422/422 [==============================] - 3s 7ms/step - loss: 0.7799 - acc: 0.8956 - val_loss: 0.5087 - val_acc: 0.9712\n",
            "Epoch 9/30\n",
            "422/422 [==============================] - 3s 8ms/step - loss: 0.6726 - acc: 0.9073 - val_loss: 0.4330 - val_acc: 0.9787\n",
            "Epoch 10/30\n",
            "422/422 [==============================] - 3s 8ms/step - loss: 0.6140 - acc: 0.9147 - val_loss: 0.4060 - val_acc: 0.9777\n",
            "Epoch 11/30\n",
            "422/422 [==============================] - 3s 8ms/step - loss: 0.5788 - acc: 0.9197 - val_loss: 0.3851 - val_acc: 0.9817\n",
            "Epoch 12/30\n",
            "422/422 [==============================] - 3s 8ms/step - loss: 0.5560 - acc: 0.9256 - val_loss: 0.3753 - val_acc: 0.9832\n",
            "Epoch 13/30\n",
            "422/422 [==============================] - 3s 8ms/step - loss: 0.5589 - acc: 0.9229 - val_loss: 0.3808 - val_acc: 0.9817\n",
            "Epoch 14/30\n",
            "422/422 [==============================] - 3s 8ms/step - loss: 0.5533 - acc: 0.9251 - val_loss: 0.3783 - val_acc: 0.9822\n",
            "Epoch 15/30\n",
            "422/422 [==============================] - 3s 8ms/step - loss: 0.5553 - acc: 0.9270 - val_loss: 0.3769 - val_acc: 0.9838\n",
            "Epoch 16/30\n",
            "422/422 [==============================] - 3s 8ms/step - loss: 0.5613 - acc: 0.9252 - val_loss: 0.3809 - val_acc: 0.9832\n",
            "Epoch 17/30\n",
            "422/422 [==============================] - 3s 8ms/step - loss: 0.5594 - acc: 0.9264 - val_loss: 0.3939 - val_acc: 0.9818\n",
            "Epoch 18/30\n",
            "422/422 [==============================] - 3s 7ms/step - loss: 0.5750 - acc: 0.9241 - val_loss: 0.3861 - val_acc: 0.9833\n",
            "Epoch 19/30\n",
            "422/422 [==============================] - 3s 8ms/step - loss: 0.5627 - acc: 0.9274 - val_loss: 0.3888 - val_acc: 0.9835\n",
            "Epoch 20/30\n",
            "422/422 [==============================] - 3s 8ms/step - loss: 0.5708 - acc: 0.9251 - val_loss: 0.3867 - val_acc: 0.9832\n",
            "Epoch 21/30\n",
            "422/422 [==============================] - 3s 8ms/step - loss: 0.5687 - acc: 0.9262 - val_loss: 0.3902 - val_acc: 0.9830\n",
            "Epoch 22/30\n",
            "422/422 [==============================] - 3s 8ms/step - loss: 0.5767 - acc: 0.9253 - val_loss: 0.3958 - val_acc: 0.9823\n",
            "Epoch 23/30\n",
            "422/422 [==============================] - 3s 8ms/step - loss: 0.5677 - acc: 0.9269 - val_loss: 0.3882 - val_acc: 0.9832\n",
            "Epoch 24/30\n",
            "422/422 [==============================] - 3s 8ms/step - loss: 0.5692 - acc: 0.9278 - val_loss: 0.3855 - val_acc: 0.9835\n",
            "Epoch 25/30\n",
            "422/422 [==============================] - 3s 8ms/step - loss: 0.5667 - acc: 0.9279 - val_loss: 0.3877 - val_acc: 0.9853\n",
            "Epoch 26/30\n",
            "422/422 [==============================] - 3s 8ms/step - loss: 0.5682 - acc: 0.9272 - val_loss: 0.3973 - val_acc: 0.9828\n",
            "Epoch 27/30\n",
            "422/422 [==============================] - 3s 8ms/step - loss: 0.5703 - acc: 0.9272 - val_loss: 0.3952 - val_acc: 0.9808\n",
            "Epoch 28/30\n",
            "422/422 [==============================] - 3s 8ms/step - loss: 0.5724 - acc: 0.9269 - val_loss: 0.3909 - val_acc: 0.9832\n",
            "Epoch 29/30\n",
            "422/422 [==============================] - 3s 8ms/step - loss: 0.5643 - acc: 0.9283 - val_loss: 0.3858 - val_acc: 0.9838\n",
            "Epoch 30/30\n",
            "422/422 [==============================] - 3s 8ms/step - loss: 0.5659 - acc: 0.9278 - val_loss: 0.3857 - val_acc: 0.9845\n"
          ],
          "name": "stdout"
        }
      ]
    },
    {
      "cell_type": "markdown",
      "metadata": {
        "id": "cXzxa2Kjxh1Q"
      },
      "source": [
        "### 모델평가\n",
        "정규화 기법을 적용한 학습 결과가 어떻게 변했는지 확인 해봅시다."
      ]
    },
    {
      "cell_type": "code",
      "metadata": {
        "colab": {
          "base_uri": "https://localhost:8080/",
          "height": 217
        },
        "id": "iN11lQPbw-6Q",
        "outputId": "ee0c9e46-9b7c-4c00-9da9-1f929b9e24da"
      },
      "source": [
        "show_graph(history.history)"
      ],
      "execution_count": null,
      "outputs": [
        {
          "output_type": "display_data",
          "data": {
            "image/png": "[encoded data removed]",
            "text/plain": [
              "<Figure size 1152x72 with 2 Axes>"
            ]
          },
          "metadata": {
            "tags": [],
            "needs_background": "light"
          }
        }
      ]
    },
    {
      "cell_type": "markdown",
      "metadata": {
        "id": "Gc0aA0SnxwU3"
      },
      "source": [
        "가중치의 급격환 변화를 L2 규제를 통해 막아두어 처음 2에폭까지는 큰 변화가 없다가 3~5 에폭이 지나서 모델이 높은 성능에 근접해지는걸 확인할 수 있습니다.<br/>\n",
        "그럼 조금 더 자세하게 볼 수 있도록 첫 5에폭까지의 데이터는 제외하고 이후의 데이터를 그래프로 확인해보겠습니다."
      ]
    },
    {
      "cell_type": "code",
      "metadata": {
        "colab": {
          "base_uri": "https://localhost:8080/",
          "height": 215
        },
        "id": "i2dBV9w3xrE4",
        "outputId": "b693dac8-4c7c-4056-d5be-352e9c399929"
      },
      "source": [
        "m = map(lambda x: (x[0], x[1][5:]), history.history.items())\n",
        "not_noise_history = dict(list(m))\n",
        "show_graph(not_noise_history)"
      ],
      "execution_count": null,
      "outputs": [
        {
          "output_type": "display_data",
          "data": {
            "image/png": "[encoded data removed]",
            "text/plain": [
              "<Figure size 1152x72 with 2 Axes>"
            ]
          },
          "metadata": {
            "tags": [],
            "needs_background": "light"
          }
        }
      ]
    },
    {
      "cell_type": "markdown",
      "metadata": {
        "id": "e_A0FnjzyUpY"
      },
      "source": [
        "트레이닝 세트의 정확도가 낮게 측정되는건 드랍아웃 때문입니다.<br/>\n",
        "학습마다 몇몇의 특정 뉴런을 비활성화 시키기 때문에 정확도가 낮아지게 됩니다.<br/>\n",
        "훈련을 마친 이후 예측시에는 드랍아웃 시키는 뉴런의 수를 0%로 맞추고 사용합니다.\n",
        "(모든 뉴런을 사용)"
      ]
    },
    {
      "cell_type": "code",
      "metadata": {
        "colab": {
          "base_uri": "https://localhost:8080/"
        },
        "id": "MUvKO8cCx1tP",
        "outputId": "43e164f3-ec65-481d-b456-942b5ea1299e"
      },
      "source": [
        "model.evaluate(\n",
        "    reshape_x_train,\n",
        "    y_train\n",
        ")"
      ],
      "execution_count": null,
      "outputs": [
        {
          "output_type": "stream",
          "text": [
            "1875/1875 [==============================] - 7s 4ms/step - loss: 0.3969 - acc: 0.9801\n"
          ],
          "name": "stdout"
        },
        {
          "output_type": "execute_result",
          "data": {
            "text/plain": [
              "[0.3968812823295593, 0.9800500273704529]"
            ]
          },
          "metadata": {
            "tags": []
          },
          "execution_count": 26
        }
      ]
    },
    {
      "cell_type": "code",
      "metadata": {
        "colab": {
          "base_uri": "https://localhost:8080/"
        },
        "id": "jBrTo6MCya_J",
        "outputId": "01e4ef5a-e37c-4d44-d675-50e557ceb022"
      },
      "source": [
        "model.evaluate(\n",
        "    reshape_x_test,\n",
        "    y_test\n",
        ")"
      ],
      "execution_count": null,
      "outputs": [
        {
          "output_type": "stream",
          "text": [
            "313/313 [==============================] - 2s 5ms/step - loss: 0.3897 - acc: 0.9827\n"
          ],
          "name": "stdout"
        },
        {
          "output_type": "execute_result",
          "data": {
            "text/plain": [
              "[0.3896848261356354, 0.982699990272522]"
            ]
          },
          "metadata": {
            "tags": []
          },
          "execution_count": 27
        }
      ]
    },
    {
      "cell_type": "markdown",
      "metadata": {
        "id": "RivRW1GFEfOA"
      },
      "source": [
        "테스트 세트의 손실과 정확도입니다.<br/>\n",
        "98%의 정확도를 보여주고 있습니다.<br/>\n",
        "모델의 네트워크를 변경하여 99% 정확도에 도전해봅시다.<br/>"
      ]
    },
    {
      "cell_type": "code",
      "metadata": {
        "id": "N5JAPp2iEa5N"
      },
      "source": [
        ""
      ],
      "execution_count": null,
      "outputs": []
    }
  ]
}