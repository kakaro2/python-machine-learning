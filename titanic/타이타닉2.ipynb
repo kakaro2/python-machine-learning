{
  "nbformat": 4,
  "nbformat_minor": 0,
  "metadata": {
    "colab": {
      "name": "타이타닉2.ipynb",
      "provenance": [],
      "collapsed_sections": []
    },
    "kernelspec": {
      "name": "python3",
      "display_name": "Python 3"
    },
    "language_info": {
      "name": "python"
    }
  },
  "cells": [
    {
      "cell_type": "markdown",
      "metadata": {
        "id": "zZXnS3FDcn9w"
      },
      "source": [
        "#2021-07-08 타이타닉 2\n",
        "- 타이타닉 예제 따라하기 2 링크 : https://kaggle-kr.tistory.com/18"
      ]
    },
    {
      "cell_type": "markdown",
      "metadata": {
        "id": "UGlUTumfeKc2"
      },
      "source": [
        "#### 타이타닉 1에서 했던 처리 가져오기\n",
        "- 초기설정\n",
        "\n"
      ]
    },
    {
      "cell_type": "code",
      "metadata": {
        "colab": {
          "base_uri": "https://localhost:8080/",
          "height": 17
        },
        "id": "QybsBRvtcl1j",
        "outputId": "afdc4d74-fefa-4757-bc76-d7a29f4dca1e"
      },
      "source": [
        "import numpy as np\n",
        "import pandas as pd\n",
        "from pandas import Series\n",
        "import matplotlib.pyplot as plt\n",
        "import seaborn as sns\n",
        "\n",
        "plt.style.use('seaborn')\n",
        "sns.set(font_scale=2.5) \n",
        "\n",
        "import plotly.offline as py\n",
        "py.init_notebook_mode(connected=True)\n",
        "import plotly.graph_objs as go\n",
        "import plotly.tools as tls\n",
        "\n",
        "#ignore warnings\n",
        "import warnings\n",
        "warnings.filterwarnings('ignore')\n",
        "\n",
        "\n",
        "\n",
        "%matplotlib inline\n",
        "\n",
        "df_train = pd.read_csv('train.csv')\n",
        "df_test = pd.read_csv('test.csv')\n",
        "df_train['FamilySize'] = df_train['SibSp'] + df_train['Parch'] + 1 # 자신을 포함해야하니 1을 더합니다\n",
        "df_test['FamilySize'] = df_test['SibSp'] + df_test['Parch'] + 1 # 자신을 포함해야하니 1을 더합니다\n",
        "\n",
        "df_test.loc[df_test.Fare.isnull(), 'Fare'] = df_test['Fare'].mean()\n",
        "\n",
        "df_train['Fare'] = df_train['Fare'].map(lambda i: np.log(i) if i > 0 else 0)\n",
        "df_test['Fare'] = df_test['Fare'].map(lambda i: np.log(i) if i > 0 else 0)"
      ],
      "execution_count": null,
      "outputs": [
        {
          "output_type": "display_data",
          "data": {
            "text/html": [
              "        <script type=\"text/javascript\">\n",
              "        window.PlotlyConfig = {MathJaxConfig: 'local'};\n",
              "        if (window.MathJax) {MathJax.Hub.Config({SVG: {font: \"STIX-Web\"}});}\n",
              "        if (typeof require !== 'undefined') {\n",
              "        require.undef(\"plotly\");\n",
              "        requirejs.config({\n",
              "            paths: {\n",
              "                'plotly': ['https://cdn.plot.ly/plotly-latest.min']\n",
              "            }\n",
              "        });\n",
              "        require(['plotly'], function(Plotly) {\n",
              "            window._Plotly = Plotly;\n",
              "        });\n",
              "        }\n",
              "        </script>\n",
              "        "
            ]
          },
          "metadata": {
            "tags": []
          }
        }
      ]
    },
    {
      "cell_type": "markdown",
      "metadata": {
        "id": "lHWL_xP9dKq_"
      },
      "source": [
        "- 가족구성 자신을 넣어야하기 때문에 1 더하기\n",
        "- Fare에 log를 취해 비대칭성 없애기"
      ]
    },
    {
      "cell_type": "markdown",
      "metadata": {
        "id": "8GjW4uE8e2Fu"
      },
      "source": [
        "## 3. Feature engineering\n",
        "- dataset에 존재하는 Nulldata채우기\n",
        "- 아무 숫자X Nulldata의 statistics 참고\n",
        "- Nulldata를 어떻게 채우느냐에 따라 모델의 성능이 크게 움직임\n",
        "- **Feature engineering**은 실제 모델의 학습에 쓰려고 하는 것이므로, train 과 test에 똑같이 적용해야한다."
      ]
    },
    {
      "cell_type": "markdown",
      "metadata": {
        "id": "b4U4NO4Vfrb2"
      },
      "source": [
        "### 3.1 Fill Null"
      ]
    },
    {
      "cell_type": "markdown",
      "metadata": {
        "id": "_7fruPmZfwe9"
      },
      "source": [
        "#### 3.1.1 Fill Null in Age using title\n",
        "- Age 에는 Null data가 177개가 있는데, title + statistics를 사용해보자\n",
        "- 영어에는 Miss, Mrr, Mrs 같은 타이틀이 존재하므로, 각 탑승객의 이름에는 이런 타이틀이 들어간다.\n",
        "- pandas 에는 data 를 string 으로 바꿔주는 str method, 거기에 정규표현식을 적용하게 해주는 extract method가 있습니다. 이를 이용하여 title 을 추출해보자."
      ]
    },
    {
      "cell_type": "code",
      "metadata": {
        "id": "GM5Dvz76eT8G"
      },
      "source": [
        "df_train['Initial']= df_train.Name.str.extract('([A-Za-z]+)\\.')\n",
        "df_test['Initial']= df_test.Name.str.extract('([A-Za-z]+)\\.')"
      ],
      "execution_count": null,
      "outputs": []
    },
    {
      "cell_type": "markdown",
      "metadata": {
        "id": "KIfIGmiGgluO"
      },
      "source": [
        "- 분리한 타이틀은 Initial에 저장"
      ]
    },
    {
      "cell_type": "code",
      "metadata": {
        "colab": {
          "base_uri": "https://localhost:8080/",
          "height": 103
        },
        "id": "8j2cTdcrhjk_",
        "outputId": "c3225678-6b92-4508-d7c6-9a49d23e0a08"
      },
      "source": [
        "pd.crosstab(df_train['Initial'], df_train['Sex']).\\\n",
        "T.style.background_gradient(cmap='summer_r')"
      ],
      "execution_count": null,
      "outputs": [
        {
          "output_type": "execute_result",
          "data": {
            "text/html": [
              "<style  type=\"text/css\" >\n",
              "#T_011225f6_dfb8_11eb_ba05_0242ac1c0002row0_col0,#T_011225f6_dfb8_11eb_ba05_0242ac1c0002row0_col1,#T_011225f6_dfb8_11eb_ba05_0242ac1c0002row0_col3,#T_011225f6_dfb8_11eb_ba05_0242ac1c0002row0_col4,#T_011225f6_dfb8_11eb_ba05_0242ac1c0002row0_col5,#T_011225f6_dfb8_11eb_ba05_0242ac1c0002row0_col7,#T_011225f6_dfb8_11eb_ba05_0242ac1c0002row0_col8,#T_011225f6_dfb8_11eb_ba05_0242ac1c0002row0_col12,#T_011225f6_dfb8_11eb_ba05_0242ac1c0002row0_col15,#T_011225f6_dfb8_11eb_ba05_0242ac1c0002row0_col16,#T_011225f6_dfb8_11eb_ba05_0242ac1c0002row1_col2,#T_011225f6_dfb8_11eb_ba05_0242ac1c0002row1_col6,#T_011225f6_dfb8_11eb_ba05_0242ac1c0002row1_col9,#T_011225f6_dfb8_11eb_ba05_0242ac1c0002row1_col10,#T_011225f6_dfb8_11eb_ba05_0242ac1c0002row1_col11,#T_011225f6_dfb8_11eb_ba05_0242ac1c0002row1_col13,#T_011225f6_dfb8_11eb_ba05_0242ac1c0002row1_col14{\n",
              "            background-color:  #ffff66;\n",
              "            color:  #000000;\n",
              "        }#T_011225f6_dfb8_11eb_ba05_0242ac1c0002row0_col2,#T_011225f6_dfb8_11eb_ba05_0242ac1c0002row0_col6,#T_011225f6_dfb8_11eb_ba05_0242ac1c0002row0_col9,#T_011225f6_dfb8_11eb_ba05_0242ac1c0002row0_col10,#T_011225f6_dfb8_11eb_ba05_0242ac1c0002row0_col11,#T_011225f6_dfb8_11eb_ba05_0242ac1c0002row0_col13,#T_011225f6_dfb8_11eb_ba05_0242ac1c0002row0_col14,#T_011225f6_dfb8_11eb_ba05_0242ac1c0002row1_col0,#T_011225f6_dfb8_11eb_ba05_0242ac1c0002row1_col1,#T_011225f6_dfb8_11eb_ba05_0242ac1c0002row1_col3,#T_011225f6_dfb8_11eb_ba05_0242ac1c0002row1_col4,#T_011225f6_dfb8_11eb_ba05_0242ac1c0002row1_col5,#T_011225f6_dfb8_11eb_ba05_0242ac1c0002row1_col7,#T_011225f6_dfb8_11eb_ba05_0242ac1c0002row1_col8,#T_011225f6_dfb8_11eb_ba05_0242ac1c0002row1_col12,#T_011225f6_dfb8_11eb_ba05_0242ac1c0002row1_col15,#T_011225f6_dfb8_11eb_ba05_0242ac1c0002row1_col16{\n",
              "            background-color:  #008066;\n",
              "            color:  #f1f1f1;\n",
              "        }</style><table id=\"T_011225f6_dfb8_11eb_ba05_0242ac1c0002\" ><thead>    <tr>        <th class=\"index_name level0\" >Initial</th>        <th class=\"col_heading level0 col0\" >Capt</th>        <th class=\"col_heading level0 col1\" >Col</th>        <th class=\"col_heading level0 col2\" >Countess</th>        <th class=\"col_heading level0 col3\" >Don</th>        <th class=\"col_heading level0 col4\" >Dr</th>        <th class=\"col_heading level0 col5\" >Jonkheer</th>        <th class=\"col_heading level0 col6\" >Lady</th>        <th class=\"col_heading level0 col7\" >Major</th>        <th class=\"col_heading level0 col8\" >Master</th>        <th class=\"col_heading level0 col9\" >Miss</th>        <th class=\"col_heading level0 col10\" >Mlle</th>        <th class=\"col_heading level0 col11\" >Mme</th>        <th class=\"col_heading level0 col12\" >Mr</th>        <th class=\"col_heading level0 col13\" >Mrs</th>        <th class=\"col_heading level0 col14\" >Ms</th>        <th class=\"col_heading level0 col15\" >Rev</th>        <th class=\"col_heading level0 col16\" >Sir</th>    </tr>    <tr>        <th class=\"index_name level0\" >Sex</th>        <th class=\"blank\" ></th>        <th class=\"blank\" ></th>        <th class=\"blank\" ></th>        <th class=\"blank\" ></th>        <th class=\"blank\" ></th>        <th class=\"blank\" ></th>        <th class=\"blank\" ></th>        <th class=\"blank\" ></th>        <th class=\"blank\" ></th>        <th class=\"blank\" ></th>        <th class=\"blank\" ></th>        <th class=\"blank\" ></th>        <th class=\"blank\" ></th>        <th class=\"blank\" ></th>        <th class=\"blank\" ></th>        <th class=\"blank\" ></th>        <th class=\"blank\" ></th>    </tr></thead><tbody>\n",
              "                <tr>\n",
              "                        <th id=\"T_011225f6_dfb8_11eb_ba05_0242ac1c0002level0_row0\" class=\"row_heading level0 row0\" >female</th>\n",
              "                        <td id=\"T_011225f6_dfb8_11eb_ba05_0242ac1c0002row0_col0\" class=\"data row0 col0\" >0</td>\n",
              "                        <td id=\"T_011225f6_dfb8_11eb_ba05_0242ac1c0002row0_col1\" class=\"data row0 col1\" >0</td>\n",
              "                        <td id=\"T_011225f6_dfb8_11eb_ba05_0242ac1c0002row0_col2\" class=\"data row0 col2\" >1</td>\n",
              "                        <td id=\"T_011225f6_dfb8_11eb_ba05_0242ac1c0002row0_col3\" class=\"data row0 col3\" >0</td>\n",
              "                        <td id=\"T_011225f6_dfb8_11eb_ba05_0242ac1c0002row0_col4\" class=\"data row0 col4\" >1</td>\n",
              "                        <td id=\"T_011225f6_dfb8_11eb_ba05_0242ac1c0002row0_col5\" class=\"data row0 col5\" >0</td>\n",
              "                        <td id=\"T_011225f6_dfb8_11eb_ba05_0242ac1c0002row0_col6\" class=\"data row0 col6\" >1</td>\n",
              "                        <td id=\"T_011225f6_dfb8_11eb_ba05_0242ac1c0002row0_col7\" class=\"data row0 col7\" >0</td>\n",
              "                        <td id=\"T_011225f6_dfb8_11eb_ba05_0242ac1c0002row0_col8\" class=\"data row0 col8\" >0</td>\n",
              "                        <td id=\"T_011225f6_dfb8_11eb_ba05_0242ac1c0002row0_col9\" class=\"data row0 col9\" >182</td>\n",
              "                        <td id=\"T_011225f6_dfb8_11eb_ba05_0242ac1c0002row0_col10\" class=\"data row0 col10\" >2</td>\n",
              "                        <td id=\"T_011225f6_dfb8_11eb_ba05_0242ac1c0002row0_col11\" class=\"data row0 col11\" >1</td>\n",
              "                        <td id=\"T_011225f6_dfb8_11eb_ba05_0242ac1c0002row0_col12\" class=\"data row0 col12\" >0</td>\n",
              "                        <td id=\"T_011225f6_dfb8_11eb_ba05_0242ac1c0002row0_col13\" class=\"data row0 col13\" >125</td>\n",
              "                        <td id=\"T_011225f6_dfb8_11eb_ba05_0242ac1c0002row0_col14\" class=\"data row0 col14\" >1</td>\n",
              "                        <td id=\"T_011225f6_dfb8_11eb_ba05_0242ac1c0002row0_col15\" class=\"data row0 col15\" >0</td>\n",
              "                        <td id=\"T_011225f6_dfb8_11eb_ba05_0242ac1c0002row0_col16\" class=\"data row0 col16\" >0</td>\n",
              "            </tr>\n",
              "            <tr>\n",
              "                        <th id=\"T_011225f6_dfb8_11eb_ba05_0242ac1c0002level0_row1\" class=\"row_heading level0 row1\" >male</th>\n",
              "                        <td id=\"T_011225f6_dfb8_11eb_ba05_0242ac1c0002row1_col0\" class=\"data row1 col0\" >1</td>\n",
              "                        <td id=\"T_011225f6_dfb8_11eb_ba05_0242ac1c0002row1_col1\" class=\"data row1 col1\" >2</td>\n",
              "                        <td id=\"T_011225f6_dfb8_11eb_ba05_0242ac1c0002row1_col2\" class=\"data row1 col2\" >0</td>\n",
              "                        <td id=\"T_011225f6_dfb8_11eb_ba05_0242ac1c0002row1_col3\" class=\"data row1 col3\" >1</td>\n",
              "                        <td id=\"T_011225f6_dfb8_11eb_ba05_0242ac1c0002row1_col4\" class=\"data row1 col4\" >6</td>\n",
              "                        <td id=\"T_011225f6_dfb8_11eb_ba05_0242ac1c0002row1_col5\" class=\"data row1 col5\" >1</td>\n",
              "                        <td id=\"T_011225f6_dfb8_11eb_ba05_0242ac1c0002row1_col6\" class=\"data row1 col6\" >0</td>\n",
              "                        <td id=\"T_011225f6_dfb8_11eb_ba05_0242ac1c0002row1_col7\" class=\"data row1 col7\" >2</td>\n",
              "                        <td id=\"T_011225f6_dfb8_11eb_ba05_0242ac1c0002row1_col8\" class=\"data row1 col8\" >40</td>\n",
              "                        <td id=\"T_011225f6_dfb8_11eb_ba05_0242ac1c0002row1_col9\" class=\"data row1 col9\" >0</td>\n",
              "                        <td id=\"T_011225f6_dfb8_11eb_ba05_0242ac1c0002row1_col10\" class=\"data row1 col10\" >0</td>\n",
              "                        <td id=\"T_011225f6_dfb8_11eb_ba05_0242ac1c0002row1_col11\" class=\"data row1 col11\" >0</td>\n",
              "                        <td id=\"T_011225f6_dfb8_11eb_ba05_0242ac1c0002row1_col12\" class=\"data row1 col12\" >517</td>\n",
              "                        <td id=\"T_011225f6_dfb8_11eb_ba05_0242ac1c0002row1_col13\" class=\"data row1 col13\" >0</td>\n",
              "                        <td id=\"T_011225f6_dfb8_11eb_ba05_0242ac1c0002row1_col14\" class=\"data row1 col14\" >0</td>\n",
              "                        <td id=\"T_011225f6_dfb8_11eb_ba05_0242ac1c0002row1_col15\" class=\"data row1 col15\" >6</td>\n",
              "                        <td id=\"T_011225f6_dfb8_11eb_ba05_0242ac1c0002row1_col16\" class=\"data row1 col16\" >1</td>\n",
              "            </tr>\n",
              "    </tbody></table>"
            ],
            "text/plain": [
              "<pandas.io.formats.style.Styler at 0x7fa77b57c390>"
            ]
          },
          "metadata": {
            "tags": []
          },
          "execution_count": 714
        }
      ]
    },
    {
      "cell_type": "markdown",
      "metadata": {
        "id": "bB-3M6ociI6O"
      },
      "source": [
        "- 위 테이블을 참고하여 남자, 여자가 쓰는 Initial을 구분해보자"
      ]
    },
    {
      "cell_type": "code",
      "metadata": {
        "id": "v3V5Zay8hw_u"
      },
      "source": [
        "df_train['Initial'].replace(['Mlle','Mme','Ms','Dr','Major','Lady','Countess','Jonkheer','Col','Rev','Capt','Sir','Don', 'Dona'],\n",
        "                            ['Miss','Miss','Miss','Mr','Mr','Mrs','Mrs','Other','Other','Other','Mr','Mr','Mr', 'Mr'],inplace=True)\n",
        "\n",
        "df_test['Initial'].replace(['Mlle','Mme','Ms','Dr','Major','Lady','Countess','Jonkheer','Col','Rev','Capt','Sir','Don', 'Dona'],\n",
        "                        ['Miss','Miss','Miss','Mr','Mr','Mrs','Mrs','Other','Other','Other','Mr','Mr','Mr', 'Mr'],inplace=True)"
      ],
      "execution_count": null,
      "outputs": []
    },
    {
      "cell_type": "code",
      "metadata": {
        "colab": {
          "base_uri": "https://localhost:8080/",
          "height": 235
        },
        "id": "FTRQaE5Jiihe",
        "outputId": "8f9b25f4-9ccd-4a0a-8e2e-deda5ceed402"
      },
      "source": [
        "df_train.groupby('Initial').mean()"
      ],
      "execution_count": null,
      "outputs": [
        {
          "output_type": "execute_result",
          "data": {
            "text/html": [
              "<div>\n",
              "<style scoped>\n",
              "    .dataframe tbody tr th:only-of-type {\n",
              "        vertical-align: middle;\n",
              "    }\n",
              "\n",
              "    .dataframe tbody tr th {\n",
              "        vertical-align: top;\n",
              "    }\n",
              "\n",
              "    .dataframe thead th {\n",
              "        text-align: right;\n",
              "    }\n",
              "</style>\n",
              "<table border=\"1\" class=\"dataframe\">\n",
              "  <thead>\n",
              "    <tr style=\"text-align: right;\">\n",
              "      <th></th>\n",
              "      <th>PassengerId</th>\n",
              "      <th>Survived</th>\n",
              "      <th>Pclass</th>\n",
              "      <th>Age</th>\n",
              "      <th>SibSp</th>\n",
              "      <th>Parch</th>\n",
              "      <th>Fare</th>\n",
              "      <th>FamilySize</th>\n",
              "    </tr>\n",
              "    <tr>\n",
              "      <th>Initial</th>\n",
              "      <th></th>\n",
              "      <th></th>\n",
              "      <th></th>\n",
              "      <th></th>\n",
              "      <th></th>\n",
              "      <th></th>\n",
              "      <th></th>\n",
              "      <th></th>\n",
              "    </tr>\n",
              "  </thead>\n",
              "  <tbody>\n",
              "    <tr>\n",
              "      <th>Master</th>\n",
              "      <td>414.975000</td>\n",
              "      <td>0.575000</td>\n",
              "      <td>2.625000</td>\n",
              "      <td>4.574167</td>\n",
              "      <td>2.300000</td>\n",
              "      <td>1.375000</td>\n",
              "      <td>3.340710</td>\n",
              "      <td>4.675000</td>\n",
              "    </tr>\n",
              "    <tr>\n",
              "      <th>Miss</th>\n",
              "      <td>411.741935</td>\n",
              "      <td>0.704301</td>\n",
              "      <td>2.284946</td>\n",
              "      <td>21.860000</td>\n",
              "      <td>0.698925</td>\n",
              "      <td>0.537634</td>\n",
              "      <td>3.123713</td>\n",
              "      <td>2.236559</td>\n",
              "    </tr>\n",
              "    <tr>\n",
              "      <th>Mr</th>\n",
              "      <td>455.880907</td>\n",
              "      <td>0.162571</td>\n",
              "      <td>2.381853</td>\n",
              "      <td>32.739609</td>\n",
              "      <td>0.293006</td>\n",
              "      <td>0.151229</td>\n",
              "      <td>2.651507</td>\n",
              "      <td>1.444234</td>\n",
              "    </tr>\n",
              "    <tr>\n",
              "      <th>Mrs</th>\n",
              "      <td>456.393701</td>\n",
              "      <td>0.795276</td>\n",
              "      <td>1.984252</td>\n",
              "      <td>35.981818</td>\n",
              "      <td>0.692913</td>\n",
              "      <td>0.818898</td>\n",
              "      <td>3.443751</td>\n",
              "      <td>2.511811</td>\n",
              "    </tr>\n",
              "    <tr>\n",
              "      <th>Other</th>\n",
              "      <td>564.444444</td>\n",
              "      <td>0.111111</td>\n",
              "      <td>1.666667</td>\n",
              "      <td>45.888889</td>\n",
              "      <td>0.111111</td>\n",
              "      <td>0.111111</td>\n",
              "      <td>2.641605</td>\n",
              "      <td>1.222222</td>\n",
              "    </tr>\n",
              "  </tbody>\n",
              "</table>\n",
              "</div>"
            ],
            "text/plain": [
              "         PassengerId  Survived    Pclass  ...     Parch      Fare  FamilySize\n",
              "Initial                                   ...                                \n",
              "Master    414.975000  0.575000  2.625000  ...  1.375000  3.340710    4.675000\n",
              "Miss      411.741935  0.704301  2.284946  ...  0.537634  3.123713    2.236559\n",
              "Mr        455.880907  0.162571  2.381853  ...  0.151229  2.651507    1.444234\n",
              "Mrs       456.393701  0.795276  1.984252  ...  0.818898  3.443751    2.511811\n",
              "Other     564.444444  0.111111  1.666667  ...  0.111111  2.641605    1.222222\n",
              "\n",
              "[5 rows x 8 columns]"
            ]
          },
          "metadata": {
            "tags": []
          },
          "execution_count": 716
        }
      ]
    },
    {
      "cell_type": "markdown",
      "metadata": {
        "id": "Gv9ED0D1iuUe"
      },
      "source": [
        "- Survived를 보면 여성과 관계된 Miss, Mrs가 생존율이 높은것을 확인 할 수 있다"
      ]
    },
    {
      "cell_type": "code",
      "metadata": {
        "colab": {
          "base_uri": "https://localhost:8080/",
          "height": 406
        },
        "id": "P-b7NVtlipX2",
        "outputId": "61e3c57b-6210-479c-ad57-33018983f98c"
      },
      "source": [
        "df_train.groupby('Initial')['Survived'].mean().plot.bar()"
      ],
      "execution_count": null,
      "outputs": [
        {
          "output_type": "execute_result",
          "data": {
            "text/plain": [
              "<matplotlib.axes._subplots.AxesSubplot at 0x7fa77ca01d50>"
            ]
          },
          "metadata": {
            "tags": []
          },
          "execution_count": 717
        },
        {
          "output_type": "display_data",
          "data": {
            "image/png": "[encoded data removed]",
            "text/plain": [
              "<Figure size 432x288 with 1 Axes>"
            ]
          },
          "metadata": {
            "tags": [],
            "needs_background": "light"
          }
        }
      ]
    },
    {
      "cell_type": "markdown",
      "metadata": {
        "id": "3HJjcou1jnVl"
      },
      "source": [
        "- 이제 Null data 를 채우자\n",
        "- Null data 를 채우는 방법은 statistics 를 활용하는 방법과 null data가 없는 데이터를 기반으로 새로운 머신러닝 알고리즘을 만들어 예측해서 채워넣은 방식도 있습니다.\n",
        "- 지금은 statistics 를 이용하여 채우고, statistics 는 train data 의 것을 의미합니다. 언제나 test 를 unseen 으로 둔 상태로 놔둬야 하며, train statistics 를 기반으로 test의 null data 를 채워야 합니다."
      ]
    },
    {
      "cell_type": "code",
      "metadata": {
        "colab": {
          "base_uri": "https://localhost:8080/",
          "height": 235
        },
        "id": "fijDqPaajMpF",
        "outputId": "a72ffef9-1bd9-4ad3-b54b-3fb96d475fb6"
      },
      "source": [
        "df_train.groupby('Initial').mean()"
      ],
      "execution_count": null,
      "outputs": [
        {
          "output_type": "execute_result",
          "data": {
            "text/html": [
              "<div>\n",
              "<style scoped>\n",
              "    .dataframe tbody tr th:only-of-type {\n",
              "        vertical-align: middle;\n",
              "    }\n",
              "\n",
              "    .dataframe tbody tr th {\n",
              "        vertical-align: top;\n",
              "    }\n",
              "\n",
              "    .dataframe thead th {\n",
              "        text-align: right;\n",
              "    }\n",
              "</style>\n",
              "<table border=\"1\" class=\"dataframe\">\n",
              "  <thead>\n",
              "    <tr style=\"text-align: right;\">\n",
              "      <th></th>\n",
              "      <th>PassengerId</th>\n",
              "      <th>Survived</th>\n",
              "      <th>Pclass</th>\n",
              "      <th>Age</th>\n",
              "      <th>SibSp</th>\n",
              "      <th>Parch</th>\n",
              "      <th>Fare</th>\n",
              "      <th>FamilySize</th>\n",
              "    </tr>\n",
              "    <tr>\n",
              "      <th>Initial</th>\n",
              "      <th></th>\n",
              "      <th></th>\n",
              "      <th></th>\n",
              "      <th></th>\n",
              "      <th></th>\n",
              "      <th></th>\n",
              "      <th></th>\n",
              "      <th></th>\n",
              "    </tr>\n",
              "  </thead>\n",
              "  <tbody>\n",
              "    <tr>\n",
              "      <th>Master</th>\n",
              "      <td>414.975000</td>\n",
              "      <td>0.575000</td>\n",
              "      <td>2.625000</td>\n",
              "      <td>4.574167</td>\n",
              "      <td>2.300000</td>\n",
              "      <td>1.375000</td>\n",
              "      <td>3.340710</td>\n",
              "      <td>4.675000</td>\n",
              "    </tr>\n",
              "    <tr>\n",
              "      <th>Miss</th>\n",
              "      <td>411.741935</td>\n",
              "      <td>0.704301</td>\n",
              "      <td>2.284946</td>\n",
              "      <td>21.860000</td>\n",
              "      <td>0.698925</td>\n",
              "      <td>0.537634</td>\n",
              "      <td>3.123713</td>\n",
              "      <td>2.236559</td>\n",
              "    </tr>\n",
              "    <tr>\n",
              "      <th>Mr</th>\n",
              "      <td>455.880907</td>\n",
              "      <td>0.162571</td>\n",
              "      <td>2.381853</td>\n",
              "      <td>32.739609</td>\n",
              "      <td>0.293006</td>\n",
              "      <td>0.151229</td>\n",
              "      <td>2.651507</td>\n",
              "      <td>1.444234</td>\n",
              "    </tr>\n",
              "    <tr>\n",
              "      <th>Mrs</th>\n",
              "      <td>456.393701</td>\n",
              "      <td>0.795276</td>\n",
              "      <td>1.984252</td>\n",
              "      <td>35.981818</td>\n",
              "      <td>0.692913</td>\n",
              "      <td>0.818898</td>\n",
              "      <td>3.443751</td>\n",
              "      <td>2.511811</td>\n",
              "    </tr>\n",
              "    <tr>\n",
              "      <th>Other</th>\n",
              "      <td>564.444444</td>\n",
              "      <td>0.111111</td>\n",
              "      <td>1.666667</td>\n",
              "      <td>45.888889</td>\n",
              "      <td>0.111111</td>\n",
              "      <td>0.111111</td>\n",
              "      <td>2.641605</td>\n",
              "      <td>1.222222</td>\n",
              "    </tr>\n",
              "  </tbody>\n",
              "</table>\n",
              "</div>"
            ],
            "text/plain": [
              "         PassengerId  Survived    Pclass  ...     Parch      Fare  FamilySize\n",
              "Initial                                   ...                                \n",
              "Master    414.975000  0.575000  2.625000  ...  1.375000  3.340710    4.675000\n",
              "Miss      411.741935  0.704301  2.284946  ...  0.537634  3.123713    2.236559\n",
              "Mr        455.880907  0.162571  2.381853  ...  0.151229  2.651507    1.444234\n",
              "Mrs       456.393701  0.795276  1.984252  ...  0.818898  3.443751    2.511811\n",
              "Other     564.444444  0.111111  1.666667  ...  0.111111  2.641605    1.222222\n",
              "\n",
              "[5 rows x 8 columns]"
            ]
          },
          "metadata": {
            "tags": []
          },
          "execution_count": 718
        }
      ]
    },
    {
      "cell_type": "markdown",
      "metadata": {
        "id": "2Bg3xvqdkf8d"
      },
      "source": [
        "- Age의 평균을 이용하여 Null value 를 채워보자.\n",
        "- pandas dataframe 을 다룰때에는 boolean array를 이용해 indexing 하는 방법이 편리하다."
      ]
    },
    {
      "cell_type": "code",
      "metadata": {
        "id": "SiQAiMpokc6f"
      },
      "source": [
        "df_train.loc[(df_train.Age.isnull())&(df_train.Initial=='Mr'),'Age'] = 33\n",
        "df_train.loc[(df_train.Age.isnull())&(df_train.Initial=='Mrs'),'Age'] = 36\n",
        "df_train.loc[(df_train.Age.isnull())&(df_train.Initial=='Master'),'Age'] = 5\n",
        "df_train.loc[(df_train.Age.isnull())&(df_train.Initial=='Miss'),'Age'] = 22\n",
        "df_train.loc[(df_train.Age.isnull())&(df_train.Initial=='Other'),'Age'] = 46\n",
        "\n",
        "df_test.loc[(df_test.Age.isnull())&(df_test.Initial=='Mr'),'Age'] = 33\n",
        "df_test.loc[(df_test.Age.isnull())&(df_test.Initial=='Mrs'),'Age'] = 36\n",
        "df_test.loc[(df_test.Age.isnull())&(df_test.Initial=='Master'),'Age'] = 5\n",
        "df_test.loc[(df_test.Age.isnull())&(df_test.Initial=='Miss'),'Age'] = 22\n",
        "df_test.loc[(df_test.Age.isnull())&(df_test.Initial=='Other'),'Age'] = 46"
      ],
      "execution_count": null,
      "outputs": []
    },
    {
      "cell_type": "markdown",
      "metadata": {
        "id": "yhBoPyAwlREt"
      },
      "source": [
        "- 코드 첫줄을 해석하면 'isnull() 이면서 Initial 이 Mr 인 조건을 만족하는 row(탑승객) 의 'Age' 의 값을 33으로 치환한다' 입니다.\n",
        "- loc + boolean + column 을 사용해 값을 치환하는 방법은 자주 쓰이므로 꼭 익숙해져야한다.\n",
        "- 여기서는 간단하게 Null을 채웠지만, 좀 더 다양한 방법을 쓴 예시들이 다른 커널에 존재한다.\n",
        "- https://www.kaggle.com/yassineghouzam/titanic-top-4-with-ensemble-modeling 보시면서 공부해보자!\n"
      ]
    },
    {
      "cell_type": "markdown",
      "metadata": {
        "id": "kX4CoJEtmZK-"
      },
      "source": [
        "#### 3.1.2 Fill Null in Embarked"
      ]
    },
    {
      "cell_type": "code",
      "metadata": {
        "colab": {
          "base_uri": "https://localhost:8080/"
        },
        "id": "bajouvVDlap1",
        "outputId": "d964474f-9ece-47e3-d17e-88a06087e34b"
      },
      "source": [
        "print('Embarked has ', sum(df_train['Embarked'].isnull()), 'Null values')"
      ],
      "execution_count": null,
      "outputs": [
        {
          "output_type": "stream",
          "text": [
            "Embarked has  2 Null values\n"
          ],
          "name": "stdout"
        }
      ]
    },
    {
      "cell_type": "code",
      "metadata": {
        "id": "KWRxjjq2mpbO"
      },
      "source": [
        "df_train['Embarked'].fillna('S', inplace=True)"
      ],
      "execution_count": null,
      "outputs": []
    },
    {
      "cell_type": "markdown",
      "metadata": {
        "id": "YK9K-04hm-hm"
      },
      "source": [
        "- Embarked 에는 Null value 가 2개 이고, S 에서 가장 많은 탑승객이 있었으므로, 단순하게 Null 을 S로 채우자.\n",
        "- dataframe 의 fillna method 를 이용하면 쉽게 채울 수 있습니다. 여기서 inplace=True 로 하면 df_train 에 fillna 를 실제로 적용하게 됩니다"
      ]
    },
    {
      "cell_type": "markdown",
      "metadata": {
        "id": "m44qkgWryYM4"
      },
      "source": [
        "### 3.2 Chage Age(continuous to categorical)\n",
        "- Age 는 현재 continuous feature 입니다. 이대로 써도 모델을 세울 수 있지만, Agge 를 몇개의 group로 나누어 category 화 시켜줄 수 도 있습니다. continuous 를 categorical 로 바꾸면 자칫 information loss 가 생길 수도 있습니다.\n",
        "- 이 튜토리얼과정은 다양한 방법을 소개합니다."
      ]
    },
    {
      "cell_type": "code",
      "metadata": {
        "id": "tcsWMgIF4twm"
      },
      "source": [
        "df_train['Age_cat'] = 0\n",
        "df_train.loc[df_train['Age'] < 10, 'Age_cat'] = 0\n",
        "df_train.loc[(10 <= df_train['Age']) & (df_train['Age'] < 20), 'Age_cat'] = 1\n",
        "df_train.loc[(20 <= df_train['Age']) & (df_train['Age'] < 30), 'Age_cat'] = 2\n",
        "df_train.loc[(30 <= df_train['Age']) & (df_train['Age'] < 40), 'Age_cat'] = 3\n",
        "df_train.loc[(40 <= df_train['Age']) & (df_train['Age'] < 50), 'Age_cat'] = 4\n",
        "df_train.loc[(50 <= df_train['Age']) & (df_train['Age'] < 60), 'Age_cat'] = 5\n",
        "df_train.loc[(60 <= df_train['Age']) & (df_train['Age'] < 70), 'Age_cat'] = 6\n",
        "df_train.loc[70 <= df_train['Age'], 'Age_cat'] = 7\n",
        "\n",
        "df_test['Age_cat'] = 0\n",
        "df_test.loc[df_test['Age'] < 10, 'Age_cat'] = 0\n",
        "df_test.loc[(10 <= df_test['Age']) & (df_test['Age'] < 20), 'Age_cat'] = 1\n",
        "df_test.loc[(20 <= df_test['Age']) & (df_test['Age'] < 30), 'Age_cat'] = 2\n",
        "df_test.loc[(30 <= df_test['Age']) & (df_test['Age'] < 40), 'Age_cat'] = 3\n",
        "df_test.loc[(40 <= df_test['Age']) & (df_test['Age'] < 50), 'Age_cat'] = 4\n",
        "df_test.loc[(50 <= df_test['Age']) & (df_test['Age'] < 60), 'Age_cat'] = 5\n",
        "df_test.loc[(60 <= df_test['Age']) & (df_test['Age'] < 70), 'Age_cat'] = 6\n",
        "df_test.loc[70 <= df_test['Age'], 'Age_cat'] = 7"
      ],
      "execution_count": null,
      "outputs": []
    },
    {
      "cell_type": "markdown",
      "metadata": {
        "id": "SysyQad25sMi"
      },
      "source": [
        "- 첫번째로 loc 를 사용한 방법입니다. loc 는 자주 사용하므로 숙지하면 좋습니다.\n",
        "- 나이는 10살 간격으로 나눕니다."
      ]
    },
    {
      "cell_type": "code",
      "metadata": {
        "id": "CZQ6uIFmyebw"
      },
      "source": [
        "def category_age(x):\n",
        "    if x < 10:\n",
        "        return 0\n",
        "    elif x < 20:\n",
        "        return 1\n",
        "    elif x < 30:\n",
        "        return 2\n",
        "    elif x < 40:\n",
        "        return 3\n",
        "    elif x < 50:\n",
        "        return 4\n",
        "    elif x < 60:\n",
        "        return 5\n",
        "    elif x < 70:\n",
        "        return 6\n",
        "    else:\n",
        "        return 7    \n",
        "    \n",
        "df_train['Age_cat_2'] = df_train['Age'].apply(category_age)"
      ],
      "execution_count": null,
      "outputs": []
    },
    {
      "cell_type": "markdown",
      "metadata": {
        "id": "Yz9XK7v_6Mt9"
      },
      "source": [
        "- 두번째로 간단한 함수를 만들어 apply 메소드에 넣어주는 방법입니다. 훨씬 쉽다.\n",
        "- 두가지 방법이 잘 적용됐다면, 둘다 같은 결과를 내야한다.\n",
        "- 이를 확인하기 위해 Series 간 boolean 비교 후 all() 메소드를 사용하자\n",
        " - all() 메소드는 모든 값이 True면 True 하나라도 False를 줍니다 \n"
      ]
    },
    {
      "cell_type": "code",
      "metadata": {
        "colab": {
          "base_uri": "https://localhost:8080/"
        },
        "id": "JKJCnno36qPm",
        "outputId": "0f688dbe-d228-4c70-bab8-98acb3445bb9"
      },
      "source": [
        "print('1번 방법, 2번 방법 둘다 같은 결과를 내면 True  -> ', (df_train['Age_cat'] == df_train['Age_cat_2']).all())"
      ],
      "execution_count": null,
      "outputs": [
        {
          "output_type": "stream",
          "text": [
            "1번 방법, 2번 방법 둘다 같은 결과를 내면 True  ->  True\n"
          ],
          "name": "stdout"
        }
      ]
    },
    {
      "cell_type": "markdown",
      "metadata": {
        "id": "_dyIvB0f9ThO"
      },
      "source": [
        "- True가 나온다면 둘 중 편한걸 선택\n",
        "- False가 나온다면 3.1 과정을 다시하기"
      ]
    },
    {
      "cell_type": "code",
      "metadata": {
        "id": "hK9kZMVd72-q"
      },
      "source": [
        "df_train.drop(['Age', 'Age_cat_2'], axis=1, inplace=True)\n",
        "df_test.drop(['Age'], axis=1, inplace=True)"
      ],
      "execution_count": null,
      "outputs": []
    },
    {
      "cell_type": "markdown",
      "metadata": {
        "id": "LNDgfJkk-MUo"
      },
      "source": [
        "- 중복되는 Age_cat 컬럼과 원래 컬럼 Age를 제거하자"
      ]
    },
    {
      "cell_type": "markdown",
      "metadata": {
        "id": "YcJJKurF-WY8"
      },
      "source": [
        "### 3.3 Change Initial, Embarked and Sex (string to numerical)\n",
        "- 현재 Initial 은 Mr, Mrs, Miss, Master, Other 으로 총 5개로 으루어져 있습니다.\n",
        "- 이런 카테고리로 표현된 데이터를 모델에 넣어줄때 우리가 해야할 일은 먼저 컴퓨터가 인식할 수 있도록 수치화 시켜야 합니다.\n",
        "- map method 를 사용해보자.\n"
      ]
    },
    {
      "cell_type": "code",
      "metadata": {
        "id": "6AryiXf39zEd"
      },
      "source": [
        "df_train['Initial'] = df_train['Initial'].map({'Master': 0, 'Miss' : 1,'Mr': 2, 'Mrs': 3, \"Other\": 4})\n",
        "df_test['Initial'] = df_test['Initial'].map({'Master': 0, 'Miss' : 1,'Mr': 2, 'Mrs': 3, \"Other\": 4})"
      ],
      "execution_count": null,
      "outputs": []
    },
    {
      "cell_type": "markdown",
      "metadata": {
        "id": "Oav4nWovANX2"
      },
      "source": [
        "- 사전 순서대로 정리하여 mapping"
      ]
    },
    {
      "cell_type": "markdown",
      "metadata": {
        "id": "63Y7-kWjBHCB"
      },
      "source": [
        "- Embarked 도 C, Q, S로 이루어져 있는데 map 을 사용하여 바꿔보자\n",
        "- 특정 column 에 어떤 값들이 있는 지 확인해보는 방법을 잠깐 살펴보겠습니다.\n",
        "- unique() 메소드를 사용하거나 value_counts() 를 사용하여 count 까지 보는 방법도 있습니다."
      ]
    },
    {
      "cell_type": "code",
      "metadata": {
        "colab": {
          "base_uri": "https://localhost:8080/"
        },
        "id": "xeZxV9xA_nHe",
        "outputId": "21bb2152-80e3-4844-df5e-decd3e82111b"
      },
      "source": [
        "df_train['Embarked'].unique()"
      ],
      "execution_count": null,
      "outputs": [
        {
          "output_type": "execute_result",
          "data": {
            "text/plain": [
              "array(['S', 'C', 'Q'], dtype=object)"
            ]
          },
          "metadata": {
            "tags": []
          },
          "execution_count": 727
        }
      ]
    },
    {
      "cell_type": "code",
      "metadata": {
        "colab": {
          "base_uri": "https://localhost:8080/"
        },
        "id": "j7Ybt9f9ATpb",
        "outputId": "a5a9e82d-8c89-4887-99c5-ab8f385e92cb"
      },
      "source": [
        "df_train['Embarked'].value_counts()"
      ],
      "execution_count": null,
      "outputs": [
        {
          "output_type": "execute_result",
          "data": {
            "text/plain": [
              "S    646\n",
              "C    168\n",
              "Q     77\n",
              "Name: Embarked, dtype: int64"
            ]
          },
          "metadata": {
            "tags": []
          },
          "execution_count": 728
        }
      ]
    },
    {
      "cell_type": "markdown",
      "metadata": {
        "id": "7UG1uDWdAfuz"
      },
      "source": [
        "- 위 두 방법으로 Embarked가 S, C, Q 세가지로 이루어진 것을 확인\n",
        "- 이제 map를 활용해보자"
      ]
    },
    {
      "cell_type": "code",
      "metadata": {
        "id": "DkKDhS-dAdnK"
      },
      "source": [
        "df_train['Embarked'] = df_train['Embarked'].map({'C': 0, 'Q': 1, 'S': 2})\n",
        "df_test['Embarked'] = df_test['Embarked'].map({'C': 0, 'Q': 1, 'S': 2})"
      ],
      "execution_count": null,
      "outputs": []
    },
    {
      "cell_type": "code",
      "metadata": {
        "colab": {
          "base_uri": "https://localhost:8080/"
        },
        "id": "ysQ1orWaO3pN",
        "outputId": "8966f6fc-fb87-42d4-e356-9801654e00b2"
      },
      "source": [
        "df_train['Embarked']"
      ],
      "execution_count": null,
      "outputs": [
        {
          "output_type": "execute_result",
          "data": {
            "text/plain": [
              "0      2\n",
              "1      0\n",
              "2      2\n",
              "3      2\n",
              "4      2\n",
              "      ..\n",
              "886    2\n",
              "887    2\n",
              "888    2\n",
              "889    0\n",
              "890    1\n",
              "Name: Embarked, Length: 891, dtype: int64"
            ]
          },
          "metadata": {
            "tags": []
          },
          "execution_count": 730
        }
      ]
    },
    {
      "cell_type": "code",
      "metadata": {
        "colab": {
          "base_uri": "https://localhost:8080/"
        },
        "id": "IwlE4A2rOV3V",
        "outputId": "f6b1600e-7228-4a0a-ec8f-bd521d4e05f7"
      },
      "source": [
        "df_train['Embarked'].isnull().any()"
      ],
      "execution_count": null,
      "outputs": [
        {
          "output_type": "execute_result",
          "data": {
            "text/plain": [
              "False"
            ]
          },
          "metadata": {
            "tags": []
          },
          "execution_count": 731
        }
      ]
    },
    {
      "cell_type": "markdown",
      "metadata": {
        "id": "tkLY_SMJPkeb"
      },
      "source": [
        "- Null이 사라졌는지 확인\n",
        "- isnull() 메소드를 사용해서 Series의 값들이 null 인지 아닌지에 대한 boolean 값을 얻을 수 있습니다.\n",
        "- any() 를 이용하여 Null이 한개라도 있을시 True, Null이 없을 시엔 False를 반환하게 됩니다.\n",
        "- Null이 없으므로 False반환"
      ]
    },
    {
      "cell_type": "code",
      "metadata": {
        "id": "5pmqlFNrOnxt"
      },
      "source": [
        "df_train['Sex'] = df_train['Sex'].map({'female': 0, 'male': 1})\n",
        "df_test['Sex'] = df_test['Sex'].map({'female': 0, 'male': 1})"
      ],
      "execution_count": null,
      "outputs": []
    },
    {
      "cell_type": "markdown",
      "metadata": {
        "id": "GZLtHBe1RJQ2"
      },
      "source": [
        "- Sex 도 map를 이용하여 바꿔봅시다."
      ]
    },
    {
      "cell_type": "markdown",
      "metadata": {
        "id": "921HeVQlRX1h"
      },
      "source": [
        "- 이제 각 feature 간의 상관관계를 한번 보려고 합니다. \n",
        "- 두 변수간의 Pearson conrrelation 을 구하면 (-1, 1) 사이의 값을 얻을 수 있습니다. -1로 갈수록 음의 상관관계, 1로 갈수록 양의 상관관계를 의미하며, 0은 상관관계가 없다는 것을 의미합니다."
      ]
    },
    {
      "cell_type": "markdown",
      "metadata": {
        "id": "k79Q08MASx1a"
      },
      "source": [
        "- 우리는 여러 feature 를 가지고 있으니 이를 maxtrix 형태로 보면 편한데  이를 heatmap plot 이라고 합니다.\n",
        "- dataframe의 corr() 메소드와 seaborn 을 가지고 편하게 그릴 수 있습니다."
      ]
    },
    {
      "cell_type": "code",
      "metadata": {
        "colab": {
          "base_uri": "https://localhost:8080/",
          "height": 746
        },
        "id": "XuTEeInORCDk",
        "outputId": "f7c8ddf0-65d4-456e-aab6-93c4347f7f3a"
      },
      "source": [
        "heatmap_data = df_train[['Survived', 'Pclass', 'Sex', 'Fare', 'Embarked', 'FamilySize', 'Initial', 'Age_cat']]\n",
        "\n",
        "colormap = plt.cm.RdBu\n",
        "plt.figure(figsize=(14,12))\n",
        "plt.title('Person Correlation of Features', y=1.05, size= 15)\n",
        "sns.heatmap(heatmap_data.astype(float).corr(), linewidths=0.1, vmax=1.0, square=True, cmap=colormap, linecolor='white', annot=True, annot_kws={\"size\": 16})\n",
        "del heatmap_data"
      ],
      "execution_count": null,
      "outputs": [
        {
          "output_type": "display_data",
          "data": {
            "image/png": "[encoded data removed]",
            "text/plain": [
              "<Figure size 1008x864 with 2 Axes>"
            ]
          },
          "metadata": {
            "tags": [],
            "needs_background": "light"
          }
        }
      ]
    },
    {
      "cell_type": "markdown",
      "metadata": {
        "id": "ts_Cali8WOoF"
      },
      "source": [
        "- EDA에서 살펴 보았듯이, Sex 와 Pclass 가 Survived 에 상관관계가 어느 정도 있음을 알 수 있습니다.\n",
        "- 생각보다 Fare 와 Embarked 도 상관관계가 있음을 볼 수 있습니다.\n",
        "- 또한 여기서 얻을 수 있는 정보는 서로 강한 상관관계를 갖는 feature들이 없다는 것입니다.\n",
        "- 이것은 불필요한 feature 가 없다는 것을 의미합니다. 1 또는 -1 의 상관관계를 가진 feature A, B 가 있다면, 우리가 얻을 수 있는 정보는 사실 하나일 것 입니다.\n",
        "- 이제 실제로 모델을 학습시키기 앞서서 data preprocessing(전처리)을 진행해보겠습니다."
      ]
    },
    {
      "cell_type": "markdown",
      "metadata": {
        "id": "nuAxwLBaXXvC"
      },
      "source": [
        "### 3.4 One-hot encoding on Initial and Embarked\n",
        "- 수치화한 카테고리 데이터를 그대로 넣어도 되지만, 모델의 성능을 높이기 위해 One-hot encoding을 해줄 수 있습니다.\n",
        "- 수치화는 간단히 Master: 0, Miss: 1, Mr: 2, Mrs: 3, Other: 4로 매핑"
      ]
    },
    {
      "cell_type": "markdown",
      "metadata": {
        "id": "CXJ2bsmJYzcB"
      },
      "source": [
        "- 직접 코딩하기 보다는 pandas 의 get_dummies 를 사용하여 쉽게 해볼 수 있다.\n",
        "- 총 5개의 카테고리 이므로 one-hot encoding 을 하고 나면 5개의 column이 생깁니다.\n",
        "- Initial 을 prefix로 두어서 구분이 쉽게 만들어 줍니다."
      ]
    },
    {
      "cell_type": "code",
      "metadata": {
        "id": "JGm7wSoCUsIr"
      },
      "source": [
        "df_train = pd.get_dummies(df_train, columns=['Initial'], prefix='Initial')\n",
        "df_test = pd.get_dummies(df_test, columns=['Initial'], prefix='Initial')"
      ],
      "execution_count": null,
      "outputs": []
    },
    {
      "cell_type": "code",
      "metadata": {
        "colab": {
          "base_uri": "https://localhost:8080/",
          "height": 496
        },
        "id": "RzE3BeNGaCDB",
        "outputId": "e388fbd7-385c-45eb-f943-b45a23a79b2b"
      },
      "source": [
        "df_train.head()"
      ],
      "execution_count": null,
      "outputs": [
        {
          "output_type": "execute_result",
          "data": {
            "text/html": [
              "<div>\n",
              "<style scoped>\n",
              "    .dataframe tbody tr th:only-of-type {\n",
              "        vertical-align: middle;\n",
              "    }\n",
              "\n",
              "    .dataframe tbody tr th {\n",
              "        vertical-align: top;\n",
              "    }\n",
              "\n",
              "    .dataframe thead th {\n",
              "        text-align: right;\n",
              "    }\n",
              "</style>\n",
              "<table border=\"1\" class=\"dataframe\">\n",
              "  <thead>\n",
              "    <tr style=\"text-align: right;\">\n",
              "      <th></th>\n",
              "      <th>PassengerId</th>\n",
              "      <th>Survived</th>\n",
              "      <th>Pclass</th>\n",
              "      <th>Name</th>\n",
              "      <th>Sex</th>\n",
              "      <th>SibSp</th>\n",
              "      <th>Parch</th>\n",
              "      <th>Ticket</th>\n",
              "      <th>Fare</th>\n",
              "      <th>Cabin</th>\n",
              "      <th>Embarked</th>\n",
              "      <th>FamilySize</th>\n",
              "      <th>Age_cat</th>\n",
              "      <th>Initial_0</th>\n",
              "      <th>Initial_1</th>\n",
              "      <th>Initial_2</th>\n",
              "      <th>Initial_3</th>\n",
              "      <th>Initial_4</th>\n",
              "    </tr>\n",
              "  </thead>\n",
              "  <tbody>\n",
              "    <tr>\n",
              "      <th>0</th>\n",
              "      <td>1</td>\n",
              "      <td>0</td>\n",
              "      <td>3</td>\n",
              "      <td>Braund, Mr. Owen Harris</td>\n",
              "      <td>1</td>\n",
              "      <td>1</td>\n",
              "      <td>0</td>\n",
              "      <td>A/5 21171</td>\n",
              "      <td>1.981001</td>\n",
              "      <td>NaN</td>\n",
              "      <td>2</td>\n",
              "      <td>2</td>\n",
              "      <td>2</td>\n",
              "      <td>0</td>\n",
              "      <td>0</td>\n",
              "      <td>1</td>\n",
              "      <td>0</td>\n",
              "      <td>0</td>\n",
              "    </tr>\n",
              "    <tr>\n",
              "      <th>1</th>\n",
              "      <td>2</td>\n",
              "      <td>1</td>\n",
              "      <td>1</td>\n",
              "      <td>Cumings, Mrs. John Bradley (Florence Briggs Th...</td>\n",
              "      <td>0</td>\n",
              "      <td>1</td>\n",
              "      <td>0</td>\n",
              "      <td>PC 17599</td>\n",
              "      <td>4.266662</td>\n",
              "      <td>C85</td>\n",
              "      <td>0</td>\n",
              "      <td>2</td>\n",
              "      <td>3</td>\n",
              "      <td>0</td>\n",
              "      <td>0</td>\n",
              "      <td>0</td>\n",
              "      <td>1</td>\n",
              "      <td>0</td>\n",
              "    </tr>\n",
              "    <tr>\n",
              "      <th>2</th>\n",
              "      <td>3</td>\n",
              "      <td>1</td>\n",
              "      <td>3</td>\n",
              "      <td>Heikkinen, Miss. Laina</td>\n",
              "      <td>0</td>\n",
              "      <td>0</td>\n",
              "      <td>0</td>\n",
              "      <td>STON/O2. 3101282</td>\n",
              "      <td>2.070022</td>\n",
              "      <td>NaN</td>\n",
              "      <td>2</td>\n",
              "      <td>1</td>\n",
              "      <td>2</td>\n",
              "      <td>0</td>\n",
              "      <td>1</td>\n",
              "      <td>0</td>\n",
              "      <td>0</td>\n",
              "      <td>0</td>\n",
              "    </tr>\n",
              "    <tr>\n",
              "      <th>3</th>\n",
              "      <td>4</td>\n",
              "      <td>1</td>\n",
              "      <td>1</td>\n",
              "      <td>Futrelle, Mrs. Jacques Heath (Lily May Peel)</td>\n",
              "      <td>0</td>\n",
              "      <td>1</td>\n",
              "      <td>0</td>\n",
              "      <td>113803</td>\n",
              "      <td>3.972177</td>\n",
              "      <td>C123</td>\n",
              "      <td>2</td>\n",
              "      <td>2</td>\n",
              "      <td>3</td>\n",
              "      <td>0</td>\n",
              "      <td>0</td>\n",
              "      <td>0</td>\n",
              "      <td>1</td>\n",
              "      <td>0</td>\n",
              "    </tr>\n",
              "    <tr>\n",
              "      <th>4</th>\n",
              "      <td>5</td>\n",
              "      <td>0</td>\n",
              "      <td>3</td>\n",
              "      <td>Allen, Mr. William Henry</td>\n",
              "      <td>1</td>\n",
              "      <td>0</td>\n",
              "      <td>0</td>\n",
              "      <td>373450</td>\n",
              "      <td>2.085672</td>\n",
              "      <td>NaN</td>\n",
              "      <td>2</td>\n",
              "      <td>1</td>\n",
              "      <td>3</td>\n",
              "      <td>0</td>\n",
              "      <td>0</td>\n",
              "      <td>1</td>\n",
              "      <td>0</td>\n",
              "      <td>0</td>\n",
              "    </tr>\n",
              "  </tbody>\n",
              "</table>\n",
              "</div>"
            ],
            "text/plain": [
              "   PassengerId  Survived  Pclass  ... Initial_2  Initial_3  Initial_4\n",
              "0            1         0       3  ...         1          0          0\n",
              "1            2         1       1  ...         0          1          0\n",
              "2            3         1       3  ...         0          0          0\n",
              "3            4         1       1  ...         0          1          0\n",
              "4            5         0       3  ...         1          0          0\n",
              "\n",
              "[5 rows x 18 columns]"
            ]
          },
          "metadata": {
            "tags": []
          },
          "execution_count": 735
        }
      ]
    },
    {
      "cell_type": "markdown",
      "metadata": {
        "id": "z7ReKsESa42i"
      },
      "source": [
        "- 우리가 만들려고 했던 one-hot Columns가 생성된 것을 확인\n",
        "- Embarked 에도 적용하기"
      ]
    },
    {
      "cell_type": "code",
      "metadata": {
        "id": "pJKewQY6ayvP"
      },
      "source": [
        "df_train = pd.get_dummies(df_train,columns=['Embarked'], prefix='Embarked')\n",
        "df_test = pd.get_dummies(df_test,columns=['Embarked'], prefix='Embarked')"
      ],
      "execution_count": null,
      "outputs": []
    },
    {
      "cell_type": "markdown",
      "metadata": {
        "id": "63Qcvv4ZdzmA"
      },
      "source": [
        "- one-hot encoding 적용완료"
      ]
    },
    {
      "cell_type": "markdown",
      "metadata": {
        "id": "LAggw7LWeUkd"
      },
      "source": [
        "### 3.5 Drop columns"
      ]
    },
    {
      "cell_type": "code",
      "metadata": {
        "id": "EHuWN9D0bcql"
      },
      "source": [
        "df_train.drop(['PassengerId', 'Name', 'SibSp', 'Parch', 'Ticket',\n",
        "               'Cabin'], axis=1, inplace=True)\n",
        "df_test.drop(['PassengerId', 'Name', 'SibSp', 'Parch', 'Ticket',\n",
        "               'Cabin'], axis=1, inplace=True)"
      ],
      "execution_count": null,
      "outputs": []
    },
    {
      "cell_type": "markdown",
      "metadata": {
        "id": "GHbXJ3R4e_Yb"
      },
      "source": [
        "- 필요없는 columns 제거"
      ]
    },
    {
      "cell_type": "code",
      "metadata": {
        "colab": {
          "base_uri": "https://localhost:8080/",
          "height": 224
        },
        "id": "3fEEp9MPevUf",
        "outputId": "37cc1c35-3489-4579-fd00-07b25718d2d5"
      },
      "source": [
        "df_train.head()"
      ],
      "execution_count": null,
      "outputs": [
        {
          "output_type": "execute_result",
          "data": {
            "text/html": [
              "<div>\n",
              "<style scoped>\n",
              "    .dataframe tbody tr th:only-of-type {\n",
              "        vertical-align: middle;\n",
              "    }\n",
              "\n",
              "    .dataframe tbody tr th {\n",
              "        vertical-align: top;\n",
              "    }\n",
              "\n",
              "    .dataframe thead th {\n",
              "        text-align: right;\n",
              "    }\n",
              "</style>\n",
              "<table border=\"1\" class=\"dataframe\">\n",
              "  <thead>\n",
              "    <tr style=\"text-align: right;\">\n",
              "      <th></th>\n",
              "      <th>Survived</th>\n",
              "      <th>Pclass</th>\n",
              "      <th>Sex</th>\n",
              "      <th>Fare</th>\n",
              "      <th>FamilySize</th>\n",
              "      <th>Age_cat</th>\n",
              "      <th>Initial_0</th>\n",
              "      <th>Initial_1</th>\n",
              "      <th>Initial_2</th>\n",
              "      <th>Initial_3</th>\n",
              "      <th>Initial_4</th>\n",
              "      <th>Embarked_0</th>\n",
              "      <th>Embarked_1</th>\n",
              "      <th>Embarked_2</th>\n",
              "    </tr>\n",
              "  </thead>\n",
              "  <tbody>\n",
              "    <tr>\n",
              "      <th>0</th>\n",
              "      <td>0</td>\n",
              "      <td>3</td>\n",
              "      <td>1</td>\n",
              "      <td>1.981001</td>\n",
              "      <td>2</td>\n",
              "      <td>2</td>\n",
              "      <td>0</td>\n",
              "      <td>0</td>\n",
              "      <td>1</td>\n",
              "      <td>0</td>\n",
              "      <td>0</td>\n",
              "      <td>0</td>\n",
              "      <td>0</td>\n",
              "      <td>1</td>\n",
              "    </tr>\n",
              "    <tr>\n",
              "      <th>1</th>\n",
              "      <td>1</td>\n",
              "      <td>1</td>\n",
              "      <td>0</td>\n",
              "      <td>4.266662</td>\n",
              "      <td>2</td>\n",
              "      <td>3</td>\n",
              "      <td>0</td>\n",
              "      <td>0</td>\n",
              "      <td>0</td>\n",
              "      <td>1</td>\n",
              "      <td>0</td>\n",
              "      <td>1</td>\n",
              "      <td>0</td>\n",
              "      <td>0</td>\n",
              "    </tr>\n",
              "    <tr>\n",
              "      <th>2</th>\n",
              "      <td>1</td>\n",
              "      <td>3</td>\n",
              "      <td>0</td>\n",
              "      <td>2.070022</td>\n",
              "      <td>1</td>\n",
              "      <td>2</td>\n",
              "      <td>0</td>\n",
              "      <td>1</td>\n",
              "      <td>0</td>\n",
              "      <td>0</td>\n",
              "      <td>0</td>\n",
              "      <td>0</td>\n",
              "      <td>0</td>\n",
              "      <td>1</td>\n",
              "    </tr>\n",
              "    <tr>\n",
              "      <th>3</th>\n",
              "      <td>1</td>\n",
              "      <td>1</td>\n",
              "      <td>0</td>\n",
              "      <td>3.972177</td>\n",
              "      <td>2</td>\n",
              "      <td>3</td>\n",
              "      <td>0</td>\n",
              "      <td>0</td>\n",
              "      <td>0</td>\n",
              "      <td>1</td>\n",
              "      <td>0</td>\n",
              "      <td>0</td>\n",
              "      <td>0</td>\n",
              "      <td>1</td>\n",
              "    </tr>\n",
              "    <tr>\n",
              "      <th>4</th>\n",
              "      <td>0</td>\n",
              "      <td>3</td>\n",
              "      <td>1</td>\n",
              "      <td>2.085672</td>\n",
              "      <td>1</td>\n",
              "      <td>3</td>\n",
              "      <td>0</td>\n",
              "      <td>0</td>\n",
              "      <td>1</td>\n",
              "      <td>0</td>\n",
              "      <td>0</td>\n",
              "      <td>0</td>\n",
              "      <td>0</td>\n",
              "      <td>1</td>\n",
              "    </tr>\n",
              "  </tbody>\n",
              "</table>\n",
              "</div>"
            ],
            "text/plain": [
              "   Survived  Pclass  Sex  ...  Embarked_0  Embarked_1  Embarked_2\n",
              "0         0       3    1  ...           0           0           1\n",
              "1         1       1    0  ...           1           0           0\n",
              "2         1       3    0  ...           0           0           1\n",
              "3         1       1    0  ...           0           0           1\n",
              "4         0       3    1  ...           0           0           1\n",
              "\n",
              "[5 rows x 14 columns]"
            ]
          },
          "metadata": {
            "tags": []
          },
          "execution_count": 738
        }
      ]
    },
    {
      "cell_type": "code",
      "metadata": {
        "colab": {
          "base_uri": "https://localhost:8080/",
          "height": 224
        },
        "id": "INmi4Wv5ez3s",
        "outputId": "9a500854-1e30-4782-eb7a-8bff9f94c7cc"
      },
      "source": [
        "df_test.head()"
      ],
      "execution_count": null,
      "outputs": [
        {
          "output_type": "execute_result",
          "data": {
            "text/html": [
              "<div>\n",
              "<style scoped>\n",
              "    .dataframe tbody tr th:only-of-type {\n",
              "        vertical-align: middle;\n",
              "    }\n",
              "\n",
              "    .dataframe tbody tr th {\n",
              "        vertical-align: top;\n",
              "    }\n",
              "\n",
              "    .dataframe thead th {\n",
              "        text-align: right;\n",
              "    }\n",
              "</style>\n",
              "<table border=\"1\" class=\"dataframe\">\n",
              "  <thead>\n",
              "    <tr style=\"text-align: right;\">\n",
              "      <th></th>\n",
              "      <th>Pclass</th>\n",
              "      <th>Sex</th>\n",
              "      <th>Fare</th>\n",
              "      <th>FamilySize</th>\n",
              "      <th>Age_cat</th>\n",
              "      <th>Initial_0</th>\n",
              "      <th>Initial_1</th>\n",
              "      <th>Initial_2</th>\n",
              "      <th>Initial_3</th>\n",
              "      <th>Initial_4</th>\n",
              "      <th>Embarked_0</th>\n",
              "      <th>Embarked_1</th>\n",
              "      <th>Embarked_2</th>\n",
              "    </tr>\n",
              "  </thead>\n",
              "  <tbody>\n",
              "    <tr>\n",
              "      <th>0</th>\n",
              "      <td>3</td>\n",
              "      <td>1</td>\n",
              "      <td>2.057860</td>\n",
              "      <td>1</td>\n",
              "      <td>3</td>\n",
              "      <td>0</td>\n",
              "      <td>0</td>\n",
              "      <td>1</td>\n",
              "      <td>0</td>\n",
              "      <td>0</td>\n",
              "      <td>0</td>\n",
              "      <td>1</td>\n",
              "      <td>0</td>\n",
              "    </tr>\n",
              "    <tr>\n",
              "      <th>1</th>\n",
              "      <td>3</td>\n",
              "      <td>0</td>\n",
              "      <td>1.945910</td>\n",
              "      <td>2</td>\n",
              "      <td>4</td>\n",
              "      <td>0</td>\n",
              "      <td>0</td>\n",
              "      <td>0</td>\n",
              "      <td>1</td>\n",
              "      <td>0</td>\n",
              "      <td>0</td>\n",
              "      <td>0</td>\n",
              "      <td>1</td>\n",
              "    </tr>\n",
              "    <tr>\n",
              "      <th>2</th>\n",
              "      <td>2</td>\n",
              "      <td>1</td>\n",
              "      <td>2.270836</td>\n",
              "      <td>1</td>\n",
              "      <td>6</td>\n",
              "      <td>0</td>\n",
              "      <td>0</td>\n",
              "      <td>1</td>\n",
              "      <td>0</td>\n",
              "      <td>0</td>\n",
              "      <td>0</td>\n",
              "      <td>1</td>\n",
              "      <td>0</td>\n",
              "    </tr>\n",
              "    <tr>\n",
              "      <th>3</th>\n",
              "      <td>3</td>\n",
              "      <td>1</td>\n",
              "      <td>2.159003</td>\n",
              "      <td>1</td>\n",
              "      <td>2</td>\n",
              "      <td>0</td>\n",
              "      <td>0</td>\n",
              "      <td>1</td>\n",
              "      <td>0</td>\n",
              "      <td>0</td>\n",
              "      <td>0</td>\n",
              "      <td>0</td>\n",
              "      <td>1</td>\n",
              "    </tr>\n",
              "    <tr>\n",
              "      <th>4</th>\n",
              "      <td>3</td>\n",
              "      <td>0</td>\n",
              "      <td>2.508582</td>\n",
              "      <td>3</td>\n",
              "      <td>2</td>\n",
              "      <td>0</td>\n",
              "      <td>0</td>\n",
              "      <td>0</td>\n",
              "      <td>1</td>\n",
              "      <td>0</td>\n",
              "      <td>0</td>\n",
              "      <td>0</td>\n",
              "      <td>1</td>\n",
              "    </tr>\n",
              "  </tbody>\n",
              "</table>\n",
              "</div>"
            ],
            "text/plain": [
              "   Pclass  Sex      Fare  ...  Embarked_0  Embarked_1  Embarked_2\n",
              "0       3    1  2.057860  ...           0           1           0\n",
              "1       3    0  1.945910  ...           0           0           1\n",
              "2       2    1  2.270836  ...           0           1           0\n",
              "3       3    1  2.159003  ...           0           0           1\n",
              "4       3    0  2.508582  ...           0           0           1\n",
              "\n",
              "[5 rows x 13 columns]"
            ]
          },
          "metadata": {
            "tags": []
          },
          "execution_count": 739
        }
      ]
    },
    {
      "cell_type": "markdown",
      "metadata": {
        "id": "3XA0_nN1fUop"
      },
      "source": [
        "## 4. Building marchine learning model and prediction using the trained model\n",
        "- sklearn을 사용해 머신러닝 모델을 만들어보자\n",
        "- 타이타닉 문제는 target class(Survived)가 있으며, target class는 0, 1로 이루어져 있으므로 binary classfication 문제입니다.\n",
        "- 우리가 가지고 있는 train set 의 Survived를 제외한 Input 을 가지고 모델을 최적화 시켜서 각 샘플(탑승객)의 생존 유무를 판단하는 모델을 만들어 냅니다.\n",
        "- 그 후 모델이 학습하지 않았던 test set 을 input 으로 줘서 test set 의 각 샘플 (탑승객)의 생존 유무를 예측해봅니다."
      ]
    },
    {
      "cell_type": "code",
      "metadata": {
        "id": "L3rsdhF_e6AY"
      },
      "source": [
        "#importing all the required ML packages\n",
        "from sklearn.ensemble import RandomForestClassifier\n",
        "from sklearn import metrics\n",
        "from sklearn.model_selection import train_test_split"
      ],
      "execution_count": null,
      "outputs": []
    },
    {
      "cell_type": "markdown",
      "metadata": {
        "id": "akp2UfdpgcQQ"
      },
      "source": [
        "- 설명\n",
        " - 모델은 RandomForestClassifier\n",
        " - metrics는 모델의 평가를 위해 사용합니다.\n",
        " - train_test_split는 traning set을 쉽게 나눠주는 함수입니다.\n",
        "\n",
        "\n"
      ]
    },
    {
      "cell_type": "markdown",
      "metadata": {
        "id": "2rXGZMRXjCTZ"
      },
      "source": [
        "### 4.1 Preparation - Split dataset into train, valid, test set\n",
        "- 랜덤포레스트는 결정트리기반 모델이며, 여러 결정 트리들을 앙상블한 모델입니다. 더 구체적인 모델 설명은 여러 블로그들 참고하시면 될 것이고, 저도 한번 추후 다뤄보겠습니다.\n",
        "- 먼저, 학습에 쓰일 데이터와, target label(Survived)를 분리합니다."
      ]
    },
    {
      "cell_type": "code",
      "metadata": {
        "id": "m9K5FV27heTw"
      },
      "source": [
        "X_train = df_train.drop('Survived', axis=1).values\n",
        "target_label = df_train['Survived'].values\n",
        "X_test = df_test.values"
      ],
      "execution_count": null,
      "outputs": []
    },
    {
      "cell_type": "code",
      "metadata": {
        "id": "c1-K-NYMj3jD"
      },
      "source": [
        "X_tr, X_vld, y_tr, y_vld = train_test_split(X_train, target_label, test_size=0.3, random_state=2021)"
      ],
      "execution_count": null,
      "outputs": []
    },
    {
      "cell_type": "markdown",
      "metadata": {
        "id": "nREZ3AFlk7LI"
      },
      "source": [
        "- train_test_split 을 사용하여 쉽게 train 셋을 분리할 수 있습니다."
      ]
    },
    {
      "cell_type": "markdown",
      "metadata": {
        "id": "KYVNsZg2lzUb"
      },
      "source": [
        "### 4.2 Model generation and prediction"
      ]
    },
    {
      "cell_type": "code",
      "metadata": {
        "id": "8HhNKerNk5tf"
      },
      "source": [
        "model = RandomForestClassifier()\n",
        "model.fit(X_tr, y_tr)\n",
        "prediction = model.predict(X_vld)"
      ],
      "execution_count": null,
      "outputs": []
    },
    {
      "cell_type": "code",
      "metadata": {
        "colab": {
          "base_uri": "https://localhost:8080/"
        },
        "id": "eH3YGs3MmaIG",
        "outputId": "83eb3e6c-6c31-4ae1-8b44-ebb808541cb2"
      },
      "source": [
        "print('총 {}명 중 {:.2f}% 정확도로 생존을 맞춤'.format(y_vld.shape[0], 100 * metrics.accuracy_score(prediction, y_vld)))"
      ],
      "execution_count": null,
      "outputs": [
        {
          "output_type": "stream",
          "text": [
            "총 268명 중 78.73% 정확도로 생존을 맞춤\n"
          ],
          "name": "stdout"
        }
      ]
    },
    {
      "cell_type": "markdown",
      "metadata": {
        "id": "y5zXBONrs5g4"
      },
      "source": [
        "### 4.3 Feature improtance\n",
        "- 학습된 모델은 기본적으로 feature importances 를 가지고 있어서 쉽게 그 수치를 얻을 수 있습니다\n",
        "- pandas series 를 이용하여 sorting 을 하여 그래프를 그릴 수 있습니다."
      ]
    },
    {
      "cell_type": "code",
      "metadata": {
        "id": "ORR5GqUMpMNd"
      },
      "source": [
        "from pandas import Series\n",
        "\n",
        "feature_importance = model.feature_importances_\n",
        "Series_feat_imp = Series(feature_importance, index=df_test.columns)"
      ],
      "execution_count": null,
      "outputs": []
    },
    {
      "cell_type": "code",
      "metadata": {
        "colab": {
          "base_uri": "https://localhost:8080/",
          "height": 496
        },
        "id": "06WMO141ttfb",
        "outputId": "701cdcda-00f4-4dd4-f42d-0f53a3fb22aa"
      },
      "source": [
        "plt.figure(figsize=(8, 8))\n",
        "Series_feat_imp.sort_values(ascending=True).plot.barh()\n",
        "plt.xlabel('Feature importance')\n",
        "plt.ylabel('Feature')\n",
        "plt.show()"
      ],
      "execution_count": null,
      "outputs": [
        {
          "output_type": "display_data",
          "data": {
            "image/png": "[encoded data removed]",
            "text/plain": [
              "<Figure size 576x576 with 1 Axes>"
            ]
          },
          "metadata": {
            "tags": [],
            "needs_background": "light"
          }
        }
      ]
    },
    {
      "cell_type": "markdown",
      "metadata": {
        "id": "AoS1bqspuR-Q"
      },
      "source": [
        "- 우리가 얻은 모델에서는 Fare 가 가장 큰 영향력을 가지며, 그 뒤로는 Initial_2, Age_cat, Pclass가 순으로 중요도를 가집니다.\n",
        "- 이 feature importance 를 보고 실제로 Fare 가 중요한 feature 일 수도 있다고 판단을 내릴 수는 있지만, 이것은 결국 모델에 귀속되는 하나의 결론이므로 조금 더 통계적을 살펴봐야 합니다."
      ]
    },
    {
      "cell_type": "markdown",
      "metadata": {
        "id": "GYodSc3Gwc9a"
      },
      "source": [
        "### 4.4 Prediction on Test set\n",
        "- 이제 학습하지 않았던 테스트셋을 모델에 주어서, 생존여부를 예측해보겠습니다.\n",
        "- 캐글에서 준 파일, gender_submission.csv 파일을 일겅서 제출 준비를 하겠습니다."
      ]
    },
    {
      "cell_type": "code",
      "metadata": {
        "id": "aR8Ukjw0uBNJ"
      },
      "source": [
        "submission = pd.read_csv('sample_submission.csv')"
      ],
      "execution_count": null,
      "outputs": []
    },
    {
      "cell_type": "code",
      "metadata": {
        "colab": {
          "base_uri": "https://localhost:8080/",
          "height": 419
        },
        "id": "-yOlSR-L3rmq",
        "outputId": "70748c2c-8e4d-4088-8a1a-5da99805e22f"
      },
      "source": [
        "submission"
      ],
      "execution_count": null,
      "outputs": [
        {
          "output_type": "execute_result",
          "data": {
            "text/html": [
              "<div>\n",
              "<style scoped>\n",
              "    .dataframe tbody tr th:only-of-type {\n",
              "        vertical-align: middle;\n",
              "    }\n",
              "\n",
              "    .dataframe tbody tr th {\n",
              "        vertical-align: top;\n",
              "    }\n",
              "\n",
              "    .dataframe thead th {\n",
              "        text-align: right;\n",
              "    }\n",
              "</style>\n",
              "<table border=\"1\" class=\"dataframe\">\n",
              "  <thead>\n",
              "    <tr style=\"text-align: right;\">\n",
              "      <th></th>\n",
              "      <th>PassengerId</th>\n",
              "      <th>Survived</th>\n",
              "    </tr>\n",
              "  </thead>\n",
              "  <tbody>\n",
              "    <tr>\n",
              "      <th>0</th>\n",
              "      <td>892</td>\n",
              "      <td>0</td>\n",
              "    </tr>\n",
              "    <tr>\n",
              "      <th>1</th>\n",
              "      <td>893</td>\n",
              "      <td>0</td>\n",
              "    </tr>\n",
              "    <tr>\n",
              "      <th>2</th>\n",
              "      <td>894</td>\n",
              "      <td>0</td>\n",
              "    </tr>\n",
              "    <tr>\n",
              "      <th>3</th>\n",
              "      <td>895</td>\n",
              "      <td>0</td>\n",
              "    </tr>\n",
              "    <tr>\n",
              "      <th>4</th>\n",
              "      <td>896</td>\n",
              "      <td>0</td>\n",
              "    </tr>\n",
              "    <tr>\n",
              "      <th>...</th>\n",
              "      <td>...</td>\n",
              "      <td>...</td>\n",
              "    </tr>\n",
              "    <tr>\n",
              "      <th>413</th>\n",
              "      <td>1305</td>\n",
              "      <td>0</td>\n",
              "    </tr>\n",
              "    <tr>\n",
              "      <th>414</th>\n",
              "      <td>1306</td>\n",
              "      <td>0</td>\n",
              "    </tr>\n",
              "    <tr>\n",
              "      <th>415</th>\n",
              "      <td>1307</td>\n",
              "      <td>0</td>\n",
              "    </tr>\n",
              "    <tr>\n",
              "      <th>416</th>\n",
              "      <td>1308</td>\n",
              "      <td>0</td>\n",
              "    </tr>\n",
              "    <tr>\n",
              "      <th>417</th>\n",
              "      <td>1309</td>\n",
              "      <td>0</td>\n",
              "    </tr>\n",
              "  </tbody>\n",
              "</table>\n",
              "<p>418 rows × 2 columns</p>\n",
              "</div>"
            ],
            "text/plain": [
              "     PassengerId  Survived\n",
              "0            892         0\n",
              "1            893         0\n",
              "2            894         0\n",
              "3            895         0\n",
              "4            896         0\n",
              "..           ...       ...\n",
              "413         1305         0\n",
              "414         1306         0\n",
              "415         1307         0\n",
              "416         1308         0\n",
              "417         1309         0\n",
              "\n",
              "[418 rows x 2 columns]"
            ]
          },
          "metadata": {
            "tags": []
          },
          "execution_count": 753
        }
      ]
    },
    {
      "cell_type": "markdown",
      "metadata": {
        "id": "hVqwF3Hd4OgA"
      },
      "source": [
        "- 이제 testset 에 대하여 예측을 하고, 결과를 csv 파일로 저장해보겠습니다."
      ]
    },
    {
      "cell_type": "code",
      "metadata": {
        "id": "rgHUZUuI32r9"
      },
      "source": [
        "prediction = model.predict(X_test)\n",
        "submission['Survived'] = prediction"
      ],
      "execution_count": null,
      "outputs": []
    },
    {
      "cell_type": "code",
      "metadata": {
        "id": "pPqbwAX2yxqP"
      },
      "source": [
        "submission.to_csv('first_submission.csv', index=False)"
      ],
      "execution_count": null,
      "outputs": []
    }
  ]
}
